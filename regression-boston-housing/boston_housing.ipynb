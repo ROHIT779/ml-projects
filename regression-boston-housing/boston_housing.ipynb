{
  "cells": [
    {
      "cell_type": "markdown",
      "source": [
        "## Defining the problem - clearly identifying the problem to be solved\n",
        "Boston Housing - Regression problem\n"
      ],
      "metadata": {
        "id": "E6hdEQCGZgzT"
      },
      "id": "E6hdEQCGZgzT"
    },
    {
      "cell_type": "markdown",
      "source": [
        "## Data Collection - gathering necessary data from various sources"
      ],
      "metadata": {
        "id": "AMl8KV-AZ1Ae"
      },
      "id": "AMl8KV-AZ1Ae"
    },
    {
      "cell_type": "markdown",
      "source": [
        "Importing the necessary libraries and defining the functions"
      ],
      "metadata": {
        "id": "qB0SJq-mgbxm"
      },
      "id": "qB0SJq-mgbxm"
    },
    {
      "cell_type": "code",
      "execution_count": 534,
      "id": "a812968c-79de-468d-9f11-5b62a053a5f9",
      "metadata": {
        "id": "a812968c-79de-468d-9f11-5b62a053a5f9"
      },
      "outputs": [],
      "source": [
        "# importing libraries\n",
        "import numpy as np\n",
        "import pandas as pd\n",
        "from sklearn.model_selection import train_test_split\n",
        "import matplotlib.pyplot as plt\n",
        "from sklearn.linear_model import LinearRegression\n",
        "from sklearn.metrics import r2_score\n",
        "from sklearn.metrics import mean_squared_error\n",
        "import statsmodels.api as sm\n",
        "from statsmodels.stats.outliers_influence import variance_inflation_factor"
      ]
    },
    {
      "cell_type": "code",
      "execution_count": 535,
      "id": "86c72589-3485-4b49-b3bd-7f952d9ecf21",
      "metadata": {
        "id": "86c72589-3485-4b49-b3bd-7f952d9ecf21"
      },
      "outputs": [],
      "source": [
        "# functions required\n",
        "# calculate r-squared\n",
        "def calculate_r2(y_pred, y_test):\n",
        "    print(\"***** R2_score from sklearn.metrics: *****\")\n",
        "    print(r2_score(y_pred, y_test))\n",
        "    print(\"y_test variance: \")\n",
        "    print(y_test.var())\n",
        "    print(\"y_test size: \")\n",
        "    print(y_test.size)\n",
        "    rse = float(((y_test - y_pred) **2).sum()) / float(y_test.size)\n",
        "    print(\"RSE: \")\n",
        "    print(rse)\n",
        "    r2 = 1 - float(rse/y_test.var())\n",
        "    print(\"***** R2 calculated for test observations: *****\")\n",
        "    print(r2)\n",
        "\n",
        "def get_test_size():\n",
        "    return 0.2\n",
        "\n",
        "def get_random_state():\n",
        "    return 0\n",
        "\n",
        "# forward selection to select features\n",
        "def forward_selection(X, y, max_features=None):\n",
        "    remaining_features = list(X.columns)\n",
        "    selected_features = []\n",
        "    current_best_score = float('inf')\n",
        "\n",
        "    if max_features is None:\n",
        "        max_features = len(remaining_features)\n",
        "\n",
        "    while remaining_features and len(selected_features) < max_features:\n",
        "        best_feature = None\n",
        "        for feature in remaining_features:\n",
        "            temp_features = selected_features + [feature]\n",
        "            model = LinearRegression()\n",
        "            model.fit(X[temp_features], y)\n",
        "            predictions = model.predict(X[temp_features])\n",
        "            score = mean_squared_error(y, predictions)\n",
        "\n",
        "            if score < current_best_score:\n",
        "                current_best_score = score\n",
        "                best_feature = feature\n",
        "\n",
        "        if best_feature is not None:\n",
        "            selected_features.append(best_feature)\n",
        "            remaining_features.remove(best_feature)\n",
        "            print(f\"Added feature: {best_feature}, Current MSE: {current_best_score}\")\n",
        "            current_best_score = float('inf')\n",
        "        else:\n",
        "             break\n",
        "    return selected_features\n",
        "\n",
        "# backward selection to select features\n",
        "def backward_selection(X, y, min_features=1):\n",
        "    selected_features = list(X.columns)\n",
        "    current_best_score = float('inf')\n",
        "\n",
        "    while len(selected_features) > min_features:\n",
        "        worst_feature = None\n",
        "        for feature in selected_features:\n",
        "            temp_features = [f for f in selected_features if f != feature]\n",
        "            model = LinearRegression()\n",
        "            model.fit(X[temp_features], y)\n",
        "            predictions = model.predict(X[temp_features])\n",
        "            score = mean_squared_error(y, predictions)\n",
        "\n",
        "            if score < current_best_score:\n",
        "                current_best_score = score\n",
        "                worst_feature = feature\n",
        "\n",
        "        if worst_feature is not None:\n",
        "            selected_features.remove(worst_feature)\n",
        "            print(f\"Removed feature: {worst_feature}, Current MSE: {current_best_score}\")\n",
        "            current_best_score = float('inf')\n",
        "        else:\n",
        "            break\n",
        "    return selected_features\n",
        "\n",
        "# transformations\n",
        "def log_transform(data):\n",
        "  return np.log(data)\n",
        "\n",
        "def square_root_transform(data):\n",
        "  return np.sqrt(data)\n",
        "\n",
        "def log_10_transform(data):\n",
        "  return np.log10(data)\n",
        "\n",
        "def inverse_transform(data):\n",
        "  return 1/data"
      ]
    },
    {
      "cell_type": "markdown",
      "source": [
        "## Data Cleaning and pre-processing"
      ],
      "metadata": {
        "id": "47ducN5ZgX3Q"
      },
      "id": "47ducN5ZgX3Q"
    },
    {
      "cell_type": "code",
      "execution_count": 536,
      "id": "c86b4c93-0c15-431a-95fa-3796736a5919",
      "metadata": {
        "id": "c86b4c93-0c15-431a-95fa-3796736a5919",
        "colab": {
          "base_uri": "https://localhost:8080/",
          "height": 241
        },
        "outputId": "5d244767-6006-415d-acb5-5da239152b3e"
      },
      "outputs": [
        {
          "output_type": "stream",
          "name": "stderr",
          "text": [
            "/tmp/ipython-input-1225195446.py:3: FutureWarning: The 'delim_whitespace' keyword in pd.read_csv is deprecated and will be removed in a future version. Use ``sep='\\s+'`` instead\n",
            "  df = pd.read_csv(\"housing.csv\", delim_whitespace=True, names = BHname)\n"
          ]
        },
        {
          "output_type": "execute_result",
          "data": {
            "text/plain": [
              "      CRIM    ZN  INDUS  CHAS    NOX     RM   AGE     DIS  RAD    TAX  \\\n",
              "0  0.00632  18.0   2.31     0  0.538  6.575  65.2  4.0900    1  296.0   \n",
              "1  0.02731   0.0   7.07     0  0.469  6.421  78.9  4.9671    2  242.0   \n",
              "2  0.02729   0.0   7.07     0  0.469  7.185  61.1  4.9671    2  242.0   \n",
              "3  0.03237   0.0   2.18     0  0.458  6.998  45.8  6.0622    3  222.0   \n",
              "4  0.06905   0.0   2.18     0  0.458  7.147  54.2  6.0622    3  222.0   \n",
              "\n",
              "   PTRATIO       B  LSTAT  MEDV  \n",
              "0     15.3  396.90   4.98  24.0  \n",
              "1     17.8  396.90   9.14  21.6  \n",
              "2     17.8  392.83   4.03  34.7  \n",
              "3     18.7  394.63   2.94  33.4  \n",
              "4     18.7  396.90   5.33  36.2  "
            ],
            "text/html": [
              "\n",
              "  <div id=\"df-cc75ce1d-0bd6-4db9-a9de-2b8c0e5ed4c5\" class=\"colab-df-container\">\n",
              "    <div>\n",
              "<style scoped>\n",
              "    .dataframe tbody tr th:only-of-type {\n",
              "        vertical-align: middle;\n",
              "    }\n",
              "\n",
              "    .dataframe tbody tr th {\n",
              "        vertical-align: top;\n",
              "    }\n",
              "\n",
              "    .dataframe thead th {\n",
              "        text-align: right;\n",
              "    }\n",
              "</style>\n",
              "<table border=\"1\" class=\"dataframe\">\n",
              "  <thead>\n",
              "    <tr style=\"text-align: right;\">\n",
              "      <th></th>\n",
              "      <th>CRIM</th>\n",
              "      <th>ZN</th>\n",
              "      <th>INDUS</th>\n",
              "      <th>CHAS</th>\n",
              "      <th>NOX</th>\n",
              "      <th>RM</th>\n",
              "      <th>AGE</th>\n",
              "      <th>DIS</th>\n",
              "      <th>RAD</th>\n",
              "      <th>TAX</th>\n",
              "      <th>PTRATIO</th>\n",
              "      <th>B</th>\n",
              "      <th>LSTAT</th>\n",
              "      <th>MEDV</th>\n",
              "    </tr>\n",
              "  </thead>\n",
              "  <tbody>\n",
              "    <tr>\n",
              "      <th>0</th>\n",
              "      <td>0.00632</td>\n",
              "      <td>18.0</td>\n",
              "      <td>2.31</td>\n",
              "      <td>0</td>\n",
              "      <td>0.538</td>\n",
              "      <td>6.575</td>\n",
              "      <td>65.2</td>\n",
              "      <td>4.0900</td>\n",
              "      <td>1</td>\n",
              "      <td>296.0</td>\n",
              "      <td>15.3</td>\n",
              "      <td>396.90</td>\n",
              "      <td>4.98</td>\n",
              "      <td>24.0</td>\n",
              "    </tr>\n",
              "    <tr>\n",
              "      <th>1</th>\n",
              "      <td>0.02731</td>\n",
              "      <td>0.0</td>\n",
              "      <td>7.07</td>\n",
              "      <td>0</td>\n",
              "      <td>0.469</td>\n",
              "      <td>6.421</td>\n",
              "      <td>78.9</td>\n",
              "      <td>4.9671</td>\n",
              "      <td>2</td>\n",
              "      <td>242.0</td>\n",
              "      <td>17.8</td>\n",
              "      <td>396.90</td>\n",
              "      <td>9.14</td>\n",
              "      <td>21.6</td>\n",
              "    </tr>\n",
              "    <tr>\n",
              "      <th>2</th>\n",
              "      <td>0.02729</td>\n",
              "      <td>0.0</td>\n",
              "      <td>7.07</td>\n",
              "      <td>0</td>\n",
              "      <td>0.469</td>\n",
              "      <td>7.185</td>\n",
              "      <td>61.1</td>\n",
              "      <td>4.9671</td>\n",
              "      <td>2</td>\n",
              "      <td>242.0</td>\n",
              "      <td>17.8</td>\n",
              "      <td>392.83</td>\n",
              "      <td>4.03</td>\n",
              "      <td>34.7</td>\n",
              "    </tr>\n",
              "    <tr>\n",
              "      <th>3</th>\n",
              "      <td>0.03237</td>\n",
              "      <td>0.0</td>\n",
              "      <td>2.18</td>\n",
              "      <td>0</td>\n",
              "      <td>0.458</td>\n",
              "      <td>6.998</td>\n",
              "      <td>45.8</td>\n",
              "      <td>6.0622</td>\n",
              "      <td>3</td>\n",
              "      <td>222.0</td>\n",
              "      <td>18.7</td>\n",
              "      <td>394.63</td>\n",
              "      <td>2.94</td>\n",
              "      <td>33.4</td>\n",
              "    </tr>\n",
              "    <tr>\n",
              "      <th>4</th>\n",
              "      <td>0.06905</td>\n",
              "      <td>0.0</td>\n",
              "      <td>2.18</td>\n",
              "      <td>0</td>\n",
              "      <td>0.458</td>\n",
              "      <td>7.147</td>\n",
              "      <td>54.2</td>\n",
              "      <td>6.0622</td>\n",
              "      <td>3</td>\n",
              "      <td>222.0</td>\n",
              "      <td>18.7</td>\n",
              "      <td>396.90</td>\n",
              "      <td>5.33</td>\n",
              "      <td>36.2</td>\n",
              "    </tr>\n",
              "  </tbody>\n",
              "</table>\n",
              "</div>\n",
              "    <div class=\"colab-df-buttons\">\n",
              "\n",
              "  <div class=\"colab-df-container\">\n",
              "    <button class=\"colab-df-convert\" onclick=\"convertToInteractive('df-cc75ce1d-0bd6-4db9-a9de-2b8c0e5ed4c5')\"\n",
              "            title=\"Convert this dataframe to an interactive table.\"\n",
              "            style=\"display:none;\">\n",
              "\n",
              "  <svg xmlns=\"http://www.w3.org/2000/svg\" height=\"24px\" viewBox=\"0 -960 960 960\">\n",
              "    <path d=\"M120-120v-720h720v720H120Zm60-500h600v-160H180v160Zm220 220h160v-160H400v160Zm0 220h160v-160H400v160ZM180-400h160v-160H180v160Zm440 0h160v-160H620v160ZM180-180h160v-160H180v160Zm440 0h160v-160H620v160Z\"/>\n",
              "  </svg>\n",
              "    </button>\n",
              "\n",
              "  <style>\n",
              "    .colab-df-container {\n",
              "      display:flex;\n",
              "      gap: 12px;\n",
              "    }\n",
              "\n",
              "    .colab-df-convert {\n",
              "      background-color: #E8F0FE;\n",
              "      border: none;\n",
              "      border-radius: 50%;\n",
              "      cursor: pointer;\n",
              "      display: none;\n",
              "      fill: #1967D2;\n",
              "      height: 32px;\n",
              "      padding: 0 0 0 0;\n",
              "      width: 32px;\n",
              "    }\n",
              "\n",
              "    .colab-df-convert:hover {\n",
              "      background-color: #E2EBFA;\n",
              "      box-shadow: 0px 1px 2px rgba(60, 64, 67, 0.3), 0px 1px 3px 1px rgba(60, 64, 67, 0.15);\n",
              "      fill: #174EA6;\n",
              "    }\n",
              "\n",
              "    .colab-df-buttons div {\n",
              "      margin-bottom: 4px;\n",
              "    }\n",
              "\n",
              "    [theme=dark] .colab-df-convert {\n",
              "      background-color: #3B4455;\n",
              "      fill: #D2E3FC;\n",
              "    }\n",
              "\n",
              "    [theme=dark] .colab-df-convert:hover {\n",
              "      background-color: #434B5C;\n",
              "      box-shadow: 0px 1px 3px 1px rgba(0, 0, 0, 0.15);\n",
              "      filter: drop-shadow(0px 1px 2px rgba(0, 0, 0, 0.3));\n",
              "      fill: #FFFFFF;\n",
              "    }\n",
              "  </style>\n",
              "\n",
              "    <script>\n",
              "      const buttonEl =\n",
              "        document.querySelector('#df-cc75ce1d-0bd6-4db9-a9de-2b8c0e5ed4c5 button.colab-df-convert');\n",
              "      buttonEl.style.display =\n",
              "        google.colab.kernel.accessAllowed ? 'block' : 'none';\n",
              "\n",
              "      async function convertToInteractive(key) {\n",
              "        const element = document.querySelector('#df-cc75ce1d-0bd6-4db9-a9de-2b8c0e5ed4c5');\n",
              "        const dataTable =\n",
              "          await google.colab.kernel.invokeFunction('convertToInteractive',\n",
              "                                                    [key], {});\n",
              "        if (!dataTable) return;\n",
              "\n",
              "        const docLinkHtml = 'Like what you see? Visit the ' +\n",
              "          '<a target=\"_blank\" href=https://colab.research.google.com/notebooks/data_table.ipynb>data table notebook</a>'\n",
              "          + ' to learn more about interactive tables.';\n",
              "        element.innerHTML = '';\n",
              "        dataTable['output_type'] = 'display_data';\n",
              "        await google.colab.output.renderOutput(dataTable, element);\n",
              "        const docLink = document.createElement('div');\n",
              "        docLink.innerHTML = docLinkHtml;\n",
              "        element.appendChild(docLink);\n",
              "      }\n",
              "    </script>\n",
              "  </div>\n",
              "\n",
              "\n",
              "    <div id=\"df-0f51e24b-fb89-4a16-aacf-b8bbf8909651\">\n",
              "      <button class=\"colab-df-quickchart\" onclick=\"quickchart('df-0f51e24b-fb89-4a16-aacf-b8bbf8909651')\"\n",
              "                title=\"Suggest charts\"\n",
              "                style=\"display:none;\">\n",
              "\n",
              "<svg xmlns=\"http://www.w3.org/2000/svg\" height=\"24px\"viewBox=\"0 0 24 24\"\n",
              "     width=\"24px\">\n",
              "    <g>\n",
              "        <path d=\"M19 3H5c-1.1 0-2 .9-2 2v14c0 1.1.9 2 2 2h14c1.1 0 2-.9 2-2V5c0-1.1-.9-2-2-2zM9 17H7v-7h2v7zm4 0h-2V7h2v10zm4 0h-2v-4h2v4z\"/>\n",
              "    </g>\n",
              "</svg>\n",
              "      </button>\n",
              "\n",
              "<style>\n",
              "  .colab-df-quickchart {\n",
              "      --bg-color: #E8F0FE;\n",
              "      --fill-color: #1967D2;\n",
              "      --hover-bg-color: #E2EBFA;\n",
              "      --hover-fill-color: #174EA6;\n",
              "      --disabled-fill-color: #AAA;\n",
              "      --disabled-bg-color: #DDD;\n",
              "  }\n",
              "\n",
              "  [theme=dark] .colab-df-quickchart {\n",
              "      --bg-color: #3B4455;\n",
              "      --fill-color: #D2E3FC;\n",
              "      --hover-bg-color: #434B5C;\n",
              "      --hover-fill-color: #FFFFFF;\n",
              "      --disabled-bg-color: #3B4455;\n",
              "      --disabled-fill-color: #666;\n",
              "  }\n",
              "\n",
              "  .colab-df-quickchart {\n",
              "    background-color: var(--bg-color);\n",
              "    border: none;\n",
              "    border-radius: 50%;\n",
              "    cursor: pointer;\n",
              "    display: none;\n",
              "    fill: var(--fill-color);\n",
              "    height: 32px;\n",
              "    padding: 0;\n",
              "    width: 32px;\n",
              "  }\n",
              "\n",
              "  .colab-df-quickchart:hover {\n",
              "    background-color: var(--hover-bg-color);\n",
              "    box-shadow: 0 1px 2px rgba(60, 64, 67, 0.3), 0 1px 3px 1px rgba(60, 64, 67, 0.15);\n",
              "    fill: var(--button-hover-fill-color);\n",
              "  }\n",
              "\n",
              "  .colab-df-quickchart-complete:disabled,\n",
              "  .colab-df-quickchart-complete:disabled:hover {\n",
              "    background-color: var(--disabled-bg-color);\n",
              "    fill: var(--disabled-fill-color);\n",
              "    box-shadow: none;\n",
              "  }\n",
              "\n",
              "  .colab-df-spinner {\n",
              "    border: 2px solid var(--fill-color);\n",
              "    border-color: transparent;\n",
              "    border-bottom-color: var(--fill-color);\n",
              "    animation:\n",
              "      spin 1s steps(1) infinite;\n",
              "  }\n",
              "\n",
              "  @keyframes spin {\n",
              "    0% {\n",
              "      border-color: transparent;\n",
              "      border-bottom-color: var(--fill-color);\n",
              "      border-left-color: var(--fill-color);\n",
              "    }\n",
              "    20% {\n",
              "      border-color: transparent;\n",
              "      border-left-color: var(--fill-color);\n",
              "      border-top-color: var(--fill-color);\n",
              "    }\n",
              "    30% {\n",
              "      border-color: transparent;\n",
              "      border-left-color: var(--fill-color);\n",
              "      border-top-color: var(--fill-color);\n",
              "      border-right-color: var(--fill-color);\n",
              "    }\n",
              "    40% {\n",
              "      border-color: transparent;\n",
              "      border-right-color: var(--fill-color);\n",
              "      border-top-color: var(--fill-color);\n",
              "    }\n",
              "    60% {\n",
              "      border-color: transparent;\n",
              "      border-right-color: var(--fill-color);\n",
              "    }\n",
              "    80% {\n",
              "      border-color: transparent;\n",
              "      border-right-color: var(--fill-color);\n",
              "      border-bottom-color: var(--fill-color);\n",
              "    }\n",
              "    90% {\n",
              "      border-color: transparent;\n",
              "      border-bottom-color: var(--fill-color);\n",
              "    }\n",
              "  }\n",
              "</style>\n",
              "\n",
              "      <script>\n",
              "        async function quickchart(key) {\n",
              "          const quickchartButtonEl =\n",
              "            document.querySelector('#' + key + ' button');\n",
              "          quickchartButtonEl.disabled = true;  // To prevent multiple clicks.\n",
              "          quickchartButtonEl.classList.add('colab-df-spinner');\n",
              "          try {\n",
              "            const charts = await google.colab.kernel.invokeFunction(\n",
              "                'suggestCharts', [key], {});\n",
              "          } catch (error) {\n",
              "            console.error('Error during call to suggestCharts:', error);\n",
              "          }\n",
              "          quickchartButtonEl.classList.remove('colab-df-spinner');\n",
              "          quickchartButtonEl.classList.add('colab-df-quickchart-complete');\n",
              "        }\n",
              "        (() => {\n",
              "          let quickchartButtonEl =\n",
              "            document.querySelector('#df-0f51e24b-fb89-4a16-aacf-b8bbf8909651 button');\n",
              "          quickchartButtonEl.style.display =\n",
              "            google.colab.kernel.accessAllowed ? 'block' : 'none';\n",
              "        })();\n",
              "      </script>\n",
              "    </div>\n",
              "\n",
              "    </div>\n",
              "  </div>\n"
            ],
            "application/vnd.google.colaboratory.intrinsic+json": {
              "type": "dataframe",
              "variable_name": "df",
              "summary": "{\n  \"name\": \"df\",\n  \"rows\": 506,\n  \"fields\": [\n    {\n      \"column\": \"CRIM\",\n      \"properties\": {\n        \"dtype\": \"number\",\n        \"std\": 8.601545105332487,\n        \"min\": 0.00632,\n        \"max\": 88.9762,\n        \"num_unique_values\": 504,\n        \"samples\": [\n          0.09178,\n          0.05644,\n          0.10574\n        ],\n        \"semantic_type\": \"\",\n        \"description\": \"\"\n      }\n    },\n    {\n      \"column\": \"ZN\",\n      \"properties\": {\n        \"dtype\": \"number\",\n        \"std\": 23.322452994515036,\n        \"min\": 0.0,\n        \"max\": 100.0,\n        \"num_unique_values\": 26,\n        \"samples\": [\n          25.0,\n          30.0,\n          18.0\n        ],\n        \"semantic_type\": \"\",\n        \"description\": \"\"\n      }\n    },\n    {\n      \"column\": \"INDUS\",\n      \"properties\": {\n        \"dtype\": \"number\",\n        \"std\": 6.8603529408975845,\n        \"min\": 0.46,\n        \"max\": 27.74,\n        \"num_unique_values\": 76,\n        \"samples\": [\n          8.14,\n          1.47,\n          1.22\n        ],\n        \"semantic_type\": \"\",\n        \"description\": \"\"\n      }\n    },\n    {\n      \"column\": \"CHAS\",\n      \"properties\": {\n        \"dtype\": \"number\",\n        \"std\": 0,\n        \"min\": 0,\n        \"max\": 1,\n        \"num_unique_values\": 2,\n        \"samples\": [\n          1,\n          0\n        ],\n        \"semantic_type\": \"\",\n        \"description\": \"\"\n      }\n    },\n    {\n      \"column\": \"NOX\",\n      \"properties\": {\n        \"dtype\": \"number\",\n        \"std\": 0.11587767566755611,\n        \"min\": 0.385,\n        \"max\": 0.871,\n        \"num_unique_values\": 81,\n        \"samples\": [\n          0.401,\n          0.538\n        ],\n        \"semantic_type\": \"\",\n        \"description\": \"\"\n      }\n    },\n    {\n      \"column\": \"RM\",\n      \"properties\": {\n        \"dtype\": \"number\",\n        \"std\": 0.7026171434153237,\n        \"min\": 3.561,\n        \"max\": 8.78,\n        \"num_unique_values\": 446,\n        \"samples\": [\n          6.849,\n          4.88\n        ],\n        \"semantic_type\": \"\",\n        \"description\": \"\"\n      }\n    },\n    {\n      \"column\": \"AGE\",\n      \"properties\": {\n        \"dtype\": \"number\",\n        \"std\": 28.148861406903638,\n        \"min\": 2.9,\n        \"max\": 100.0,\n        \"num_unique_values\": 356,\n        \"samples\": [\n          51.8,\n          33.8\n        ],\n        \"semantic_type\": \"\",\n        \"description\": \"\"\n      }\n    },\n    {\n      \"column\": \"DIS\",\n      \"properties\": {\n        \"dtype\": \"number\",\n        \"std\": 2.1057101266276104,\n        \"min\": 1.1296,\n        \"max\": 12.1265,\n        \"num_unique_values\": 412,\n        \"samples\": [\n          2.2955,\n          4.2515\n        ],\n        \"semantic_type\": \"\",\n        \"description\": \"\"\n      }\n    },\n    {\n      \"column\": \"RAD\",\n      \"properties\": {\n        \"dtype\": \"number\",\n        \"std\": 8,\n        \"min\": 1,\n        \"max\": 24,\n        \"num_unique_values\": 9,\n        \"samples\": [\n          7,\n          2\n        ],\n        \"semantic_type\": \"\",\n        \"description\": \"\"\n      }\n    },\n    {\n      \"column\": \"TAX\",\n      \"properties\": {\n        \"dtype\": \"number\",\n        \"std\": 168.53711605495926,\n        \"min\": 187.0,\n        \"max\": 711.0,\n        \"num_unique_values\": 66,\n        \"samples\": [\n          370.0,\n          666.0\n        ],\n        \"semantic_type\": \"\",\n        \"description\": \"\"\n      }\n    },\n    {\n      \"column\": \"PTRATIO\",\n      \"properties\": {\n        \"dtype\": \"number\",\n        \"std\": 2.164945523714446,\n        \"min\": 12.6,\n        \"max\": 22.0,\n        \"num_unique_values\": 46,\n        \"samples\": [\n          19.6,\n          15.6\n        ],\n        \"semantic_type\": \"\",\n        \"description\": \"\"\n      }\n    },\n    {\n      \"column\": \"B\",\n      \"properties\": {\n        \"dtype\": \"number\",\n        \"std\": 91.29486438415779,\n        \"min\": 0.32,\n        \"max\": 396.9,\n        \"num_unique_values\": 357,\n        \"samples\": [\n          396.24,\n          395.11\n        ],\n        \"semantic_type\": \"\",\n        \"description\": \"\"\n      }\n    },\n    {\n      \"column\": \"LSTAT\",\n      \"properties\": {\n        \"dtype\": \"number\",\n        \"std\": 7.141061511348571,\n        \"min\": 1.73,\n        \"max\": 37.97,\n        \"num_unique_values\": 455,\n        \"samples\": [\n          6.15,\n          4.32\n        ],\n        \"semantic_type\": \"\",\n        \"description\": \"\"\n      }\n    },\n    {\n      \"column\": \"MEDV\",\n      \"properties\": {\n        \"dtype\": \"number\",\n        \"std\": 9.19710408737982,\n        \"min\": 5.0,\n        \"max\": 50.0,\n        \"num_unique_values\": 229,\n        \"samples\": [\n          14.1,\n          22.5\n        ],\n        \"semantic_type\": \"\",\n        \"description\": \"\"\n      }\n    }\n  ]\n}"
            }
          },
          "metadata": {},
          "execution_count": 536
        }
      ],
      "source": [
        "BHname = ['CRIM', 'ZN', 'INDUS', 'CHAS', 'NOX', 'RM',\n",
        "          'AGE', 'DIS', 'RAD', 'TAX', 'PTRATIO', 'B', 'LSTAT', 'MEDV']\n",
        "df = pd.read_csv(\"housing.csv\", delim_whitespace=True, names = BHname)\n",
        "df.head()"
      ]
    },
    {
      "cell_type": "code",
      "source": [
        "print(f\"Data Summary: \\n{df.describe()}\\n\")\n",
        "print(f\"Data Shape: \\n{df.shape}\")"
      ],
      "metadata": {
        "colab": {
          "base_uri": "https://localhost:8080/"
        },
        "id": "ep2y7ifVglN_",
        "outputId": "fba868ba-a8f4-4f55-ca4e-ffe2402c459c"
      },
      "id": "ep2y7ifVglN_",
      "execution_count": 537,
      "outputs": [
        {
          "output_type": "stream",
          "name": "stdout",
          "text": [
            "Data Summary: \n",
            "             CRIM          ZN       INDUS        CHAS         NOX          RM  \\\n",
            "count  506.000000  506.000000  506.000000  506.000000  506.000000  506.000000   \n",
            "mean     3.613524   11.363636   11.136779    0.069170    0.554695    6.284634   \n",
            "std      8.601545   23.322453    6.860353    0.253994    0.115878    0.702617   \n",
            "min      0.006320    0.000000    0.460000    0.000000    0.385000    3.561000   \n",
            "25%      0.082045    0.000000    5.190000    0.000000    0.449000    5.885500   \n",
            "50%      0.256510    0.000000    9.690000    0.000000    0.538000    6.208500   \n",
            "75%      3.677083   12.500000   18.100000    0.000000    0.624000    6.623500   \n",
            "max     88.976200  100.000000   27.740000    1.000000    0.871000    8.780000   \n",
            "\n",
            "              AGE         DIS         RAD         TAX     PTRATIO           B  \\\n",
            "count  506.000000  506.000000  506.000000  506.000000  506.000000  506.000000   \n",
            "mean    68.574901    3.795043    9.549407  408.237154   18.455534  356.674032   \n",
            "std     28.148861    2.105710    8.707259  168.537116    2.164946   91.294864   \n",
            "min      2.900000    1.129600    1.000000  187.000000   12.600000    0.320000   \n",
            "25%     45.025000    2.100175    4.000000  279.000000   17.400000  375.377500   \n",
            "50%     77.500000    3.207450    5.000000  330.000000   19.050000  391.440000   \n",
            "75%     94.075000    5.188425   24.000000  666.000000   20.200000  396.225000   \n",
            "max    100.000000   12.126500   24.000000  711.000000   22.000000  396.900000   \n",
            "\n",
            "            LSTAT        MEDV  \n",
            "count  506.000000  506.000000  \n",
            "mean    12.653063   22.532806  \n",
            "std      7.141062    9.197104  \n",
            "min      1.730000    5.000000  \n",
            "25%      6.950000   17.025000  \n",
            "50%     11.360000   21.200000  \n",
            "75%     16.955000   25.000000  \n",
            "max     37.970000   50.000000  \n",
            "\n",
            "Data Shape: \n",
            "(506, 14)\n"
          ]
        }
      ]
    },
    {
      "cell_type": "code",
      "source": [
        "print(f\"Nan values in data: \\n{df.isna().sum()}\\n\")\n",
        "print(f\"Null values in data: \\n{df.isnull().sum()}\")"
      ],
      "metadata": {
        "colab": {
          "base_uri": "https://localhost:8080/"
        },
        "id": "WuZmM4Quh41j",
        "outputId": "19a72428-3fe2-409d-8979-7d373ebdc55c"
      },
      "id": "WuZmM4Quh41j",
      "execution_count": 538,
      "outputs": [
        {
          "output_type": "stream",
          "name": "stdout",
          "text": [
            "Nan values in data: \n",
            "CRIM       0\n",
            "ZN         0\n",
            "INDUS      0\n",
            "CHAS       0\n",
            "NOX        0\n",
            "RM         0\n",
            "AGE        0\n",
            "DIS        0\n",
            "RAD        0\n",
            "TAX        0\n",
            "PTRATIO    0\n",
            "B          0\n",
            "LSTAT      0\n",
            "MEDV       0\n",
            "dtype: int64\n",
            "\n",
            "Null values in data: \n",
            "CRIM       0\n",
            "ZN         0\n",
            "INDUS      0\n",
            "CHAS       0\n",
            "NOX        0\n",
            "RM         0\n",
            "AGE        0\n",
            "DIS        0\n",
            "RAD        0\n",
            "TAX        0\n",
            "PTRATIO    0\n",
            "B          0\n",
            "LSTAT      0\n",
            "MEDV       0\n",
            "dtype: int64\n"
          ]
        }
      ]
    },
    {
      "cell_type": "markdown",
      "source": [
        "### EDA - Exploratory Data Analysis - Analysing data to identify patterns, outliers"
      ],
      "metadata": {
        "id": "4C0-UaxPlxR3"
      },
      "id": "4C0-UaxPlxR3"
    },
    {
      "cell_type": "code",
      "source": [
        "# coefficient of variation for different features - a relative measurement of dispersion\n",
        "cv = (df.std() / df.mean()) * 100\n",
        "print(cv)"
      ],
      "metadata": {
        "colab": {
          "base_uri": "https://localhost:8080/"
        },
        "id": "FJ8MqzwKkeBv",
        "outputId": "6cb4d83a-9e5b-4cac-d890-49e11f06b562"
      },
      "id": "FJ8MqzwKkeBv",
      "execution_count": 539,
      "outputs": [
        {
          "output_type": "stream",
          "name": "stdout",
          "text": [
            "CRIM       238.037610\n",
            "ZN         205.237586\n",
            "INDUS       61.600874\n",
            "CHAS       367.202814\n",
            "NOX         20.890339\n",
            "RM          11.179921\n",
            "AGE         41.048344\n",
            "DIS         55.485809\n",
            "RAD         91.181152\n",
            "TAX         41.284120\n",
            "PTRATIO     11.730604\n",
            "B           25.596162\n",
            "LSTAT       56.437413\n",
            "MEDV        40.816505\n",
            "dtype: float64\n"
          ]
        }
      ]
    },
    {
      "cell_type": "code",
      "execution_count": 540,
      "id": "f36391a4-027a-47a5-9648-5163e543e894",
      "metadata": {
        "colab": {
          "base_uri": "https://localhost:8080/",
          "height": 488
        },
        "id": "f36391a4-027a-47a5-9648-5163e543e894",
        "outputId": "15c6fa96-8139-416c-ff9f-915de3a876e4"
      },
      "outputs": [
        {
          "output_type": "execute_result",
          "data": {
            "text/plain": [
              "             CRIM        ZN     INDUS      CHAS       NOX        RM       AGE  \\\n",
              "CRIM     1.000000 -0.200469  0.406583 -0.055892  0.420972 -0.219247  0.352734   \n",
              "ZN      -0.200469  1.000000 -0.533828 -0.042697 -0.516604  0.311991 -0.569537   \n",
              "INDUS    0.406583 -0.533828  1.000000  0.062938  0.763651 -0.391676  0.644779   \n",
              "CHAS    -0.055892 -0.042697  0.062938  1.000000  0.091203  0.091251  0.086518   \n",
              "NOX      0.420972 -0.516604  0.763651  0.091203  1.000000 -0.302188  0.731470   \n",
              "RM      -0.219247  0.311991 -0.391676  0.091251 -0.302188  1.000000 -0.240265   \n",
              "AGE      0.352734 -0.569537  0.644779  0.086518  0.731470 -0.240265  1.000000   \n",
              "DIS     -0.379670  0.664408 -0.708027 -0.099176 -0.769230  0.205246 -0.747881   \n",
              "RAD      0.625505 -0.311948  0.595129 -0.007368  0.611441 -0.209847  0.456022   \n",
              "TAX      0.582764 -0.314563  0.720760 -0.035587  0.668023 -0.292048  0.506456   \n",
              "PTRATIO  0.289946 -0.391679  0.383248 -0.121515  0.188933 -0.355501  0.261515   \n",
              "B       -0.385064  0.175520 -0.356977  0.048788 -0.380051  0.128069 -0.273534   \n",
              "LSTAT    0.455621 -0.412995  0.603800 -0.053929  0.590879 -0.613808  0.602339   \n",
              "MEDV    -0.388305  0.360445 -0.483725  0.175260 -0.427321  0.695360 -0.376955   \n",
              "\n",
              "              DIS       RAD       TAX   PTRATIO         B     LSTAT      MEDV  \n",
              "CRIM    -0.379670  0.625505  0.582764  0.289946 -0.385064  0.455621 -0.388305  \n",
              "ZN       0.664408 -0.311948 -0.314563 -0.391679  0.175520 -0.412995  0.360445  \n",
              "INDUS   -0.708027  0.595129  0.720760  0.383248 -0.356977  0.603800 -0.483725  \n",
              "CHAS    -0.099176 -0.007368 -0.035587 -0.121515  0.048788 -0.053929  0.175260  \n",
              "NOX     -0.769230  0.611441  0.668023  0.188933 -0.380051  0.590879 -0.427321  \n",
              "RM       0.205246 -0.209847 -0.292048 -0.355501  0.128069 -0.613808  0.695360  \n",
              "AGE     -0.747881  0.456022  0.506456  0.261515 -0.273534  0.602339 -0.376955  \n",
              "DIS      1.000000 -0.494588 -0.534432 -0.232471  0.291512 -0.496996  0.249929  \n",
              "RAD     -0.494588  1.000000  0.910228  0.464741 -0.444413  0.488676 -0.381626  \n",
              "TAX     -0.534432  0.910228  1.000000  0.460853 -0.441808  0.543993 -0.468536  \n",
              "PTRATIO -0.232471  0.464741  0.460853  1.000000 -0.177383  0.374044 -0.507787  \n",
              "B        0.291512 -0.444413 -0.441808 -0.177383  1.000000 -0.366087  0.333461  \n",
              "LSTAT   -0.496996  0.488676  0.543993  0.374044 -0.366087  1.000000 -0.737663  \n",
              "MEDV     0.249929 -0.381626 -0.468536 -0.507787  0.333461 -0.737663  1.000000  "
            ],
            "text/html": [
              "\n",
              "  <div id=\"df-4f2575f0-893d-4bf1-9a83-dbdfed982f63\" class=\"colab-df-container\">\n",
              "    <div>\n",
              "<style scoped>\n",
              "    .dataframe tbody tr th:only-of-type {\n",
              "        vertical-align: middle;\n",
              "    }\n",
              "\n",
              "    .dataframe tbody tr th {\n",
              "        vertical-align: top;\n",
              "    }\n",
              "\n",
              "    .dataframe thead th {\n",
              "        text-align: right;\n",
              "    }\n",
              "</style>\n",
              "<table border=\"1\" class=\"dataframe\">\n",
              "  <thead>\n",
              "    <tr style=\"text-align: right;\">\n",
              "      <th></th>\n",
              "      <th>CRIM</th>\n",
              "      <th>ZN</th>\n",
              "      <th>INDUS</th>\n",
              "      <th>CHAS</th>\n",
              "      <th>NOX</th>\n",
              "      <th>RM</th>\n",
              "      <th>AGE</th>\n",
              "      <th>DIS</th>\n",
              "      <th>RAD</th>\n",
              "      <th>TAX</th>\n",
              "      <th>PTRATIO</th>\n",
              "      <th>B</th>\n",
              "      <th>LSTAT</th>\n",
              "      <th>MEDV</th>\n",
              "    </tr>\n",
              "  </thead>\n",
              "  <tbody>\n",
              "    <tr>\n",
              "      <th>CRIM</th>\n",
              "      <td>1.000000</td>\n",
              "      <td>-0.200469</td>\n",
              "      <td>0.406583</td>\n",
              "      <td>-0.055892</td>\n",
              "      <td>0.420972</td>\n",
              "      <td>-0.219247</td>\n",
              "      <td>0.352734</td>\n",
              "      <td>-0.379670</td>\n",
              "      <td>0.625505</td>\n",
              "      <td>0.582764</td>\n",
              "      <td>0.289946</td>\n",
              "      <td>-0.385064</td>\n",
              "      <td>0.455621</td>\n",
              "      <td>-0.388305</td>\n",
              "    </tr>\n",
              "    <tr>\n",
              "      <th>ZN</th>\n",
              "      <td>-0.200469</td>\n",
              "      <td>1.000000</td>\n",
              "      <td>-0.533828</td>\n",
              "      <td>-0.042697</td>\n",
              "      <td>-0.516604</td>\n",
              "      <td>0.311991</td>\n",
              "      <td>-0.569537</td>\n",
              "      <td>0.664408</td>\n",
              "      <td>-0.311948</td>\n",
              "      <td>-0.314563</td>\n",
              "      <td>-0.391679</td>\n",
              "      <td>0.175520</td>\n",
              "      <td>-0.412995</td>\n",
              "      <td>0.360445</td>\n",
              "    </tr>\n",
              "    <tr>\n",
              "      <th>INDUS</th>\n",
              "      <td>0.406583</td>\n",
              "      <td>-0.533828</td>\n",
              "      <td>1.000000</td>\n",
              "      <td>0.062938</td>\n",
              "      <td>0.763651</td>\n",
              "      <td>-0.391676</td>\n",
              "      <td>0.644779</td>\n",
              "      <td>-0.708027</td>\n",
              "      <td>0.595129</td>\n",
              "      <td>0.720760</td>\n",
              "      <td>0.383248</td>\n",
              "      <td>-0.356977</td>\n",
              "      <td>0.603800</td>\n",
              "      <td>-0.483725</td>\n",
              "    </tr>\n",
              "    <tr>\n",
              "      <th>CHAS</th>\n",
              "      <td>-0.055892</td>\n",
              "      <td>-0.042697</td>\n",
              "      <td>0.062938</td>\n",
              "      <td>1.000000</td>\n",
              "      <td>0.091203</td>\n",
              "      <td>0.091251</td>\n",
              "      <td>0.086518</td>\n",
              "      <td>-0.099176</td>\n",
              "      <td>-0.007368</td>\n",
              "      <td>-0.035587</td>\n",
              "      <td>-0.121515</td>\n",
              "      <td>0.048788</td>\n",
              "      <td>-0.053929</td>\n",
              "      <td>0.175260</td>\n",
              "    </tr>\n",
              "    <tr>\n",
              "      <th>NOX</th>\n",
              "      <td>0.420972</td>\n",
              "      <td>-0.516604</td>\n",
              "      <td>0.763651</td>\n",
              "      <td>0.091203</td>\n",
              "      <td>1.000000</td>\n",
              "      <td>-0.302188</td>\n",
              "      <td>0.731470</td>\n",
              "      <td>-0.769230</td>\n",
              "      <td>0.611441</td>\n",
              "      <td>0.668023</td>\n",
              "      <td>0.188933</td>\n",
              "      <td>-0.380051</td>\n",
              "      <td>0.590879</td>\n",
              "      <td>-0.427321</td>\n",
              "    </tr>\n",
              "    <tr>\n",
              "      <th>RM</th>\n",
              "      <td>-0.219247</td>\n",
              "      <td>0.311991</td>\n",
              "      <td>-0.391676</td>\n",
              "      <td>0.091251</td>\n",
              "      <td>-0.302188</td>\n",
              "      <td>1.000000</td>\n",
              "      <td>-0.240265</td>\n",
              "      <td>0.205246</td>\n",
              "      <td>-0.209847</td>\n",
              "      <td>-0.292048</td>\n",
              "      <td>-0.355501</td>\n",
              "      <td>0.128069</td>\n",
              "      <td>-0.613808</td>\n",
              "      <td>0.695360</td>\n",
              "    </tr>\n",
              "    <tr>\n",
              "      <th>AGE</th>\n",
              "      <td>0.352734</td>\n",
              "      <td>-0.569537</td>\n",
              "      <td>0.644779</td>\n",
              "      <td>0.086518</td>\n",
              "      <td>0.731470</td>\n",
              "      <td>-0.240265</td>\n",
              "      <td>1.000000</td>\n",
              "      <td>-0.747881</td>\n",
              "      <td>0.456022</td>\n",
              "      <td>0.506456</td>\n",
              "      <td>0.261515</td>\n",
              "      <td>-0.273534</td>\n",
              "      <td>0.602339</td>\n",
              "      <td>-0.376955</td>\n",
              "    </tr>\n",
              "    <tr>\n",
              "      <th>DIS</th>\n",
              "      <td>-0.379670</td>\n",
              "      <td>0.664408</td>\n",
              "      <td>-0.708027</td>\n",
              "      <td>-0.099176</td>\n",
              "      <td>-0.769230</td>\n",
              "      <td>0.205246</td>\n",
              "      <td>-0.747881</td>\n",
              "      <td>1.000000</td>\n",
              "      <td>-0.494588</td>\n",
              "      <td>-0.534432</td>\n",
              "      <td>-0.232471</td>\n",
              "      <td>0.291512</td>\n",
              "      <td>-0.496996</td>\n",
              "      <td>0.249929</td>\n",
              "    </tr>\n",
              "    <tr>\n",
              "      <th>RAD</th>\n",
              "      <td>0.625505</td>\n",
              "      <td>-0.311948</td>\n",
              "      <td>0.595129</td>\n",
              "      <td>-0.007368</td>\n",
              "      <td>0.611441</td>\n",
              "      <td>-0.209847</td>\n",
              "      <td>0.456022</td>\n",
              "      <td>-0.494588</td>\n",
              "      <td>1.000000</td>\n",
              "      <td>0.910228</td>\n",
              "      <td>0.464741</td>\n",
              "      <td>-0.444413</td>\n",
              "      <td>0.488676</td>\n",
              "      <td>-0.381626</td>\n",
              "    </tr>\n",
              "    <tr>\n",
              "      <th>TAX</th>\n",
              "      <td>0.582764</td>\n",
              "      <td>-0.314563</td>\n",
              "      <td>0.720760</td>\n",
              "      <td>-0.035587</td>\n",
              "      <td>0.668023</td>\n",
              "      <td>-0.292048</td>\n",
              "      <td>0.506456</td>\n",
              "      <td>-0.534432</td>\n",
              "      <td>0.910228</td>\n",
              "      <td>1.000000</td>\n",
              "      <td>0.460853</td>\n",
              "      <td>-0.441808</td>\n",
              "      <td>0.543993</td>\n",
              "      <td>-0.468536</td>\n",
              "    </tr>\n",
              "    <tr>\n",
              "      <th>PTRATIO</th>\n",
              "      <td>0.289946</td>\n",
              "      <td>-0.391679</td>\n",
              "      <td>0.383248</td>\n",
              "      <td>-0.121515</td>\n",
              "      <td>0.188933</td>\n",
              "      <td>-0.355501</td>\n",
              "      <td>0.261515</td>\n",
              "      <td>-0.232471</td>\n",
              "      <td>0.464741</td>\n",
              "      <td>0.460853</td>\n",
              "      <td>1.000000</td>\n",
              "      <td>-0.177383</td>\n",
              "      <td>0.374044</td>\n",
              "      <td>-0.507787</td>\n",
              "    </tr>\n",
              "    <tr>\n",
              "      <th>B</th>\n",
              "      <td>-0.385064</td>\n",
              "      <td>0.175520</td>\n",
              "      <td>-0.356977</td>\n",
              "      <td>0.048788</td>\n",
              "      <td>-0.380051</td>\n",
              "      <td>0.128069</td>\n",
              "      <td>-0.273534</td>\n",
              "      <td>0.291512</td>\n",
              "      <td>-0.444413</td>\n",
              "      <td>-0.441808</td>\n",
              "      <td>-0.177383</td>\n",
              "      <td>1.000000</td>\n",
              "      <td>-0.366087</td>\n",
              "      <td>0.333461</td>\n",
              "    </tr>\n",
              "    <tr>\n",
              "      <th>LSTAT</th>\n",
              "      <td>0.455621</td>\n",
              "      <td>-0.412995</td>\n",
              "      <td>0.603800</td>\n",
              "      <td>-0.053929</td>\n",
              "      <td>0.590879</td>\n",
              "      <td>-0.613808</td>\n",
              "      <td>0.602339</td>\n",
              "      <td>-0.496996</td>\n",
              "      <td>0.488676</td>\n",
              "      <td>0.543993</td>\n",
              "      <td>0.374044</td>\n",
              "      <td>-0.366087</td>\n",
              "      <td>1.000000</td>\n",
              "      <td>-0.737663</td>\n",
              "    </tr>\n",
              "    <tr>\n",
              "      <th>MEDV</th>\n",
              "      <td>-0.388305</td>\n",
              "      <td>0.360445</td>\n",
              "      <td>-0.483725</td>\n",
              "      <td>0.175260</td>\n",
              "      <td>-0.427321</td>\n",
              "      <td>0.695360</td>\n",
              "      <td>-0.376955</td>\n",
              "      <td>0.249929</td>\n",
              "      <td>-0.381626</td>\n",
              "      <td>-0.468536</td>\n",
              "      <td>-0.507787</td>\n",
              "      <td>0.333461</td>\n",
              "      <td>-0.737663</td>\n",
              "      <td>1.000000</td>\n",
              "    </tr>\n",
              "  </tbody>\n",
              "</table>\n",
              "</div>\n",
              "    <div class=\"colab-df-buttons\">\n",
              "\n",
              "  <div class=\"colab-df-container\">\n",
              "    <button class=\"colab-df-convert\" onclick=\"convertToInteractive('df-4f2575f0-893d-4bf1-9a83-dbdfed982f63')\"\n",
              "            title=\"Convert this dataframe to an interactive table.\"\n",
              "            style=\"display:none;\">\n",
              "\n",
              "  <svg xmlns=\"http://www.w3.org/2000/svg\" height=\"24px\" viewBox=\"0 -960 960 960\">\n",
              "    <path d=\"M120-120v-720h720v720H120Zm60-500h600v-160H180v160Zm220 220h160v-160H400v160Zm0 220h160v-160H400v160ZM180-400h160v-160H180v160Zm440 0h160v-160H620v160ZM180-180h160v-160H180v160Zm440 0h160v-160H620v160Z\"/>\n",
              "  </svg>\n",
              "    </button>\n",
              "\n",
              "  <style>\n",
              "    .colab-df-container {\n",
              "      display:flex;\n",
              "      gap: 12px;\n",
              "    }\n",
              "\n",
              "    .colab-df-convert {\n",
              "      background-color: #E8F0FE;\n",
              "      border: none;\n",
              "      border-radius: 50%;\n",
              "      cursor: pointer;\n",
              "      display: none;\n",
              "      fill: #1967D2;\n",
              "      height: 32px;\n",
              "      padding: 0 0 0 0;\n",
              "      width: 32px;\n",
              "    }\n",
              "\n",
              "    .colab-df-convert:hover {\n",
              "      background-color: #E2EBFA;\n",
              "      box-shadow: 0px 1px 2px rgba(60, 64, 67, 0.3), 0px 1px 3px 1px rgba(60, 64, 67, 0.15);\n",
              "      fill: #174EA6;\n",
              "    }\n",
              "\n",
              "    .colab-df-buttons div {\n",
              "      margin-bottom: 4px;\n",
              "    }\n",
              "\n",
              "    [theme=dark] .colab-df-convert {\n",
              "      background-color: #3B4455;\n",
              "      fill: #D2E3FC;\n",
              "    }\n",
              "\n",
              "    [theme=dark] .colab-df-convert:hover {\n",
              "      background-color: #434B5C;\n",
              "      box-shadow: 0px 1px 3px 1px rgba(0, 0, 0, 0.15);\n",
              "      filter: drop-shadow(0px 1px 2px rgba(0, 0, 0, 0.3));\n",
              "      fill: #FFFFFF;\n",
              "    }\n",
              "  </style>\n",
              "\n",
              "    <script>\n",
              "      const buttonEl =\n",
              "        document.querySelector('#df-4f2575f0-893d-4bf1-9a83-dbdfed982f63 button.colab-df-convert');\n",
              "      buttonEl.style.display =\n",
              "        google.colab.kernel.accessAllowed ? 'block' : 'none';\n",
              "\n",
              "      async function convertToInteractive(key) {\n",
              "        const element = document.querySelector('#df-4f2575f0-893d-4bf1-9a83-dbdfed982f63');\n",
              "        const dataTable =\n",
              "          await google.colab.kernel.invokeFunction('convertToInteractive',\n",
              "                                                    [key], {});\n",
              "        if (!dataTable) return;\n",
              "\n",
              "        const docLinkHtml = 'Like what you see? Visit the ' +\n",
              "          '<a target=\"_blank\" href=https://colab.research.google.com/notebooks/data_table.ipynb>data table notebook</a>'\n",
              "          + ' to learn more about interactive tables.';\n",
              "        element.innerHTML = '';\n",
              "        dataTable['output_type'] = 'display_data';\n",
              "        await google.colab.output.renderOutput(dataTable, element);\n",
              "        const docLink = document.createElement('div');\n",
              "        docLink.innerHTML = docLinkHtml;\n",
              "        element.appendChild(docLink);\n",
              "      }\n",
              "    </script>\n",
              "  </div>\n",
              "\n",
              "\n",
              "    <div id=\"df-ad9f3b71-3117-4beb-99c7-fd9d672818f5\">\n",
              "      <button class=\"colab-df-quickchart\" onclick=\"quickchart('df-ad9f3b71-3117-4beb-99c7-fd9d672818f5')\"\n",
              "                title=\"Suggest charts\"\n",
              "                style=\"display:none;\">\n",
              "\n",
              "<svg xmlns=\"http://www.w3.org/2000/svg\" height=\"24px\"viewBox=\"0 0 24 24\"\n",
              "     width=\"24px\">\n",
              "    <g>\n",
              "        <path d=\"M19 3H5c-1.1 0-2 .9-2 2v14c0 1.1.9 2 2 2h14c1.1 0 2-.9 2-2V5c0-1.1-.9-2-2-2zM9 17H7v-7h2v7zm4 0h-2V7h2v10zm4 0h-2v-4h2v4z\"/>\n",
              "    </g>\n",
              "</svg>\n",
              "      </button>\n",
              "\n",
              "<style>\n",
              "  .colab-df-quickchart {\n",
              "      --bg-color: #E8F0FE;\n",
              "      --fill-color: #1967D2;\n",
              "      --hover-bg-color: #E2EBFA;\n",
              "      --hover-fill-color: #174EA6;\n",
              "      --disabled-fill-color: #AAA;\n",
              "      --disabled-bg-color: #DDD;\n",
              "  }\n",
              "\n",
              "  [theme=dark] .colab-df-quickchart {\n",
              "      --bg-color: #3B4455;\n",
              "      --fill-color: #D2E3FC;\n",
              "      --hover-bg-color: #434B5C;\n",
              "      --hover-fill-color: #FFFFFF;\n",
              "      --disabled-bg-color: #3B4455;\n",
              "      --disabled-fill-color: #666;\n",
              "  }\n",
              "\n",
              "  .colab-df-quickchart {\n",
              "    background-color: var(--bg-color);\n",
              "    border: none;\n",
              "    border-radius: 50%;\n",
              "    cursor: pointer;\n",
              "    display: none;\n",
              "    fill: var(--fill-color);\n",
              "    height: 32px;\n",
              "    padding: 0;\n",
              "    width: 32px;\n",
              "  }\n",
              "\n",
              "  .colab-df-quickchart:hover {\n",
              "    background-color: var(--hover-bg-color);\n",
              "    box-shadow: 0 1px 2px rgba(60, 64, 67, 0.3), 0 1px 3px 1px rgba(60, 64, 67, 0.15);\n",
              "    fill: var(--button-hover-fill-color);\n",
              "  }\n",
              "\n",
              "  .colab-df-quickchart-complete:disabled,\n",
              "  .colab-df-quickchart-complete:disabled:hover {\n",
              "    background-color: var(--disabled-bg-color);\n",
              "    fill: var(--disabled-fill-color);\n",
              "    box-shadow: none;\n",
              "  }\n",
              "\n",
              "  .colab-df-spinner {\n",
              "    border: 2px solid var(--fill-color);\n",
              "    border-color: transparent;\n",
              "    border-bottom-color: var(--fill-color);\n",
              "    animation:\n",
              "      spin 1s steps(1) infinite;\n",
              "  }\n",
              "\n",
              "  @keyframes spin {\n",
              "    0% {\n",
              "      border-color: transparent;\n",
              "      border-bottom-color: var(--fill-color);\n",
              "      border-left-color: var(--fill-color);\n",
              "    }\n",
              "    20% {\n",
              "      border-color: transparent;\n",
              "      border-left-color: var(--fill-color);\n",
              "      border-top-color: var(--fill-color);\n",
              "    }\n",
              "    30% {\n",
              "      border-color: transparent;\n",
              "      border-left-color: var(--fill-color);\n",
              "      border-top-color: var(--fill-color);\n",
              "      border-right-color: var(--fill-color);\n",
              "    }\n",
              "    40% {\n",
              "      border-color: transparent;\n",
              "      border-right-color: var(--fill-color);\n",
              "      border-top-color: var(--fill-color);\n",
              "    }\n",
              "    60% {\n",
              "      border-color: transparent;\n",
              "      border-right-color: var(--fill-color);\n",
              "    }\n",
              "    80% {\n",
              "      border-color: transparent;\n",
              "      border-right-color: var(--fill-color);\n",
              "      border-bottom-color: var(--fill-color);\n",
              "    }\n",
              "    90% {\n",
              "      border-color: transparent;\n",
              "      border-bottom-color: var(--fill-color);\n",
              "    }\n",
              "  }\n",
              "</style>\n",
              "\n",
              "      <script>\n",
              "        async function quickchart(key) {\n",
              "          const quickchartButtonEl =\n",
              "            document.querySelector('#' + key + ' button');\n",
              "          quickchartButtonEl.disabled = true;  // To prevent multiple clicks.\n",
              "          quickchartButtonEl.classList.add('colab-df-spinner');\n",
              "          try {\n",
              "            const charts = await google.colab.kernel.invokeFunction(\n",
              "                'suggestCharts', [key], {});\n",
              "          } catch (error) {\n",
              "            console.error('Error during call to suggestCharts:', error);\n",
              "          }\n",
              "          quickchartButtonEl.classList.remove('colab-df-spinner');\n",
              "          quickchartButtonEl.classList.add('colab-df-quickchart-complete');\n",
              "        }\n",
              "        (() => {\n",
              "          let quickchartButtonEl =\n",
              "            document.querySelector('#df-ad9f3b71-3117-4beb-99c7-fd9d672818f5 button');\n",
              "          quickchartButtonEl.style.display =\n",
              "            google.colab.kernel.accessAllowed ? 'block' : 'none';\n",
              "        })();\n",
              "      </script>\n",
              "    </div>\n",
              "\n",
              "    </div>\n",
              "  </div>\n"
            ],
            "application/vnd.google.colaboratory.intrinsic+json": {
              "type": "dataframe",
              "summary": "{\n  \"name\": \"df\",\n  \"rows\": 14,\n  \"fields\": [\n    {\n      \"column\": \"CRIM\",\n      \"properties\": {\n        \"dtype\": \"number\",\n        \"std\": 0.4451167706587938,\n        \"min\": -0.38830460858681154,\n        \"max\": 1.0,\n        \"num_unique_values\": 14,\n        \"samples\": [\n          0.5827643120325854,\n          -0.3850639419942239,\n          1.0\n        ],\n        \"semantic_type\": \"\",\n        \"description\": \"\"\n      }\n    },\n    {\n      \"column\": \"ZN\",\n      \"properties\": {\n        \"dtype\": \"number\",\n        \"std\": 0.4878763355080914,\n        \"min\": -0.5695373420992109,\n        \"max\": 1.0,\n        \"num_unique_values\": 14,\n        \"samples\": [\n          -0.3145633246775997,\n          0.1755203173828273,\n          -0.20046921966254744\n        ],\n        \"semantic_type\": \"\",\n        \"description\": \"\"\n      }\n    },\n    {\n      \"column\": \"INDUS\",\n      \"properties\": {\n        \"dtype\": \"number\",\n        \"std\": 0.5772030352812337,\n        \"min\": -0.7080269887427675,\n        \"max\": 1.0,\n        \"num_unique_values\": 14,\n        \"samples\": [\n          0.7207601799515422,\n          -0.3569765351041928,\n          0.4065834114062594\n        ],\n        \"semantic_type\": \"\",\n        \"description\": \"\"\n      }\n    },\n    {\n      \"column\": \"CHAS\",\n      \"properties\": {\n        \"dtype\": \"number\",\n        \"std\": 0.27765088732420684,\n        \"min\": -0.12151517365806228,\n        \"max\": 1.0,\n        \"num_unique_values\": 14,\n        \"samples\": [\n          -0.03558651758591146,\n          0.048788484955166495,\n          -0.05589158222224156\n        ],\n        \"semantic_type\": \"\",\n        \"description\": \"\"\n      }\n    },\n    {\n      \"column\": \"NOX\",\n      \"properties\": {\n        \"dtype\": \"number\",\n        \"std\": 0.57351763522205,\n        \"min\": -0.7692301132258282,\n        \"max\": 1.0,\n        \"num_unique_values\": 14,\n        \"samples\": [\n          0.6680232004030217,\n          -0.3800506377924,\n          0.4209717113924554\n        ],\n        \"semantic_type\": \"\",\n        \"description\": \"\"\n      }\n    },\n    {\n      \"column\": \"RM\",\n      \"properties\": {\n        \"dtype\": \"number\",\n        \"std\": 0.44962035945746626,\n        \"min\": -0.6138082718663955,\n        \"max\": 1.0,\n        \"num_unique_values\": 14,\n        \"samples\": [\n          -0.2920478326232189,\n          0.1280686350925421,\n          -0.21924670286251308\n        ],\n        \"semantic_type\": \"\",\n        \"description\": \"\"\n      }\n    },\n    {\n      \"column\": \"AGE\",\n      \"properties\": {\n        \"dtype\": \"number\",\n        \"std\": 0.5344760697684142,\n        \"min\": -0.747880540868632,\n        \"max\": 1.0,\n        \"num_unique_values\": 14,\n        \"samples\": [\n          0.5064555935507051,\n          -0.273533976638513,\n          0.3527342509013634\n        ],\n        \"semantic_type\": \"\",\n        \"description\": \"\"\n      }\n    },\n    {\n      \"column\": \"DIS\",\n      \"properties\": {\n        \"dtype\": \"number\",\n        \"std\": 0.5524794401182375,\n        \"min\": -0.7692301132258282,\n        \"max\": 1.0,\n        \"num_unique_values\": 14,\n        \"samples\": [\n          -0.5344315844084577,\n          0.2915116731330399,\n          -0.37967008695102467\n        ],\n        \"semantic_type\": \"\",\n        \"description\": \"\"\n      }\n    },\n    {\n      \"column\": \"RAD\",\n      \"properties\": {\n        \"dtype\": \"number\",\n        \"std\": 0.5233720145739237,\n        \"min\": -0.4945879296720758,\n        \"max\": 1.0,\n        \"num_unique_values\": 14,\n        \"samples\": [\n          0.9102281885331865,\n          -0.44441281557512585,\n          0.6255051452626024\n        ],\n        \"semantic_type\": \"\",\n        \"description\": \"\"\n      }\n    },\n    {\n      \"column\": \"TAX\",\n      \"properties\": {\n        \"dtype\": \"number\",\n        \"std\": 0.5549635804694445,\n        \"min\": -0.5344315844084577,\n        \"max\": 1.0,\n        \"num_unique_values\": 14,\n        \"samples\": [\n          1.0,\n          -0.44180800672281423,\n          0.5827643120325854\n        ],\n        \"semantic_type\": \"\",\n        \"description\": \"\"\n      }\n    },\n    {\n      \"column\": \"PTRATIO\",\n      \"properties\": {\n        \"dtype\": \"number\",\n        \"std\": 0.4251539972576937,\n        \"min\": -0.5077866855375623,\n        \"max\": 1.0,\n        \"num_unique_values\": 14,\n        \"samples\": [\n          0.4608530350656702,\n          -0.1773833023052333,\n          0.2899455792795226\n        ],\n        \"semantic_type\": \"\",\n        \"description\": \"\"\n      }\n    },\n    {\n      \"column\": \"B\",\n      \"properties\": {\n        \"dtype\": \"number\",\n        \"std\": 0.4157987033771923,\n        \"min\": -0.44441281557512585,\n        \"max\": 1.0,\n        \"num_unique_values\": 14,\n        \"samples\": [\n          -0.44180800672281423,\n          1.0,\n          -0.3850639419942239\n        ],\n        \"semantic_type\": \"\",\n        \"description\": \"\"\n      }\n    },\n    {\n      \"column\": \"LSTAT\",\n      \"properties\": {\n        \"dtype\": \"number\",\n        \"std\": 0.5653272421344848,\n        \"min\": -0.7376627261740145,\n        \"max\": 1.0,\n        \"num_unique_values\": 14,\n        \"samples\": [\n          0.5439934120015698,\n          -0.36608690169159663,\n          0.4556214794479463\n        ],\n        \"semantic_type\": \"\",\n        \"description\": \"\"\n      }\n    },\n    {\n      \"column\": \"MEDV\",\n      \"properties\": {\n        \"dtype\": \"number\",\n        \"std\": 0.5283478171791951,\n        \"min\": -0.7376627261740145,\n        \"max\": 1.0,\n        \"num_unique_values\": 14,\n        \"samples\": [\n          -0.4685359335677667,\n          0.3334608196570662,\n          -0.38830460858681154\n        ],\n        \"semantic_type\": \"\",\n        \"description\": \"\"\n      }\n    }\n  ]\n}"
            }
          },
          "metadata": {},
          "execution_count": 540
        }
      ],
      "source": [
        "# correlation matrix of features\n",
        "df.corr()"
      ]
    },
    {
      "cell_type": "markdown",
      "source": [
        "Univariate Analysis"
      ],
      "metadata": {
        "id": "D6vIlCE3_UUj"
      },
      "id": "D6vIlCE3_UUj"
    },
    {
      "cell_type": "code",
      "source": [
        "number_of_bins = round(np.sqrt(df.shape[0]))\n",
        "print(f\"Number of bins: {number_of_bins}\")\n",
        "plt.figure(figsize = (14, 14))\n",
        "i = 1\n",
        "for column in df.columns:\n",
        "  plt.subplot(4, 4, i)\n",
        "  plt.hist(df[column], bins = number_of_bins)\n",
        "  plt.xlabel(column)\n",
        "  i+=1\n",
        "plt.show()"
      ],
      "metadata": {
        "colab": {
          "base_uri": "https://localhost:8080/",
          "height": 1000
        },
        "id": "D8BiNmlkrRiU",
        "outputId": "bd9c3df4-387b-4c88-d3b4-ab98e367f93e"
      },
      "id": "D8BiNmlkrRiU",
      "execution_count": 541,
      "outputs": [
        {
          "output_type": "stream",
          "name": "stdout",
          "text": [
            "Number of bins: 22\n"
          ]
        },
        {
          "output_type": "display_data",
          "data": {
            "text/plain": [
              "<Figure size 1400x1400 with 14 Axes>"
            ],
            "image/png": "[encoded data removed]"
          },
          "metadata": {}
        }
      ]
    },
    {
      "cell_type": "code",
      "source": [
        "plt.figure(figsize = (12, 12))\n",
        "i = 1\n",
        "for column in df.columns:\n",
        "  plt.subplot(4, 4, i)\n",
        "  plt.boxplot(df[column])\n",
        "  plt.xlabel(column)\n",
        "  i+=1\n",
        "plt.show()"
      ],
      "metadata": {
        "colab": {
          "base_uri": "https://localhost:8080/",
          "height": 1000
        },
        "id": "KZtBevlg_h6r",
        "outputId": "f0aa6caf-0885-40a7-c363-00cfa86a9a26"
      },
      "id": "KZtBevlg_h6r",
      "execution_count": 542,
      "outputs": [
        {
          "output_type": "display_data",
          "data": {
            "text/plain": [
              "<Figure size 1200x1200 with 14 Axes>"
            ],
            "image/png": "[encoded data removed]"
          },
          "metadata": {}
        }
      ]
    },
    {
      "cell_type": "code",
      "source": [
        "# transforming to normal\n",
        "from scipy.stats import boxcox\n",
        "df['CRIM'] = log_transform(df['CRIM'])\n",
        "df['DIS'] = log_transform(df['DIS'])\n",
        "df['INDUS'], indus_lambda_value = boxcox(df['INDUS'])\n",
        "df['NOX'] = log_transform(df['NOX'])\n",
        "df['AGE'] = log_transform(df['AGE'])\n",
        "df['LSTAT'] = log_transform(df['LSTAT'])\n",
        "df['MEDV'] = log_transform(df['MEDV'])\n",
        "df['PTRATIO'] = log_transform(df['PTRATIO'])\n",
        "\n",
        "plt.figure(figsize = (14, 6))\n",
        "\n",
        "plt.subplot(2, 4, 1)\n",
        "plt.hist(df['CRIM'], bins = number_of_bins)\n",
        "plt.subplot(2, 4, 2)\n",
        "plt.hist(df['DIS'], bins = number_of_bins)\n",
        "plt.subplot(2, 4, 3)\n",
        "plt.hist(df['INDUS'], bins = number_of_bins)\n",
        "plt.subplot(2, 4, 4)\n",
        "plt.hist(df['NOX'], bins = number_of_bins)\n",
        "plt.subplot(2, 4, 5)\n",
        "plt.hist(df['AGE'], bins = number_of_bins)\n",
        "plt.subplot(2, 4, 6)\n",
        "plt.hist(df['LSTAT'], bins = number_of_bins)\n",
        "plt.subplot(2, 4, 7)\n",
        "plt.hist(df['MEDV'], bins = number_of_bins)\n",
        "plt.subplot(2, 4, 8)\n",
        "plt.hist(df['PTRATIO'], bins = number_of_bins)\n",
        "\n",
        "plt.show()"
      ],
      "metadata": {
        "colab": {
          "base_uri": "https://localhost:8080/",
          "height": 523
        },
        "id": "Le3N_-UHBxC_",
        "outputId": "914db508-c2b8-4020-c17d-6011d569e690"
      },
      "id": "Le3N_-UHBxC_",
      "execution_count": 543,
      "outputs": [
        {
          "output_type": "display_data",
          "data": {
            "text/plain": [
              "<Figure size 1400x600 with 8 Axes>"
            ],
            "image/png": "[encoded data removed]"
          },
          "metadata": {}
        }
      ]
    },
    {
      "cell_type": "markdown",
      "id": "3d4e7eae-6a86-4a2a-879b-655e7297edad",
      "metadata": {
        "id": "3d4e7eae-6a86-4a2a-879b-655e7297edad"
      },
      "source": [
        "## regressor1 = model with all the rows and columns"
      ]
    },
    {
      "cell_type": "code",
      "execution_count": 544,
      "id": "8d7f803f-25fb-4eba-ac1b-25bde90edbf3",
      "metadata": {
        "colab": {
          "base_uri": "https://localhost:8080/"
        },
        "id": "8d7f803f-25fb-4eba-ac1b-25bde90edbf3",
        "outputId": "58c84b74-0573-408e-ccaf-0b92f676d9ec"
      },
      "outputs": [
        {
          "output_type": "stream",
          "name": "stdout",
          "text": [
            "(506,)\n",
            "(506, 13)\n",
            "(506, 14)\n",
            "                            OLS Regression Results                            \n",
            "==============================================================================\n",
            "Dep. Variable:                   MEDV   R-squared:                       0.803\n",
            "Model:                            OLS   Adj. R-squared:                  0.797\n",
            "Method:                 Least Squares   F-statistic:                     122.4\n",
            "Date:                Thu, 21 Aug 2025   Prob (F-statistic):          1.02e-128\n",
            "Time:                        17:38:35   Log-Likelihood:                 112.08\n",
            "No. Observations:                 404   AIC:                            -196.2\n",
            "Df Residuals:                     390   BIC:                            -140.1\n",
            "Df Model:                          13                                         \n",
            "Covariance Type:            nonrobust                                         \n",
            "==============================================================================\n",
            "                 coef    std err          t      P>|t|      [0.025      0.975]\n",
            "------------------------------------------------------------------------------\n",
            "const          5.2535      0.335     15.682      0.000       4.595       5.912\n",
            "CRIM          -0.0328      0.012     -2.734      0.007      -0.056      -0.009\n",
            "ZN            -0.0015      0.001     -2.442      0.015      -0.003      -0.000\n",
            "INDUS          0.0076      0.010      0.741      0.459      -0.012       0.028\n",
            "CHAS           0.0949      0.038      2.513      0.012       0.021       0.169\n",
            "NOX           -0.2242      0.120     -1.875      0.061      -0.459       0.011\n",
            "RM             0.0714      0.019      3.667      0.000       0.033       0.110\n",
            "AGE            0.0424      0.023      1.828      0.068      -0.003       0.088\n",
            "DIS           -0.0769      0.038     -2.004      0.046      -0.152      -0.001\n",
            "RAD            0.0098      0.003      3.032      0.003       0.003       0.016\n",
            "TAX           -0.0005      0.000     -3.328      0.001      -0.001      -0.000\n",
            "PTRATIO       -0.7101      0.099     -7.146      0.000      -0.905      -0.515\n",
            "B              0.0005      0.000      4.233      0.000       0.000       0.001\n",
            "LSTAT         -0.3929      0.027    -14.374      0.000      -0.447      -0.339\n",
            "==============================================================================\n",
            "Omnibus:                       50.308   Durbin-Watson:                   2.044\n",
            "Prob(Omnibus):                  0.000   Jarque-Bera (JB):              200.128\n",
            "Skew:                          -0.457   Prob(JB):                     3.49e-44\n",
            "Kurtosis:                       6.325   Cond. No.                     2.04e+04\n",
            "==============================================================================\n",
            "\n",
            "Notes:\n",
            "[1] Standard Errors assume that the covariance matrix of the errors is correctly specified.\n",
            "[2] The condition number is large, 2.04e+04. This might indicate that there are\n",
            "strong multicollinearity or other numerical problems.\n",
            "***** R2_score from sklearn.metrics: *****\n",
            "0.44817974952339845\n",
            "y_test variance: \n",
            "0.1522371618953894\n",
            "y_test size: \n",
            "102\n",
            "RSE: \n",
            "0.06104778252214618\n",
            "***** R2 calculated for test observations: *****\n",
            "0.5989955293301152\n"
          ]
        }
      ],
      "source": [
        "y = df['MEDV']\n",
        "X = df.loc[: , df.columns != 'MEDV']\n",
        "print(y.shape)\n",
        "print(X.shape)\n",
        "X = sm.add_constant(X)\n",
        "print(X.shape)\n",
        "X.head(2)\n",
        "X_train, X_test, y_train, y_test = train_test_split(X, y, test_size = get_test_size(), random_state = get_random_state())\n",
        "regressor1 = sm.OLS(y_train, X_train).fit()\n",
        "print(regressor1.summary())\n",
        "y_pred = regressor1.predict(X_test)\n",
        "calculate_r2(y_pred, y_test)"
      ]
    },
    {
      "cell_type": "markdown",
      "id": "54a92b9d-8a2a-45ee-8191-cb5027885d85",
      "metadata": {
        "id": "54a92b9d-8a2a-45ee-8191-cb5027885d85"
      },
      "source": [
        "### regressor1 (with all rows and columns) => test r-squared = 59.32%"
      ]
    },
    {
      "cell_type": "markdown",
      "id": "1e7430f9-85a8-4f9c-8bba-c30c72602bfc",
      "metadata": {
        "id": "1e7430f9-85a8-4f9c-8bba-c30c72602bfc"
      },
      "source": [
        "## Detect Outliers, High Leverage Points and Influence"
      ]
    },
    {
      "cell_type": "markdown",
      "id": "298fa14a-f01b-42dc-ab5f-6205dddb5299",
      "metadata": {
        "id": "298fa14a-f01b-42dc-ab5f-6205dddb5299"
      },
      "source": [
        "### Detect Outliers"
      ]
    },
    {
      "cell_type": "code",
      "execution_count": 545,
      "id": "ccd7e268-60df-4f6e-9f30-187d6bc70d6c",
      "metadata": {
        "colab": {
          "base_uri": "https://localhost:8080/",
          "height": 431
        },
        "id": "ccd7e268-60df-4f6e-9f30-187d6bc70d6c",
        "outputId": "6609d626-67a5-46e9-915b-787a2f110421"
      },
      "outputs": [
        {
          "output_type": "display_data",
          "data": {
            "text/plain": [
              "<Figure size 640x480 with 1 Axes>"
            ],
            "image/png": "[encoded data removed]"
          },
          "metadata": {}
        }
      ],
      "source": [
        "# Outliers detection using boxplot\n",
        "boxplot = plt.boxplot(df['MEDV'])\n",
        "plt.show()"
      ]
    },
    {
      "cell_type": "code",
      "execution_count": 546,
      "id": "669e7cc2-59e6-4e23-b47d-b453ce3ff204",
      "metadata": {
        "colab": {
          "base_uri": "https://localhost:8080/"
        },
        "id": "669e7cc2-59e6-4e23-b47d-b453ce3ff204",
        "outputId": "6fdf3199-6cb1-47c8-81b0-def5502f5a36"
      },
      "outputs": [
        {
          "output_type": "stream",
          "name": "stdout",
          "text": [
            "3.912023005428146\n",
            "1.6094379124341003\n",
            "[2.17475172 1.97408103 2.00148    2.14006616 1.60943791 1.84054963\n",
            " 1.7227666  1.97408103 2.11625551 2.14006616 1.60943791 1.94591015\n",
            " 1.97408103 2.01490302 2.17475172 2.12823171 2.11625551 2.2512918\n",
            " 2.16332303 2.12823171 1.94591015 2.09186406 3.91202301 3.91202301\n",
            " 3.91202301 3.91202301 3.91202301 3.91202301 3.8815638  3.91202301\n",
            " 3.80220814 3.91202301 3.84374416 3.87743156 3.91202301 3.88773031\n",
            " 3.91202301 3.81551211 3.8286414  3.91202301 3.91202301 3.91202301\n",
            " 3.91202301 3.91202301 3.91202301]\n",
            "45\n",
            "Index([161, 162, 163, 166, 186, 195, 203, 204, 224, 225, 228, 233, 257, 262,\n",
            "       267, 280, 282, 283, 368, 369, 370, 371, 372, 384, 385, 387, 397, 398,\n",
            "       399, 400, 401, 403, 404, 405, 414, 415, 416, 418, 419, 425, 429, 437,\n",
            "       438, 489, 490],\n",
            "      dtype='int64')\n"
          ]
        }
      ],
      "source": [
        "outliers = [flier.get_ydata() for flier in boxplot[\"fliers\"]][0]\n",
        "print(max(outliers))\n",
        "print(min(outliers))\n",
        "print(outliers)\n",
        "print(len(outliers))\n",
        "outliers_indices = df[df['MEDV'].isin(outliers)].index\n",
        "print(outliers_indices)"
      ]
    },
    {
      "cell_type": "code",
      "execution_count": 547,
      "id": "fa04df9f-e04f-4db4-8b81-991e1bcd87be",
      "metadata": {
        "colab": {
          "base_uri": "https://localhost:8080/"
        },
        "id": "fa04df9f-e04f-4db4-8b81-991e1bcd87be",
        "outputId": "48d4d27c-f0d6-42ce-9a1c-55f84dea7b30"
      },
      "outputs": [
        {
          "output_type": "stream",
          "name": "stdout",
          "text": [
            "(506, 14)\n",
            "(461, 14)\n",
            "(461,)\n",
            "(461, 13)\n",
            "(461,)\n",
            "(461, 14)\n",
            "                            OLS Regression Results                            \n",
            "==============================================================================\n",
            "Dep. Variable:                   MEDV   R-squared:                       0.782\n",
            "Model:                            OLS   Adj. R-squared:                  0.774\n",
            "Method:                 Least Squares   F-statistic:                     97.88\n",
            "Date:                Thu, 21 Aug 2025   Prob (F-statistic):          1.40e-108\n",
            "Time:                        17:38:35   Log-Likelihood:                 190.67\n",
            "No. Observations:                 368   AIC:                            -353.3\n",
            "Df Residuals:                     354   BIC:                            -298.6\n",
            "Df Model:                          13                                         \n",
            "Covariance Type:            nonrobust                                         \n",
            "==============================================================================\n",
            "                 coef    std err          t      P>|t|      [0.025      0.975]\n",
            "------------------------------------------------------------------------------\n",
            "const          4.9034      0.264     18.583      0.000       4.384       5.422\n",
            "CRIM          -0.0204      0.010     -2.060      0.040      -0.040      -0.001\n",
            "ZN            -0.0007      0.000     -1.506      0.133      -0.002       0.000\n",
            "INDUS         -0.0003      0.008     -0.038      0.970      -0.017       0.016\n",
            "CHAS           0.0591      0.034      1.731      0.084      -0.008       0.126\n",
            "NOX           -0.3772      0.093     -4.058      0.000      -0.560      -0.194\n",
            "RM             0.0564      0.017      3.369      0.001       0.023       0.089\n",
            "AGE            0.0196      0.019      1.037      0.301      -0.018       0.057\n",
            "DIS           -0.1324      0.031     -4.268      0.000      -0.193      -0.071\n",
            "RAD            0.0096      0.003      3.486      0.001       0.004       0.015\n",
            "TAX           -0.0005      0.000     -3.227      0.001      -0.001      -0.000\n",
            "PTRATIO       -0.5806      0.079     -7.352      0.000      -0.736      -0.425\n",
            "B              0.0004      0.000      4.271      0.000       0.000       0.001\n",
            "LSTAT         -0.3185      0.026    -12.441      0.000      -0.369      -0.268\n",
            "==============================================================================\n",
            "Omnibus:                        8.902   Durbin-Watson:                   1.903\n",
            "Prob(Omnibus):                  0.012   Jarque-Bera (JB):               11.810\n",
            "Skew:                           0.208   Prob(JB):                      0.00273\n",
            "Kurtosis:                       3.773   Cond. No.                     1.92e+04\n",
            "==============================================================================\n",
            "\n",
            "Notes:\n",
            "[1] Standard Errors assume that the covariance matrix of the errors is correctly specified.\n",
            "[2] The condition number is large, 1.92e+04. This might indicate that there are\n",
            "strong multicollinearity or other numerical problems.\n",
            "***** R2_score from sklearn.metrics: *****\n",
            "0.4511176959625324\n",
            "y_test variance: \n",
            "0.09260160807037632\n",
            "y_test size: \n",
            "93\n",
            "RSE: \n",
            "0.031222267157910835\n",
            "***** R2 calculated for test observations: *****\n",
            "0.6628323437517174\n"
          ]
        }
      ],
      "source": [
        "print(df.shape)\n",
        "df1 = df[~df['MEDV'].isin(outliers)]\n",
        "print(df1.shape)\n",
        "y1 = df1['MEDV']\n",
        "X1 = df1.loc[:, df1.columns != 'MEDV']\n",
        "print(y1.shape)\n",
        "print(X1.shape)\n",
        "X1 = sm.add_constant(X1)\n",
        "print(y1.shape)\n",
        "print(X1.shape)\n",
        "X1.head(2)\n",
        "X1_train, X1_test, y1_train, y1_test = train_test_split(X1, y1, test_size = get_test_size(), random_state = get_random_state())\n",
        "regressor2 = sm.OLS(y1_train, X1_train).fit()\n",
        "print(regressor2.summary())\n",
        "y1_pred = regressor2.predict(X1_test)\n",
        "calculate_r2(y1_pred, y1_test)"
      ]
    },
    {
      "cell_type": "markdown",
      "id": "90978251-c92c-47c7-9f19-2164f3f984cb",
      "metadata": {
        "id": "90978251-c92c-47c7-9f19-2164f3f984cb"
      },
      "source": [
        "### regressor2 (removing outliers detected by boxplot) => test r-squared = 74.43%, but 40 rows are removed"
      ]
    },
    {
      "cell_type": "code",
      "execution_count": 548,
      "id": "e24225ec-59fd-4977-ae2d-405943730386",
      "metadata": {
        "colab": {
          "base_uri": "https://localhost:8080/"
        },
        "id": "e24225ec-59fd-4977-ae2d-405943730386",
        "outputId": "a3eb6fed-7b93-4fb8-de4b-0907ab1d1260"
      },
      "outputs": [
        {
          "output_type": "stream",
          "name": "stdout",
          "text": [
            "412    True\n",
            "405    True\n",
            "398    True\n",
            "Name: bonf(p), dtype: bool\n",
            "3\n",
            "Index([412, 405, 398], dtype='int64')\n"
          ]
        }
      ],
      "source": [
        "# Outliers detection using Z-scores\n",
        "outliers_zscore = np.abs(regressor1.outlier_test()['bonf(p)']) < 0.05\n",
        "print(outliers_zscore[outliers_zscore == True])\n",
        "print(len(outliers_zscore[outliers_zscore == True]))\n",
        "outliers_indices = outliers_zscore[outliers_zscore == True].index\n",
        "print(outliers_indices)"
      ]
    },
    {
      "cell_type": "code",
      "execution_count": 549,
      "id": "4f757a36-f278-46dc-8ee6-637a1d7afd97",
      "metadata": {
        "colab": {
          "base_uri": "https://localhost:8080/"
        },
        "id": "4f757a36-f278-46dc-8ee6-637a1d7afd97",
        "outputId": "a954e4c8-341c-402b-fe3a-4c54786550fc"
      },
      "outputs": [
        {
          "output_type": "stream",
          "name": "stdout",
          "text": [
            "(506, 14)\n",
            "(503, 14)\n",
            "(503,)\n",
            "(503, 14)\n",
            "                            OLS Regression Results                            \n",
            "==============================================================================\n",
            "Dep. Variable:                   MEDV   R-squared:                       0.793\n",
            "Model:                            OLS   Adj. R-squared:                  0.786\n",
            "Method:                 Least Squares   F-statistic:                     114.1\n",
            "Date:                Thu, 21 Aug 2025   Prob (F-statistic):          1.14e-123\n",
            "Time:                        17:38:35   Log-Likelihood:                 109.83\n",
            "No. Observations:                 402   AIC:                            -191.7\n",
            "Df Residuals:                     388   BIC:                            -135.7\n",
            "Df Model:                          13                                         \n",
            "Covariance Type:            nonrobust                                         \n",
            "==============================================================================\n",
            "                 coef    std err          t      P>|t|      [0.025      0.975]\n",
            "------------------------------------------------------------------------------\n",
            "const          5.0474      0.340     14.861      0.000       4.380       5.715\n",
            "CRIM          -0.0193      0.012     -1.602      0.110      -0.043       0.004\n",
            "ZN            -0.0012      0.001     -1.978      0.049      -0.002    -7.1e-06\n",
            "INDUS          0.0046      0.010      0.452      0.652      -0.015       0.024\n",
            "CHAS           0.1161      0.040      2.921      0.004       0.038       0.194\n",
            "NOX           -0.3693      0.117     -3.162      0.002      -0.599      -0.140\n",
            "RM             0.0917      0.020      4.631      0.000       0.053       0.131\n",
            "AGE            0.0217      0.023      0.955      0.340      -0.023       0.066\n",
            "DIS           -0.1437      0.038     -3.822      0.000      -0.218      -0.070\n",
            "RAD            0.0101      0.003      3.088      0.002       0.004       0.017\n",
            "TAX           -0.0006      0.000     -3.508      0.001      -0.001      -0.000\n",
            "PTRATIO       -0.6620      0.099     -6.707      0.000      -0.856      -0.468\n",
            "B              0.0005      0.000      4.235      0.000       0.000       0.001\n",
            "LSTAT         -0.3730      0.028    -13.216      0.000      -0.428      -0.318\n",
            "==============================================================================\n",
            "Omnibus:                       46.536   Durbin-Watson:                   1.999\n",
            "Prob(Omnibus):                  0.000   Jarque-Bera (JB):              268.625\n",
            "Skew:                          -0.222   Prob(JB):                     4.66e-59\n",
            "Kurtosis:                       6.980   Cond. No.                     2.06e+04\n",
            "==============================================================================\n",
            "\n",
            "Notes:\n",
            "[1] Standard Errors assume that the covariance matrix of the errors is correctly specified.\n",
            "[2] The condition number is large, 2.06e+04. This might indicate that there are\n",
            "strong multicollinearity or other numerical problems.\n",
            "***** R2_score from sklearn.metrics: *****\n",
            "0.6461740706609802\n",
            "y_test variance: \n",
            "0.14326692041931832\n",
            "y_test size: \n",
            "101\n",
            "RSE: \n",
            "0.03779439066554826\n",
            "***** R2 calculated for test observations: *****\n",
            "0.7361959721411586\n"
          ]
        }
      ],
      "source": [
        "print(df.shape)\n",
        "df2 = df.drop(index = outliers_indices)\n",
        "print(df2.shape)\n",
        "y2 = df2['MEDV']\n",
        "X2 = df2.loc[:, df2.columns != 'MEDV']\n",
        "X2 = sm.add_constant(X2)\n",
        "print(y2.shape)\n",
        "print(X2.shape)\n",
        "X2_train, X2_test, y2_train, y2_test = train_test_split(X2, y2, test_size = get_test_size(), random_state = get_random_state())\n",
        "regressor3 = sm.OLS(y2_train, X2_train).fit()\n",
        "print(regressor3.summary())\n",
        "y2_pred = regressor3.predict(X2_test)\n",
        "calculate_r2(y2_pred, y2_test)"
      ]
    },
    {
      "cell_type": "markdown",
      "id": "672191d2-f620-4882-a5b8-74d56f705c8e",
      "metadata": {
        "id": "672191d2-f620-4882-a5b8-74d56f705c8e"
      },
      "source": [
        "### regressor3 (removing outliers detected by Z-scores) => test r-squared = 71.61%, 3 rows are removed"
      ]
    },
    {
      "cell_type": "markdown",
      "id": "d76c361e-d9c9-419a-9e35-1b2e5efbf470",
      "metadata": {
        "id": "d76c361e-d9c9-419a-9e35-1b2e5efbf470"
      },
      "source": [
        "### Check for high leverage points"
      ]
    },
    {
      "cell_type": "code",
      "execution_count": 550,
      "id": "9277699f-14e1-407e-b665-7c229dfa3689",
      "metadata": {
        "colab": {
          "base_uri": "https://localhost:8080/"
        },
        "id": "9277699f-14e1-407e-b665-7c229dfa3689",
        "outputId": "d74b7666-308d-4b07-bf19-10c7e94a4b69"
      },
      "outputs": [
        {
          "output_type": "stream",
          "name": "stdout",
          "text": [
            "[ 41  74 142 152 155 156 161 162 163 214 253 283 342 364 365 367 368 369\n",
            " 370 410 488 489 490 491 492]\n",
            "25\n"
          ]
        }
      ],
      "source": [
        "# High Leverage points check using Leverage statistics (eg. Hat Matrix)\n",
        "regressor4 = sm.OLS(y, X).fit()\n",
        "influence = regressor4.get_influence()\n",
        "leverage = influence.hat_matrix_diag\n",
        "leverage_points = np.where(leverage > np.mean(leverage) + 2 * np.std(leverage))\n",
        "print(leverage_points[0])\n",
        "print(len(leverage_points[0]))"
      ]
    },
    {
      "cell_type": "code",
      "execution_count": 551,
      "id": "5b4e384c-16f1-42ee-992a-7f7099641d7d",
      "metadata": {
        "colab": {
          "base_uri": "https://localhost:8080/"
        },
        "id": "5b4e384c-16f1-42ee-992a-7f7099641d7d",
        "outputId": "03bf429c-dde7-4435-e99f-9c24d6779b86"
      },
      "outputs": [
        {
          "output_type": "stream",
          "name": "stdout",
          "text": [
            "(506, 14)\n",
            "(481, 14)\n",
            "(481,)\n",
            "(481, 14)\n",
            "                            OLS Regression Results                            \n",
            "==============================================================================\n",
            "Dep. Variable:                   MEDV   R-squared:                       0.769\n",
            "Model:                            OLS   Adj. R-squared:                  0.761\n",
            "Method:                 Least Squares   F-statistic:                     94.66\n",
            "Date:                Thu, 21 Aug 2025   Prob (F-statistic):          5.64e-109\n",
            "Time:                        17:38:35   Log-Likelihood:                 96.933\n",
            "No. Observations:                 384   AIC:                            -165.9\n",
            "Df Residuals:                     370   BIC:                            -110.6\n",
            "Df Model:                          13                                         \n",
            "Covariance Type:            nonrobust                                         \n",
            "==============================================================================\n",
            "                 coef    std err          t      P>|t|      [0.025      0.975]\n",
            "------------------------------------------------------------------------------\n",
            "const          4.5927      0.370     12.399      0.000       3.864       5.321\n",
            "CRIM          -0.0354      0.013     -2.771      0.006      -0.060      -0.010\n",
            "ZN            -0.0020      0.001     -2.978      0.003      -0.003      -0.001\n",
            "INDUS          0.0095      0.011      0.872      0.384      -0.012       0.031\n",
            "CHAS           0.1447      0.042      3.474      0.001       0.063       0.227\n",
            "NOX           -0.2400      0.124     -1.942      0.053      -0.483       0.003\n",
            "RM             0.1320      0.024      5.468      0.000       0.085       0.179\n",
            "AGE            0.0178      0.028      0.635      0.526      -0.037       0.073\n",
            "DIS           -0.0678      0.041     -1.653      0.099      -0.149       0.013\n",
            "RAD            0.0044      0.004      1.162      0.246      -0.003       0.012\n",
            "TAX           -0.0003      0.000     -1.287      0.199      -0.001       0.000\n",
            "PTRATIO       -0.6278      0.104     -6.018      0.000      -0.833      -0.423\n",
            "B              0.0003      0.000      2.277      0.023    4.42e-05       0.001\n",
            "LSTAT         -0.3404      0.036     -9.586      0.000      -0.410      -0.271\n",
            "==============================================================================\n",
            "Omnibus:                       60.014   Durbin-Watson:                   2.070\n",
            "Prob(Omnibus):                  0.000   Jarque-Bera (JB):              325.459\n",
            "Skew:                          -0.498   Prob(JB):                     2.13e-71\n",
            "Kurtosis:                       7.399   Cond. No.                     2.14e+04\n",
            "==============================================================================\n",
            "\n",
            "Notes:\n",
            "[1] Standard Errors assume that the covariance matrix of the errors is correctly specified.\n",
            "[2] The condition number is large, 2.14e+04. This might indicate that there are\n",
            "strong multicollinearity or other numerical problems.\n",
            "***** R2_score from sklearn.metrics: *****\n",
            "0.7217363240489333\n",
            "y_test variance: \n",
            "0.1712883835811074\n",
            "y_test size: \n",
            "97\n",
            "RSE: \n",
            "0.03731760373159249\n",
            "***** R2 calculated for test observations: *****\n",
            "0.7821358170857973\n"
          ]
        }
      ],
      "source": [
        "print(df.shape)\n",
        "df3 = df.drop(leverage_points[0], axis = 0)\n",
        "print(df3.shape)\n",
        "y3 = df3['MEDV']\n",
        "X3 = df3.loc[:, df3.columns != 'MEDV']\n",
        "X3 = sm.add_constant(X3)\n",
        "print(y3.shape)\n",
        "print(X3.shape)\n",
        "X3_train, X3_test, y3_train, y3_test = train_test_split(X3, y3, test_size = get_test_size(), random_state = get_random_state())\n",
        "regressor5 = sm.OLS(y3_train, X3_train).fit()\n",
        "print(regressor5.summary())\n",
        "y3_pred = regressor5.predict(X3_test)\n",
        "calculate_r2(y3_pred, y3_test)"
      ]
    },
    {
      "cell_type": "markdown",
      "id": "c97e5cdc-cb4a-42f7-9fad-adf35b3c325f",
      "metadata": {
        "id": "c97e5cdc-cb4a-42f7-9fad-adf35b3c325f"
      },
      "source": [
        "### regressor5 (removing high-leverage-points detected by hat-matrix) => test r-squared = 73.12%, but 17 rows are removed"
      ]
    },
    {
      "cell_type": "code",
      "execution_count": 552,
      "id": "c208b068-0154-4ccc-9ff8-8ad1f8966418",
      "metadata": {
        "colab": {
          "base_uri": "https://localhost:8080/"
        },
        "id": "c208b068-0154-4ccc-9ff8-8ad1f8966418",
        "outputId": "b7501692-4383-4404-d973-927a21f7ef03"
      },
      "outputs": [
        {
          "output_type": "stream",
          "name": "stdout",
          "text": [
            "0.2857142857142857\n",
            "(array([], dtype=int64),)\n"
          ]
        }
      ],
      "source": [
        "# High Leverage check using Cook's distance\n",
        "cook_distance = regressor4.get_influence().cooks_distance[0]\n",
        "print(4 / df.shape[1])\n",
        "influential_observations = np.where(cook_distance > 4 / df.shape[1])\n",
        "print(influential_observations)"
      ]
    },
    {
      "cell_type": "markdown",
      "id": "7f377e64-7c0f-4e3f-8bf8-049328c9003e",
      "metadata": {
        "id": "7f377e64-7c0f-4e3f-8bf8-049328c9003e"
      },
      "source": [
        "### Detecting High-leverage-points using Cook's distance resulted in no data"
      ]
    },
    {
      "cell_type": "markdown",
      "id": "45e4970e-3d9a-41e4-8f02-535e74f26c7a",
      "metadata": {
        "id": "45e4970e-3d9a-41e4-8f02-535e74f26c7a"
      },
      "source": [
        "### Calculate Influence using DFFITS and DFBETAS"
      ]
    },
    {
      "cell_type": "code",
      "execution_count": 553,
      "id": "d0cdad65-21e1-4b14-9804-2b6c4cdcb24c",
      "metadata": {
        "colab": {
          "base_uri": "https://localhost:8080/"
        },
        "id": "d0cdad65-21e1-4b14-9804-2b6c4cdcb24c",
        "outputId": "8a51e231-f26f-4004-d33b-d9edaab1a22d"
      },
      "outputs": [
        {
          "output_type": "stream",
          "name": "stdout",
          "text": [
            "[]\n",
            "[]\n"
          ]
        }
      ],
      "source": [
        "# Influence calculation using DFFITS and DFBETAS\n",
        "dffits = regressor4.get_influence().dffits[0]\n",
        "dfbetas = regressor4.get_influence().dfbetas\n",
        "influential_dffits = np.where(np.abs(dffits) > 2 * np.sqrt(df.shape[1] * regressor4.df_model / regressor4.df_resid))\n",
        "coefficient_index = 0  # Index of the coefficient to analyze\n",
        "influential_dfbetas = np.where(np.abs(dfbetas[:, coefficient_index]) > 2 / np.sqrt(df.shape[1]))\n",
        "print(influential_dffits[0])\n",
        "print(influential_dfbetas[0])"
      ]
    },
    {
      "cell_type": "code",
      "execution_count": 554,
      "id": "5f10f0f7-62e3-4108-bbfc-3c6ee7d18b5d",
      "metadata": {
        "colab": {
          "base_uri": "https://localhost:8080/"
        },
        "id": "5f10f0f7-62e3-4108-bbfc-3c6ee7d18b5d",
        "outputId": "8d6fcef2-102b-4041-fec4-8cdb559a0511"
      },
      "outputs": [
        {
          "output_type": "stream",
          "name": "stdout",
          "text": [
            "(506, 14)\n",
            "(506,)\n",
            "(506, 14)\n",
            "                            OLS Regression Results                            \n",
            "==============================================================================\n",
            "Dep. Variable:                   MEDV   R-squared:                       0.803\n",
            "Model:                            OLS   Adj. R-squared:                  0.797\n",
            "Method:                 Least Squares   F-statistic:                     122.4\n",
            "Date:                Thu, 21 Aug 2025   Prob (F-statistic):          1.02e-128\n",
            "Time:                        17:38:36   Log-Likelihood:                 112.08\n",
            "No. Observations:                 404   AIC:                            -196.2\n",
            "Df Residuals:                     390   BIC:                            -140.1\n",
            "Df Model:                          13                                         \n",
            "Covariance Type:            nonrobust                                         \n",
            "==============================================================================\n",
            "                 coef    std err          t      P>|t|      [0.025      0.975]\n",
            "------------------------------------------------------------------------------\n",
            "const          5.2535      0.335     15.682      0.000       4.595       5.912\n",
            "CRIM          -0.0328      0.012     -2.734      0.007      -0.056      -0.009\n",
            "ZN            -0.0015      0.001     -2.442      0.015      -0.003      -0.000\n",
            "INDUS          0.0076      0.010      0.741      0.459      -0.012       0.028\n",
            "CHAS           0.0949      0.038      2.513      0.012       0.021       0.169\n",
            "NOX           -0.2242      0.120     -1.875      0.061      -0.459       0.011\n",
            "RM             0.0714      0.019      3.667      0.000       0.033       0.110\n",
            "AGE            0.0424      0.023      1.828      0.068      -0.003       0.088\n",
            "DIS           -0.0769      0.038     -2.004      0.046      -0.152      -0.001\n",
            "RAD            0.0098      0.003      3.032      0.003       0.003       0.016\n",
            "TAX           -0.0005      0.000     -3.328      0.001      -0.001      -0.000\n",
            "PTRATIO       -0.7101      0.099     -7.146      0.000      -0.905      -0.515\n",
            "B              0.0005      0.000      4.233      0.000       0.000       0.001\n",
            "LSTAT         -0.3929      0.027    -14.374      0.000      -0.447      -0.339\n",
            "==============================================================================\n",
            "Omnibus:                       50.308   Durbin-Watson:                   2.044\n",
            "Prob(Omnibus):                  0.000   Jarque-Bera (JB):              200.128\n",
            "Skew:                          -0.457   Prob(JB):                     3.49e-44\n",
            "Kurtosis:                       6.325   Cond. No.                     2.04e+04\n",
            "==============================================================================\n",
            "\n",
            "Notes:\n",
            "[1] Standard Errors assume that the covariance matrix of the errors is correctly specified.\n",
            "[2] The condition number is large, 2.04e+04. This might indicate that there are\n",
            "strong multicollinearity or other numerical problems.\n",
            "***** R2_score from sklearn.metrics: *****\n",
            "0.44817974952339845\n",
            "y_test variance: \n",
            "0.1522371618953894\n",
            "y_test size: \n",
            "102\n",
            "RSE: \n",
            "0.06104778252214618\n",
            "***** R2 calculated for test observations: *****\n",
            "0.5989955293301152\n"
          ]
        }
      ],
      "source": [
        "df4 = df.drop(influential_dffits[0], axis = 0)\n",
        "print(df4.shape)\n",
        "y4 = df4['MEDV']\n",
        "X4 = df4.loc[:, df4.columns != 'MEDV']\n",
        "X4 = sm.add_constant(X4)\n",
        "print(y4.shape)\n",
        "print(X4.shape)\n",
        "X4_train, X4_test, y4_train, y4_test = train_test_split(X4, y4, test_size = get_test_size(), random_state = get_random_state())\n",
        "regressor6 = sm.OLS(y4_train, X4_train).fit()\n",
        "print(regressor6.summary())\n",
        "y4_pred = regressor6.predict(X4_test)\n",
        "calculate_r2(y4_pred, y4_test)"
      ]
    },
    {
      "cell_type": "markdown",
      "id": "32b6b0e1-5fff-4e1b-ae8d-866f21728b57",
      "metadata": {
        "id": "32b6b0e1-5fff-4e1b-ae8d-866f21728b57"
      },
      "source": [
        "### regressor6 (removing influence-points detected by DFFITS) => test r-squared = 69.56%, 1 row is removed"
      ]
    },
    {
      "cell_type": "code",
      "execution_count": 555,
      "id": "69349308-b48d-43f1-a271-723a06d70fd3",
      "metadata": {
        "colab": {
          "base_uri": "https://localhost:8080/"
        },
        "id": "69349308-b48d-43f1-a271-723a06d70fd3",
        "outputId": "dff5990e-a858-4d6d-cabc-25bafdc6ff4b"
      },
      "outputs": [
        {
          "output_type": "stream",
          "name": "stdout",
          "text": [
            "(506, 14)\n",
            "(506,)\n",
            "(506, 14)\n",
            "                            OLS Regression Results                            \n",
            "==============================================================================\n",
            "Dep. Variable:                   MEDV   R-squared:                       0.803\n",
            "Model:                            OLS   Adj. R-squared:                  0.797\n",
            "Method:                 Least Squares   F-statistic:                     122.4\n",
            "Date:                Thu, 21 Aug 2025   Prob (F-statistic):          1.02e-128\n",
            "Time:                        17:38:36   Log-Likelihood:                 112.08\n",
            "No. Observations:                 404   AIC:                            -196.2\n",
            "Df Residuals:                     390   BIC:                            -140.1\n",
            "Df Model:                          13                                         \n",
            "Covariance Type:            nonrobust                                         \n",
            "==============================================================================\n",
            "                 coef    std err          t      P>|t|      [0.025      0.975]\n",
            "------------------------------------------------------------------------------\n",
            "const          5.2535      0.335     15.682      0.000       4.595       5.912\n",
            "CRIM          -0.0328      0.012     -2.734      0.007      -0.056      -0.009\n",
            "ZN            -0.0015      0.001     -2.442      0.015      -0.003      -0.000\n",
            "INDUS          0.0076      0.010      0.741      0.459      -0.012       0.028\n",
            "CHAS           0.0949      0.038      2.513      0.012       0.021       0.169\n",
            "NOX           -0.2242      0.120     -1.875      0.061      -0.459       0.011\n",
            "RM             0.0714      0.019      3.667      0.000       0.033       0.110\n",
            "AGE            0.0424      0.023      1.828      0.068      -0.003       0.088\n",
            "DIS           -0.0769      0.038     -2.004      0.046      -0.152      -0.001\n",
            "RAD            0.0098      0.003      3.032      0.003       0.003       0.016\n",
            "TAX           -0.0005      0.000     -3.328      0.001      -0.001      -0.000\n",
            "PTRATIO       -0.7101      0.099     -7.146      0.000      -0.905      -0.515\n",
            "B              0.0005      0.000      4.233      0.000       0.000       0.001\n",
            "LSTAT         -0.3929      0.027    -14.374      0.000      -0.447      -0.339\n",
            "==============================================================================\n",
            "Omnibus:                       50.308   Durbin-Watson:                   2.044\n",
            "Prob(Omnibus):                  0.000   Jarque-Bera (JB):              200.128\n",
            "Skew:                          -0.457   Prob(JB):                     3.49e-44\n",
            "Kurtosis:                       6.325   Cond. No.                     2.04e+04\n",
            "==============================================================================\n",
            "\n",
            "Notes:\n",
            "[1] Standard Errors assume that the covariance matrix of the errors is correctly specified.\n",
            "[2] The condition number is large, 2.04e+04. This might indicate that there are\n",
            "strong multicollinearity or other numerical problems.\n",
            "***** R2_score from sklearn.metrics: *****\n",
            "0.44817974952339845\n",
            "y_test variance: \n",
            "0.1522371618953894\n",
            "y_test size: \n",
            "102\n",
            "RSE: \n",
            "0.06104778252214618\n",
            "***** R2 calculated for test observations: *****\n",
            "0.5989955293301152\n"
          ]
        }
      ],
      "source": [
        "df5 = df.drop(influential_dfbetas[0], axis = 0)\n",
        "print(df5.shape)\n",
        "y5 = df5['MEDV']\n",
        "X5 = df5.loc[:, df5.columns != 'MEDV']\n",
        "X5 = sm.add_constant(X5)\n",
        "print(y5.shape)\n",
        "print(X5.shape)\n",
        "X5_train, X5_test, y5_train, y5_test = train_test_split(X5, y5, test_size = get_test_size(), random_state = get_random_state())\n",
        "regressor7 = sm.OLS(y5_train, X5_train).fit()\n",
        "print(regressor7.summary())\n",
        "y5_pred = regressor7.predict(X5_test)\n",
        "calculate_r2(y5_pred, y5_test)"
      ]
    },
    {
      "cell_type": "markdown",
      "id": "b9833689-bb17-462a-ad1e-1a465bf1c9ac",
      "metadata": {
        "id": "b9833689-bb17-462a-ad1e-1a465bf1c9ac"
      },
      "source": [
        "### regressor7 (removing influence-points detected by DFBETAS) => test r-squared = 74.56%, 3 rows are removed"
      ]
    },
    {
      "cell_type": "markdown",
      "id": "2b6eab5b-52e5-42aa-a7e4-8b2f142145ca",
      "metadata": {
        "id": "2b6eab5b-52e5-42aa-a7e4-8b2f142145ca"
      },
      "source": [
        "## Checking Multicollinearity using VIF"
      ]
    },
    {
      "cell_type": "code",
      "execution_count": 556,
      "id": "9408c571-71ee-41b9-9aec-cc249fe538f9",
      "metadata": {
        "colab": {
          "base_uri": "https://localhost:8080/"
        },
        "id": "9408c571-71ee-41b9-9aec-cc249fe538f9",
        "outputId": "f423259f-1335-4e4c-9674-e0c109f75c06"
      },
      "outputs": [
        {
          "output_type": "stream",
          "name": "stdout",
          "text": [
            "Index(['const', 'CRIM', 'ZN', 'INDUS', 'CHAS', 'NOX', 'RM', 'AGE', 'DIS',\n",
            "       'RAD', 'TAX', 'PTRATIO', 'B', 'LSTAT'],\n",
            "      dtype='object')\n",
            "    feature         VIF\n",
            "0      CRIM    8.933262\n",
            "1        ZN    2.591935\n",
            "2     INDUS   22.814743\n",
            "3      CHAS    1.156339\n",
            "4       NOX   61.845987\n",
            "5        RM  116.970242\n",
            "6       AGE  106.007922\n",
            "7       DIS   27.883927\n",
            "8       RAD   19.794043\n",
            "9       TAX   58.784810\n",
            "10  PTRATIO  408.969403\n",
            "11        B   21.524833\n",
            "12    LSTAT   50.312553\n"
          ]
        }
      ],
      "source": [
        "print(X.columns)\n",
        "X_vif1 = X.drop('const', axis = 1)\n",
        "# VIF dataframe\n",
        "vif_data = pd.DataFrame()\n",
        "vif_data[\"feature\"] = X_vif1.columns\n",
        "# calculating VIF for each feature\n",
        "vif_data[\"VIF\"] = [variance_inflation_factor(X_vif1.values, i)\n",
        "                          for i in range(len(X_vif1.columns))]\n",
        "\n",
        "print(vif_data)"
      ]
    },
    {
      "cell_type": "code",
      "execution_count": 557,
      "id": "6c31bf0f-59b2-4f25-9905-e1ef7d1100b4",
      "metadata": {
        "colab": {
          "base_uri": "https://localhost:8080/"
        },
        "id": "6c31bf0f-59b2-4f25-9905-e1ef7d1100b4",
        "outputId": "3f5a010d-143e-4140-8b81-e71f115a65a9"
      },
      "outputs": [
        {
          "output_type": "stream",
          "name": "stdout",
          "text": [
            "   feature        VIF\n",
            "0     CRIM   8.872372\n",
            "1       ZN   2.496350\n",
            "2    INDUS  20.517219\n",
            "3     CHAS   1.152593\n",
            "4      NOX  50.870618\n",
            "5       RM  83.074928\n",
            "6      AGE  95.170206\n",
            "7      DIS  26.715634\n",
            "8      RAD  19.664212\n",
            "9      TAX  56.625647\n",
            "10       B  20.379674\n",
            "11   LSTAT  40.477281\n"
          ]
        }
      ],
      "source": [
        "X_vif2 = X_vif1.drop('PTRATIO', axis = 1)\n",
        "# VIF dataframe\n",
        "vif_data = pd.DataFrame()\n",
        "vif_data[\"feature\"] = X_vif2.columns\n",
        "# calculating VIF for each feature\n",
        "vif_data[\"VIF\"] = [variance_inflation_factor(X_vif2.values, i)\n",
        "                          for i in range(len(X_vif2.columns))]\n",
        "\n",
        "print(vif_data)"
      ]
    },
    {
      "cell_type": "code",
      "execution_count": 558,
      "id": "13db9439-c15c-4efd-b7d0-387043e9c3fa",
      "metadata": {
        "colab": {
          "base_uri": "https://localhost:8080/"
        },
        "id": "13db9439-c15c-4efd-b7d0-387043e9c3fa",
        "outputId": "cb983086-a9f2-48ed-f0f1-f5afac549cea"
      },
      "outputs": [
        {
          "output_type": "stream",
          "name": "stdout",
          "text": [
            "   feature        VIF\n",
            "0     CRIM   8.053676\n",
            "1       ZN   2.496177\n",
            "2    INDUS  20.446391\n",
            "3     CHAS   1.149628\n",
            "4       RM  74.149354\n",
            "5      AGE  94.799545\n",
            "6      DIS  17.657752\n",
            "7      RAD  19.579440\n",
            "8      TAX  56.625639\n",
            "9        B  20.011697\n",
            "10   LSTAT  39.813192\n"
          ]
        }
      ],
      "source": [
        "X_vif3 = X_vif2.drop('NOX', axis = 1)\n",
        "# VIF dataframe\n",
        "vif_data = pd.DataFrame()\n",
        "vif_data[\"feature\"] = X_vif3.columns\n",
        "# calculating VIF for each feature\n",
        "vif_data[\"VIF\"] = [variance_inflation_factor(X_vif3.values, i)\n",
        "                          for i in range(len(X_vif3.columns))]\n",
        "\n",
        "print(vif_data)"
      ]
    },
    {
      "cell_type": "code",
      "execution_count": 559,
      "id": "542f01bf-93bc-4a0d-9042-a80e2a7a786c",
      "metadata": {
        "colab": {
          "base_uri": "https://localhost:8080/"
        },
        "id": "542f01bf-93bc-4a0d-9042-a80e2a7a786c",
        "outputId": "40b35520-179a-48c4-e271-3a81722cbc8f"
      },
      "outputs": [
        {
          "output_type": "stream",
          "name": "stdout",
          "text": [
            "  feature        VIF\n",
            "0    CRIM   8.028136\n",
            "1      ZN   2.289879\n",
            "2   INDUS  15.929465\n",
            "3    CHAS   1.129103\n",
            "4      RM  73.358706\n",
            "5     AGE  94.354184\n",
            "6     DIS  17.644010\n",
            "7     RAD   9.043718\n",
            "8       B  20.000479\n",
            "9   LSTAT  38.990284\n"
          ]
        }
      ],
      "source": [
        "X_vif4 = X_vif3.drop('TAX', axis = 1)\n",
        "# VIF dataframe\n",
        "vif_data = pd.DataFrame()\n",
        "vif_data[\"feature\"] = X_vif4.columns\n",
        "# calculating VIF for each feature\n",
        "vif_data[\"VIF\"] = [variance_inflation_factor(X_vif4.values, i)\n",
        "                          for i in range(len(X_vif4.columns))]\n",
        "\n",
        "print(vif_data)"
      ]
    },
    {
      "cell_type": "code",
      "execution_count": 560,
      "id": "c11dd203-3f99-4c08-8eb3-e69c7b9045aa",
      "metadata": {
        "colab": {
          "base_uri": "https://localhost:8080/"
        },
        "id": "c11dd203-3f99-4c08-8eb3-e69c7b9045aa",
        "outputId": "132ce6da-8e44-4a47-fc51-d3cf5262c42d"
      },
      "outputs": [
        {
          "output_type": "stream",
          "name": "stdout",
          "text": [
            "  feature        VIF\n",
            "0    CRIM   7.909428\n",
            "1      ZN   2.227809\n",
            "2   INDUS  15.342810\n",
            "3    CHAS   1.128751\n",
            "4     AGE  45.442149\n",
            "5     DIS  13.924245\n",
            "6     RAD   8.659346\n",
            "7       B  19.315501\n",
            "8   LSTAT  32.889024\n"
          ]
        }
      ],
      "source": [
        "X_vif5 = X_vif4.drop('RM', axis = 1)\n",
        "# VIF dataframe\n",
        "vif_data = pd.DataFrame()\n",
        "vif_data[\"feature\"] = X_vif5.columns\n",
        "# calculating VIF for each feature\n",
        "vif_data[\"VIF\"] = [variance_inflation_factor(X_vif5.values, i)\n",
        "                          for i in range(len(X_vif5.columns))]\n",
        "\n",
        "print(vif_data)"
      ]
    },
    {
      "cell_type": "code",
      "execution_count": 561,
      "id": "ea448cf2-9fb4-4fd4-ba13-ee6767670ff3",
      "metadata": {
        "colab": {
          "base_uri": "https://localhost:8080/"
        },
        "id": "ea448cf2-9fb4-4fd4-ba13-ee6767670ff3",
        "outputId": "d6c64b28-5d6c-452c-ca38-d918c4908542"
      },
      "outputs": [
        {
          "output_type": "stream",
          "name": "stdout",
          "text": [
            "  feature        VIF\n",
            "0    CRIM   7.426942\n",
            "1      ZN   2.226604\n",
            "2   INDUS  15.044701\n",
            "3    CHAS   1.126370\n",
            "4     AGE  36.473108\n",
            "5     DIS  12.974853\n",
            "6     RAD   8.654288\n",
            "7   LSTAT  32.723688\n"
          ]
        }
      ],
      "source": [
        "X_vif6 = X_vif5.drop('B', axis = 1)\n",
        "# VIF dataframe\n",
        "vif_data = pd.DataFrame()\n",
        "vif_data[\"feature\"] = X_vif6.columns\n",
        "# calculating VIF for each feature\n",
        "vif_data[\"VIF\"] = [variance_inflation_factor(X_vif6.values, i)\n",
        "                          for i in range(len(X_vif6.columns))]\n",
        "\n",
        "print(vif_data)"
      ]
    },
    {
      "cell_type": "code",
      "execution_count": 562,
      "id": "fd3b3ef2-3050-4009-8fe5-eabefd12fc45",
      "metadata": {
        "colab": {
          "base_uri": "https://localhost:8080/"
        },
        "id": "fd3b3ef2-3050-4009-8fe5-eabefd12fc45",
        "outputId": "47ba9ef3-fe19-476e-f16e-bced0acb196e"
      },
      "outputs": [
        {
          "output_type": "stream",
          "name": "stdout",
          "text": [
            "  feature        VIF\n",
            "0    CRIM   6.932440\n",
            "1      ZN   2.226443\n",
            "2   INDUS  13.444395\n",
            "3    CHAS   1.093678\n",
            "4     DIS  12.619792\n",
            "5     RAD   8.254975\n",
            "6   LSTAT  20.095903\n"
          ]
        }
      ],
      "source": [
        "X_vif7 = X_vif6.drop('AGE', axis = 1)\n",
        "# VIF dataframe\n",
        "vif_data = pd.DataFrame()\n",
        "vif_data[\"feature\"] = X_vif7.columns\n",
        "# calculating VIF for each feature\n",
        "vif_data[\"VIF\"] = [variance_inflation_factor(X_vif7.values, i)\n",
        "                          for i in range(len(X_vif7.columns))]\n",
        "\n",
        "print(vif_data)"
      ]
    },
    {
      "cell_type": "code",
      "execution_count": 563,
      "id": "61794cef-4e7e-41af-b0fc-800f8cbfc751",
      "metadata": {
        "colab": {
          "base_uri": "https://localhost:8080/"
        },
        "id": "61794cef-4e7e-41af-b0fc-800f8cbfc751",
        "outputId": "cb1c2ffc-dff4-4e9d-ead1-1fa4bad2b139"
      },
      "outputs": [
        {
          "output_type": "stream",
          "name": "stdout",
          "text": [
            "  feature        VIF\n",
            "0    CRIM   6.931326\n",
            "1      ZN   2.136791\n",
            "2    CHAS   1.061194\n",
            "3     DIS  12.428116\n",
            "4     RAD   7.826670\n",
            "5   LSTAT   8.896892\n"
          ]
        }
      ],
      "source": [
        "X_vif8 = X_vif7.drop('INDUS', axis = 1)\n",
        "# VIF dataframe\n",
        "vif_data = pd.DataFrame()\n",
        "vif_data[\"feature\"] = X_vif8.columns\n",
        "# calculating VIF for each feature\n",
        "vif_data[\"VIF\"] = [variance_inflation_factor(X_vif8.values, i)\n",
        "                          for i in range(len(X_vif8.columns))]\n",
        "\n",
        "print(vif_data)"
      ]
    },
    {
      "cell_type": "markdown",
      "id": "4be77b9f-0de2-4058-99e1-5f5274565f22",
      "metadata": {
        "id": "4be77b9f-0de2-4058-99e1-5f5274565f22"
      },
      "source": [
        "### 'PTRATIO', 'NOX', 'TAX', 'RM', 'B', 'AGE', 'INDUS' has VIF values much larger than 5. We will remove these features and rebuild our model"
      ]
    },
    {
      "cell_type": "code",
      "execution_count": 564,
      "id": "b4ae0699-aa08-4236-a980-ec56e50c6da3",
      "metadata": {
        "colab": {
          "base_uri": "https://localhost:8080/"
        },
        "id": "b4ae0699-aa08-4236-a980-ec56e50c6da3",
        "outputId": "3120fdf1-dc99-487f-b0c7-b7efae8b8f1c"
      },
      "outputs": [
        {
          "output_type": "stream",
          "name": "stdout",
          "text": [
            "(506,)\n",
            "(506, 7)\n",
            "(506, 8)\n",
            "   const      CRIM    ZN  CHAS       DIS  RAD    LSTAT      MEDV\n",
            "0    1.0 -5.064036  18.0     0  1.408545    1  1.60543  3.178054\n",
            "1    1.0 -3.600502   0.0     0  1.602836    2  2.21266  3.072693\n",
            "                            OLS Regression Results                            \n",
            "==============================================================================\n",
            "Dep. Variable:                   MEDV   R-squared:                       1.000\n",
            "Model:                            OLS   Adj. R-squared:                  1.000\n",
            "Method:                 Least Squares   F-statistic:                 1.256e+27\n",
            "Date:                Thu, 21 Aug 2025   Prob (F-statistic):               0.00\n",
            "Time:                        17:38:36   Log-Likelihood:                 11573.\n",
            "No. Observations:                 404   AIC:                        -2.313e+04\n",
            "Df Residuals:                     396   BIC:                        -2.310e+04\n",
            "Df Model:                           7                                         \n",
            "Covariance Type:            nonrobust                                         \n",
            "==============================================================================\n",
            "                 coef    std err          t      P>|t|      [0.025      0.975]\n",
            "------------------------------------------------------------------------------\n",
            "const      -4.607e-15   9.68e-14     -0.048      0.962   -1.95e-13    1.86e-13\n",
            "CRIM       -3.747e-16   5.32e-15     -0.070      0.944   -1.08e-14    1.01e-14\n",
            "ZN          7.104e-16   2.47e-16      2.876      0.004    2.25e-16     1.2e-15\n",
            "CHAS        8.882e-16   1.78e-14      0.050      0.960   -3.42e-14     3.6e-14\n",
            "DIS         4.857e-17   1.33e-14      0.004      0.997   -2.61e-14    2.62e-14\n",
            "RAD        -6.523e-15   1.02e-15     -6.415      0.000   -8.52e-15   -4.52e-15\n",
            "LSTAT      -5.412e-16   1.42e-14     -0.038      0.970   -2.85e-14    2.74e-14\n",
            "MEDV           1.0000   2.09e-14   4.78e+13      0.000       1.000       1.000\n",
            "==============================================================================\n",
            "Omnibus:                       62.826   Durbin-Watson:                   1.071\n",
            "Prob(Omnibus):                  0.000   Jarque-Bera (JB):               49.194\n",
            "Skew:                           0.755   Prob(JB):                     2.08e-11\n",
            "Kurtosis:                       2.200   Cond. No.                         601.\n",
            "==============================================================================\n",
            "\n",
            "Notes:\n",
            "[1] Standard Errors assume that the covariance matrix of the errors is correctly specified.\n",
            "***** R2_score from sklearn.metrics: *****\n",
            "1.0\n",
            "y_test variance: \n",
            "0.1522371618953894\n",
            "y_test size: \n",
            "102\n",
            "RSE: \n",
            "8.566685270795459e-27\n",
            "***** R2 calculated for test observations: *****\n",
            "1.0\n"
          ]
        }
      ],
      "source": [
        "y6 = df['MEDV']\n",
        "X6 = df.drop(columns = ['PTRATIO', 'NOX', 'TAX', 'RM', 'B', 'AGE', 'INDUS'])\n",
        "print(y6.shape)\n",
        "print(X6.shape)\n",
        "X6 = sm.add_constant(X6)\n",
        "print(X6.shape)\n",
        "print(X6.head(2))\n",
        "X6_train, X6_test, y6_train, y6_test = train_test_split(X6, y6, test_size = get_test_size(), random_state = get_random_state())\n",
        "regressor8 = sm.OLS(y6_train, X6_train).fit()\n",
        "print(regressor8.summary())\n",
        "y6_pred = regressor8.predict(X6_test)\n",
        "calculate_r2(y6_pred, y6_test)"
      ]
    },
    {
      "cell_type": "code",
      "execution_count": 565,
      "id": "4b550414-4a4c-4335-ae84-d9166d839eea",
      "metadata": {
        "colab": {
          "base_uri": "https://localhost:8080/"
        },
        "id": "4b550414-4a4c-4335-ae84-d9166d839eea",
        "outputId": "248091cf-3256-4091-ce42-44a4bbc92b11"
      },
      "outputs": [
        {
          "output_type": "stream",
          "name": "stdout",
          "text": [
            "(506,)\n",
            "(506, 13)\n",
            "Added feature: LSTAT, Current MSE: 0.05177441125059137\n",
            "Added feature: PTRATIO, Current MSE: 0.04371582255888091\n",
            "Added feature: B, Current MSE: 0.04034811066169778\n",
            "Added feature: RM, Current MSE: 0.0387096734627553\n",
            "Added feature: TAX, Current MSE: 0.03691865661886776\n",
            "Added feature: CHAS, Current MSE: 0.03605062059032904\n",
            "Added feature: ZN, Current MSE: 0.03533697599308246\n",
            "Added feature: AGE, Current MSE: 0.03509969165436349\n",
            "Added feature: CRIM, Current MSE: 0.03480151877792638\n",
            "Added feature: RAD, Current MSE: 0.03413853597404064\n",
            "Added feature: DIS, Current MSE: 0.03393250756605277\n",
            "Added feature: NOX, Current MSE: 0.03366343646284623\n",
            "Added feature: INDUS, Current MSE: 0.03361608970008135\n",
            "['LSTAT', 'PTRATIO', 'B', 'RM', 'TAX', 'CHAS', 'ZN', 'AGE', 'CRIM', 'RAD', 'DIS', 'NOX', 'INDUS']\n"
          ]
        }
      ],
      "source": [
        "y_fs = df['MEDV']\n",
        "X_fs = df.loc[: , df.columns != 'MEDV']\n",
        "print(y_fs.shape)\n",
        "print(X_fs.shape)\n",
        "X_fs_train, X_fs_test, y_fs_train, y_fs_test = train_test_split(X_fs, y_fs, test_size = get_test_size(), random_state = get_random_state())\n",
        "forward_selection_results = forward_selection(X_fs_train, y_fs_train)\n",
        "print(forward_selection_results)"
      ]
    },
    {
      "cell_type": "code",
      "execution_count": 566,
      "id": "50bb2511-29fa-45d6-a190-36d9ed92ab92",
      "metadata": {
        "colab": {
          "base_uri": "https://localhost:8080/"
        },
        "id": "50bb2511-29fa-45d6-a190-36d9ed92ab92",
        "outputId": "1969dcca-5764-43cd-832a-68d515a7ef60"
      },
      "outputs": [
        {
          "output_type": "stream",
          "name": "stdout",
          "text": [
            "(506,)\n",
            "(506, 8)\n",
            "(506, 9)\n",
            "   const  CHAS       NOX     RM       DIS   PTRATIO      B    LSTAT      MEDV\n",
            "0    1.0     0 -0.619897  6.575  1.408545  2.727853  396.9  1.60543  3.178054\n",
            "1    1.0     0 -0.757153  6.421  1.602836  2.879198  396.9  2.21266  3.072693\n",
            "                            OLS Regression Results                            \n",
            "==============================================================================\n",
            "Dep. Variable:                   MEDV   R-squared:                       1.000\n",
            "Model:                            OLS   Adj. R-squared:                  1.000\n",
            "Method:                 Least Squares   F-statistic:                 7.798e+27\n",
            "Date:                Thu, 21 Aug 2025   Prob (F-statistic):               0.00\n",
            "Time:                        17:38:37   Log-Likelihood:                 11969.\n",
            "No. Observations:                 404   AIC:                        -2.392e+04\n",
            "Df Residuals:                     395   BIC:                        -2.388e+04\n",
            "Df Model:                           8                                         \n",
            "Covariance Type:            nonrobust                                         \n",
            "==============================================================================\n",
            "                 coef    std err          t      P>|t|      [0.025      0.975]\n",
            "------------------------------------------------------------------------------\n",
            "const        1.11e-15   7.03e-14      0.016      0.987   -1.37e-13    1.39e-13\n",
            "CHAS       -3.109e-15   6.69e-15     -0.464      0.643   -1.63e-14    1.01e-14\n",
            "NOX        -1.332e-15   1.79e-14     -0.074      0.941   -3.66e-14    3.39e-14\n",
            "RM          6.384e-16   3.37e-15      0.189      0.850   -5.99e-15    7.27e-15\n",
            "DIS         5.551e-16   6.27e-15      0.089      0.929   -1.18e-14    1.29e-14\n",
            "PTRATIO    -9.714e-16   1.57e-14     -0.062      0.951   -3.18e-14    2.99e-14\n",
            "B          -9.812e-17   2.16e-17     -4.546      0.000   -1.41e-16   -5.57e-17\n",
            "LSTAT       2.637e-16   5.61e-15      0.047      0.963   -1.08e-14    1.13e-14\n",
            "MEDV           1.0000   8.61e-15   1.16e+14      0.000       1.000       1.000\n",
            "==============================================================================\n",
            "Omnibus:                      266.162   Durbin-Watson:                   0.142\n",
            "Prob(Omnibus):                  0.000   Jarque-Bera (JB):             1693.269\n",
            "Skew:                          -2.995   Prob(JB):                         0.00\n",
            "Kurtosis:                      11.045   Cond. No.                     1.60e+04\n",
            "==============================================================================\n",
            "\n",
            "Notes:\n",
            "[1] Standard Errors assume that the covariance matrix of the errors is correctly specified.\n",
            "[2] The condition number is large, 1.6e+04. This might indicate that there are\n",
            "strong multicollinearity or other numerical problems.\n",
            "***** R2_score from sklearn.metrics: *****\n",
            "1.0\n",
            "y_test variance: \n",
            "0.1522371618953894\n",
            "y_test size: \n",
            "102\n",
            "RSE: \n",
            "1.0378610796629331e-27\n",
            "***** R2 calculated for test observations: *****\n",
            "1.0\n"
          ]
        }
      ],
      "source": [
        "y7 = df['MEDV']\n",
        "X7 = df.drop(columns = ['ZN', 'CRIM', 'RAD', 'TAX', 'AGE', 'INDUS'])\n",
        "print(y7.shape)\n",
        "print(X7.shape)\n",
        "X7 = sm.add_constant(X7)\n",
        "print(X7.shape)\n",
        "print(X7.head(2))\n",
        "X7_train, X7_test, y7_train, y7_test = train_test_split(X7, y7, test_size = get_test_size(), random_state = get_random_state())\n",
        "regressor9 = sm.OLS(y7_train, X7_train).fit()\n",
        "print(regressor9.summary())\n",
        "y7_pred = regressor9.predict(X7_test)\n",
        "calculate_r2(y7_pred, y7_test)"
      ]
    },
    {
      "cell_type": "code",
      "execution_count": 567,
      "id": "dcd79652-41b8-4d46-baaa-48a5d037ef70",
      "metadata": {
        "colab": {
          "base_uri": "https://localhost:8080/"
        },
        "id": "dcd79652-41b8-4d46-baaa-48a5d037ef70",
        "outputId": "6ade406b-7cf9-48c8-9319-0ea3d4d1c52c"
      },
      "outputs": [
        {
          "output_type": "stream",
          "name": "stdout",
          "text": [
            "(506,)\n",
            "(506, 13)\n",
            "Removed feature: INDUS, Current MSE: 0.033663436462846225\n",
            "Removed feature: AGE, Current MSE: 0.033923917615915594\n",
            "Removed feature: NOX, Current MSE: 0.03410346106606606\n",
            "Removed feature: DIS, Current MSE: 0.03454127972859067\n",
            "Removed feature: RAD, Current MSE: 0.03511551983919514\n",
            "Removed feature: CRIM, Current MSE: 0.035336975993082456\n",
            "Removed feature: ZN, Current MSE: 0.03605062059032903\n",
            "Removed feature: CHAS, Current MSE: 0.03691865661886776\n",
            "Removed feature: TAX, Current MSE: 0.03870967346275529\n",
            "Removed feature: RM, Current MSE: 0.040348110661697786\n",
            "Removed feature: B, Current MSE: 0.04371582255888091\n",
            "Removed feature: PTRATIO, Current MSE: 0.05177441125059137\n",
            "['LSTAT']\n"
          ]
        }
      ],
      "source": [
        "y_bs = df['MEDV']\n",
        "X_bs = df.loc[: , df.columns != 'MEDV']\n",
        "print(y_bs.shape)\n",
        "print(X_bs.shape)\n",
        "X_bs_train, X_bs_test, y_bs_train, y_bs_test = train_test_split(X_bs, y_bs, test_size = get_test_size(), random_state = get_random_state())\n",
        "backward_selection_results = backward_selection(X_bs_train, y_bs_train)\n",
        "print(backward_selection_results)"
      ]
    }
  ],
  "metadata": {
    "kernelspec": {
      "display_name": "Python 3 (ipykernel)",
      "language": "python",
      "name": "python3"
    },
    "language_info": {
      "codemirror_mode": {
        "name": "ipython",
        "version": 3
      },
      "file_extension": ".py",
      "mimetype": "text/x-python",
      "name": "python",
      "nbconvert_exporter": "python",
      "pygments_lexer": "ipython3",
      "version": "3.10.12"
    },
    "colab": {
      "provenance": []
    }
  },
  "nbformat": 4,
  "nbformat_minor": 5
}