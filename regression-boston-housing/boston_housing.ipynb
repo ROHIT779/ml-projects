{
  "cells": [
    {
      "cell_type": "code",
      "execution_count": 71,
      "id": "a812968c-79de-468d-9f11-5b62a053a5f9",
      "metadata": {
        "id": "a812968c-79de-468d-9f11-5b62a053a5f9"
      },
      "outputs": [],
      "source": [
        "# importing libraries\n",
        "import numpy as np\n",
        "import pandas as pd\n",
        "from sklearn.model_selection import train_test_split\n",
        "import matplotlib.pyplot as plt\n",
        "from sklearn.linear_model import LinearRegression\n",
        "from sklearn.metrics import r2_score\n",
        "from sklearn.metrics import mean_squared_error\n",
        "import statsmodels.api as sm\n",
        "from statsmodels.stats.outliers_influence import variance_inflation_factor"
      ]
    },
    {
      "cell_type": "code",
      "execution_count": 72,
      "id": "86c72589-3485-4b49-b3bd-7f952d9ecf21",
      "metadata": {
        "id": "86c72589-3485-4b49-b3bd-7f952d9ecf21"
      },
      "outputs": [],
      "source": [
        "# calculate r-squared\n",
        "def calculate_r2(y_pred, y_test):\n",
        "    print(\"***** R2_score from sklearn.metrics: *****\")\n",
        "    print(r2_score(y_pred, y_test))\n",
        "    print(\"y_test variance: \")\n",
        "    print(y_test.var())\n",
        "    print(\"y_test size: \")\n",
        "    print(y_test.size)\n",
        "    rse = float(((y_test - y_pred) **2).sum()) / float(y_test.size)\n",
        "    print(\"RSE: \")\n",
        "    print(rse)\n",
        "    r2 = 1 - float(rse/y_test.var())\n",
        "    print(\"***** R2 calculated for test observations: *****\")\n",
        "    print(r2)"
      ]
    },
    {
      "cell_type": "code",
      "execution_count": 73,
      "id": "c86b4c93-0c15-431a-95fa-3796736a5919",
      "metadata": {
        "id": "c86b4c93-0c15-431a-95fa-3796736a5919"
      },
      "outputs": [],
      "source": [
        "def get_test_size():\n",
        "    return 0.2"
      ]
    },
    {
      "cell_type": "code",
      "execution_count": 74,
      "id": "21f76d6f-1362-490d-95ed-09a860b4fc14",
      "metadata": {
        "id": "21f76d6f-1362-490d-95ed-09a860b4fc14"
      },
      "outputs": [],
      "source": [
        "def get_random_state():\n",
        "    return 0"
      ]
    },
    {
      "cell_type": "code",
      "execution_count": 75,
      "id": "33d855ac-6b4f-4d7f-8168-3940aff1682e",
      "metadata": {
        "id": "33d855ac-6b4f-4d7f-8168-3940aff1682e"
      },
      "outputs": [],
      "source": [
        "# forward selection to select features\n",
        "def forward_selection(X, y, max_features=None):\n",
        "    remaining_features = list(X.columns)\n",
        "    selected_features = []\n",
        "    current_best_score = float('inf')\n",
        "\n",
        "    if max_features is None:\n",
        "        max_features = len(remaining_features)\n",
        "\n",
        "    while remaining_features and len(selected_features) < max_features:\n",
        "        best_feature = None\n",
        "        for feature in remaining_features:\n",
        "            temp_features = selected_features + [feature]\n",
        "            model = LinearRegression()\n",
        "            model.fit(X[temp_features], y)\n",
        "            predictions = model.predict(X[temp_features])\n",
        "            score = mean_squared_error(y, predictions)\n",
        "\n",
        "            if score < current_best_score:\n",
        "                current_best_score = score\n",
        "                best_feature = feature\n",
        "\n",
        "        if best_feature is not None:\n",
        "            selected_features.append(best_feature)\n",
        "            remaining_features.remove(best_feature)\n",
        "            print(f\"Added feature: {best_feature}, Current MSE: {current_best_score}\")\n",
        "            current_best_score = float('inf')\n",
        "        else:\n",
        "             break\n",
        "    return selected_features"
      ]
    },
    {
      "cell_type": "code",
      "execution_count": 76,
      "id": "cdb978ee-2581-455e-834e-7c6f32e5be19",
      "metadata": {
        "id": "cdb978ee-2581-455e-834e-7c6f32e5be19"
      },
      "outputs": [],
      "source": [
        "# backward selection to select features\n",
        "def backward_selection(X, y, min_features=1):\n",
        "    selected_features = list(X.columns)\n",
        "    current_best_score = float('inf')\n",
        "\n",
        "    while len(selected_features) > min_features:\n",
        "        worst_feature = None\n",
        "        for feature in selected_features:\n",
        "            temp_features = [f for f in selected_features if f != feature]\n",
        "            model = LinearRegression()\n",
        "            model.fit(X[temp_features], y)\n",
        "            predictions = model.predict(X[temp_features])\n",
        "            score = mean_squared_error(y, predictions)\n",
        "\n",
        "            if score < current_best_score:\n",
        "                current_best_score = score\n",
        "                worst_feature = feature\n",
        "\n",
        "        if worst_feature is not None:\n",
        "            selected_features.remove(worst_feature)\n",
        "            print(f\"Removed feature: {worst_feature}, Current MSE: {current_best_score}\")\n",
        "            current_best_score = float('inf')\n",
        "        else:\n",
        "            break\n",
        "    return selected_features"
      ]
    },
    {
      "cell_type": "code",
      "execution_count": 77,
      "id": "f2f7b8ca-ff77-4fc1-8c2d-6c0e51bbe199",
      "metadata": {
        "colab": {
          "base_uri": "https://localhost:8080/",
          "height": 241
        },
        "id": "f2f7b8ca-ff77-4fc1-8c2d-6c0e51bbe199",
        "outputId": "5b8c2325-7c70-44cc-9cac-27e5563c8df9"
      },
      "outputs": [
        {
          "output_type": "stream",
          "name": "stderr",
          "text": [
            "/tmp/ipython-input-1225195446.py:3: FutureWarning: The 'delim_whitespace' keyword in pd.read_csv is deprecated and will be removed in a future version. Use ``sep='\\s+'`` instead\n",
            "  df = pd.read_csv(\"housing.csv\", delim_whitespace=True, names = BHname)\n"
          ]
        },
        {
          "output_type": "execute_result",
          "data": {
            "text/plain": [
              "      CRIM    ZN  INDUS  CHAS    NOX     RM   AGE     DIS  RAD    TAX  \\\n",
              "0  0.00632  18.0   2.31     0  0.538  6.575  65.2  4.0900    1  296.0   \n",
              "1  0.02731   0.0   7.07     0  0.469  6.421  78.9  4.9671    2  242.0   \n",
              "2  0.02729   0.0   7.07     0  0.469  7.185  61.1  4.9671    2  242.0   \n",
              "3  0.03237   0.0   2.18     0  0.458  6.998  45.8  6.0622    3  222.0   \n",
              "4  0.06905   0.0   2.18     0  0.458  7.147  54.2  6.0622    3  222.0   \n",
              "\n",
              "   PTRATIO       B  LSTAT  MEDV  \n",
              "0     15.3  396.90   4.98  24.0  \n",
              "1     17.8  396.90   9.14  21.6  \n",
              "2     17.8  392.83   4.03  34.7  \n",
              "3     18.7  394.63   2.94  33.4  \n",
              "4     18.7  396.90   5.33  36.2  "
            ],
            "text/html": [
              "\n",
              "  <div id=\"df-5f127d5d-8808-4328-a186-df0de66d0e04\" class=\"colab-df-container\">\n",
              "    <div>\n",
              "<style scoped>\n",
              "    .dataframe tbody tr th:only-of-type {\n",
              "        vertical-align: middle;\n",
              "    }\n",
              "\n",
              "    .dataframe tbody tr th {\n",
              "        vertical-align: top;\n",
              "    }\n",
              "\n",
              "    .dataframe thead th {\n",
              "        text-align: right;\n",
              "    }\n",
              "</style>\n",
              "<table border=\"1\" class=\"dataframe\">\n",
              "  <thead>\n",
              "    <tr style=\"text-align: right;\">\n",
              "      <th></th>\n",
              "      <th>CRIM</th>\n",
              "      <th>ZN</th>\n",
              "      <th>INDUS</th>\n",
              "      <th>CHAS</th>\n",
              "      <th>NOX</th>\n",
              "      <th>RM</th>\n",
              "      <th>AGE</th>\n",
              "      <th>DIS</th>\n",
              "      <th>RAD</th>\n",
              "      <th>TAX</th>\n",
              "      <th>PTRATIO</th>\n",
              "      <th>B</th>\n",
              "      <th>LSTAT</th>\n",
              "      <th>MEDV</th>\n",
              "    </tr>\n",
              "  </thead>\n",
              "  <tbody>\n",
              "    <tr>\n",
              "      <th>0</th>\n",
              "      <td>0.00632</td>\n",
              "      <td>18.0</td>\n",
              "      <td>2.31</td>\n",
              "      <td>0</td>\n",
              "      <td>0.538</td>\n",
              "      <td>6.575</td>\n",
              "      <td>65.2</td>\n",
              "      <td>4.0900</td>\n",
              "      <td>1</td>\n",
              "      <td>296.0</td>\n",
              "      <td>15.3</td>\n",
              "      <td>396.90</td>\n",
              "      <td>4.98</td>\n",
              "      <td>24.0</td>\n",
              "    </tr>\n",
              "    <tr>\n",
              "      <th>1</th>\n",
              "      <td>0.02731</td>\n",
              "      <td>0.0</td>\n",
              "      <td>7.07</td>\n",
              "      <td>0</td>\n",
              "      <td>0.469</td>\n",
              "      <td>6.421</td>\n",
              "      <td>78.9</td>\n",
              "      <td>4.9671</td>\n",
              "      <td>2</td>\n",
              "      <td>242.0</td>\n",
              "      <td>17.8</td>\n",
              "      <td>396.90</td>\n",
              "      <td>9.14</td>\n",
              "      <td>21.6</td>\n",
              "    </tr>\n",
              "    <tr>\n",
              "      <th>2</th>\n",
              "      <td>0.02729</td>\n",
              "      <td>0.0</td>\n",
              "      <td>7.07</td>\n",
              "      <td>0</td>\n",
              "      <td>0.469</td>\n",
              "      <td>7.185</td>\n",
              "      <td>61.1</td>\n",
              "      <td>4.9671</td>\n",
              "      <td>2</td>\n",
              "      <td>242.0</td>\n",
              "      <td>17.8</td>\n",
              "      <td>392.83</td>\n",
              "      <td>4.03</td>\n",
              "      <td>34.7</td>\n",
              "    </tr>\n",
              "    <tr>\n",
              "      <th>3</th>\n",
              "      <td>0.03237</td>\n",
              "      <td>0.0</td>\n",
              "      <td>2.18</td>\n",
              "      <td>0</td>\n",
              "      <td>0.458</td>\n",
              "      <td>6.998</td>\n",
              "      <td>45.8</td>\n",
              "      <td>6.0622</td>\n",
              "      <td>3</td>\n",
              "      <td>222.0</td>\n",
              "      <td>18.7</td>\n",
              "      <td>394.63</td>\n",
              "      <td>2.94</td>\n",
              "      <td>33.4</td>\n",
              "    </tr>\n",
              "    <tr>\n",
              "      <th>4</th>\n",
              "      <td>0.06905</td>\n",
              "      <td>0.0</td>\n",
              "      <td>2.18</td>\n",
              "      <td>0</td>\n",
              "      <td>0.458</td>\n",
              "      <td>7.147</td>\n",
              "      <td>54.2</td>\n",
              "      <td>6.0622</td>\n",
              "      <td>3</td>\n",
              "      <td>222.0</td>\n",
              "      <td>18.7</td>\n",
              "      <td>396.90</td>\n",
              "      <td>5.33</td>\n",
              "      <td>36.2</td>\n",
              "    </tr>\n",
              "  </tbody>\n",
              "</table>\n",
              "</div>\n",
              "    <div class=\"colab-df-buttons\">\n",
              "\n",
              "  <div class=\"colab-df-container\">\n",
              "    <button class=\"colab-df-convert\" onclick=\"convertToInteractive('df-5f127d5d-8808-4328-a186-df0de66d0e04')\"\n",
              "            title=\"Convert this dataframe to an interactive table.\"\n",
              "            style=\"display:none;\">\n",
              "\n",
              "  <svg xmlns=\"http://www.w3.org/2000/svg\" height=\"24px\" viewBox=\"0 -960 960 960\">\n",
              "    <path d=\"M120-120v-720h720v720H120Zm60-500h600v-160H180v160Zm220 220h160v-160H400v160Zm0 220h160v-160H400v160ZM180-400h160v-160H180v160Zm440 0h160v-160H620v160ZM180-180h160v-160H180v160Zm440 0h160v-160H620v160Z\"/>\n",
              "  </svg>\n",
              "    </button>\n",
              "\n",
              "  <style>\n",
              "    .colab-df-container {\n",
              "      display:flex;\n",
              "      gap: 12px;\n",
              "    }\n",
              "\n",
              "    .colab-df-convert {\n",
              "      background-color: #E8F0FE;\n",
              "      border: none;\n",
              "      border-radius: 50%;\n",
              "      cursor: pointer;\n",
              "      display: none;\n",
              "      fill: #1967D2;\n",
              "      height: 32px;\n",
              "      padding: 0 0 0 0;\n",
              "      width: 32px;\n",
              "    }\n",
              "\n",
              "    .colab-df-convert:hover {\n",
              "      background-color: #E2EBFA;\n",
              "      box-shadow: 0px 1px 2px rgba(60, 64, 67, 0.3), 0px 1px 3px 1px rgba(60, 64, 67, 0.15);\n",
              "      fill: #174EA6;\n",
              "    }\n",
              "\n",
              "    .colab-df-buttons div {\n",
              "      margin-bottom: 4px;\n",
              "    }\n",
              "\n",
              "    [theme=dark] .colab-df-convert {\n",
              "      background-color: #3B4455;\n",
              "      fill: #D2E3FC;\n",
              "    }\n",
              "\n",
              "    [theme=dark] .colab-df-convert:hover {\n",
              "      background-color: #434B5C;\n",
              "      box-shadow: 0px 1px 3px 1px rgba(0, 0, 0, 0.15);\n",
              "      filter: drop-shadow(0px 1px 2px rgba(0, 0, 0, 0.3));\n",
              "      fill: #FFFFFF;\n",
              "    }\n",
              "  </style>\n",
              "\n",
              "    <script>\n",
              "      const buttonEl =\n",
              "        document.querySelector('#df-5f127d5d-8808-4328-a186-df0de66d0e04 button.colab-df-convert');\n",
              "      buttonEl.style.display =\n",
              "        google.colab.kernel.accessAllowed ? 'block' : 'none';\n",
              "\n",
              "      async function convertToInteractive(key) {\n",
              "        const element = document.querySelector('#df-5f127d5d-8808-4328-a186-df0de66d0e04');\n",
              "        const dataTable =\n",
              "          await google.colab.kernel.invokeFunction('convertToInteractive',\n",
              "                                                    [key], {});\n",
              "        if (!dataTable) return;\n",
              "\n",
              "        const docLinkHtml = 'Like what you see? Visit the ' +\n",
              "          '<a target=\"_blank\" href=https://colab.research.google.com/notebooks/data_table.ipynb>data table notebook</a>'\n",
              "          + ' to learn more about interactive tables.';\n",
              "        element.innerHTML = '';\n",
              "        dataTable['output_type'] = 'display_data';\n",
              "        await google.colab.output.renderOutput(dataTable, element);\n",
              "        const docLink = document.createElement('div');\n",
              "        docLink.innerHTML = docLinkHtml;\n",
              "        element.appendChild(docLink);\n",
              "      }\n",
              "    </script>\n",
              "  </div>\n",
              "\n",
              "\n",
              "    <div id=\"df-535e1113-57be-4bbb-8a9c-83922eb7924b\">\n",
              "      <button class=\"colab-df-quickchart\" onclick=\"quickchart('df-535e1113-57be-4bbb-8a9c-83922eb7924b')\"\n",
              "                title=\"Suggest charts\"\n",
              "                style=\"display:none;\">\n",
              "\n",
              "<svg xmlns=\"http://www.w3.org/2000/svg\" height=\"24px\"viewBox=\"0 0 24 24\"\n",
              "     width=\"24px\">\n",
              "    <g>\n",
              "        <path d=\"M19 3H5c-1.1 0-2 .9-2 2v14c0 1.1.9 2 2 2h14c1.1 0 2-.9 2-2V5c0-1.1-.9-2-2-2zM9 17H7v-7h2v7zm4 0h-2V7h2v10zm4 0h-2v-4h2v4z\"/>\n",
              "    </g>\n",
              "</svg>\n",
              "      </button>\n",
              "\n",
              "<style>\n",
              "  .colab-df-quickchart {\n",
              "      --bg-color: #E8F0FE;\n",
              "      --fill-color: #1967D2;\n",
              "      --hover-bg-color: #E2EBFA;\n",
              "      --hover-fill-color: #174EA6;\n",
              "      --disabled-fill-color: #AAA;\n",
              "      --disabled-bg-color: #DDD;\n",
              "  }\n",
              "\n",
              "  [theme=dark] .colab-df-quickchart {\n",
              "      --bg-color: #3B4455;\n",
              "      --fill-color: #D2E3FC;\n",
              "      --hover-bg-color: #434B5C;\n",
              "      --hover-fill-color: #FFFFFF;\n",
              "      --disabled-bg-color: #3B4455;\n",
              "      --disabled-fill-color: #666;\n",
              "  }\n",
              "\n",
              "  .colab-df-quickchart {\n",
              "    background-color: var(--bg-color);\n",
              "    border: none;\n",
              "    border-radius: 50%;\n",
              "    cursor: pointer;\n",
              "    display: none;\n",
              "    fill: var(--fill-color);\n",
              "    height: 32px;\n",
              "    padding: 0;\n",
              "    width: 32px;\n",
              "  }\n",
              "\n",
              "  .colab-df-quickchart:hover {\n",
              "    background-color: var(--hover-bg-color);\n",
              "    box-shadow: 0 1px 2px rgba(60, 64, 67, 0.3), 0 1px 3px 1px rgba(60, 64, 67, 0.15);\n",
              "    fill: var(--button-hover-fill-color);\n",
              "  }\n",
              "\n",
              "  .colab-df-quickchart-complete:disabled,\n",
              "  .colab-df-quickchart-complete:disabled:hover {\n",
              "    background-color: var(--disabled-bg-color);\n",
              "    fill: var(--disabled-fill-color);\n",
              "    box-shadow: none;\n",
              "  }\n",
              "\n",
              "  .colab-df-spinner {\n",
              "    border: 2px solid var(--fill-color);\n",
              "    border-color: transparent;\n",
              "    border-bottom-color: var(--fill-color);\n",
              "    animation:\n",
              "      spin 1s steps(1) infinite;\n",
              "  }\n",
              "\n",
              "  @keyframes spin {\n",
              "    0% {\n",
              "      border-color: transparent;\n",
              "      border-bottom-color: var(--fill-color);\n",
              "      border-left-color: var(--fill-color);\n",
              "    }\n",
              "    20% {\n",
              "      border-color: transparent;\n",
              "      border-left-color: var(--fill-color);\n",
              "      border-top-color: var(--fill-color);\n",
              "    }\n",
              "    30% {\n",
              "      border-color: transparent;\n",
              "      border-left-color: var(--fill-color);\n",
              "      border-top-color: var(--fill-color);\n",
              "      border-right-color: var(--fill-color);\n",
              "    }\n",
              "    40% {\n",
              "      border-color: transparent;\n",
              "      border-right-color: var(--fill-color);\n",
              "      border-top-color: var(--fill-color);\n",
              "    }\n",
              "    60% {\n",
              "      border-color: transparent;\n",
              "      border-right-color: var(--fill-color);\n",
              "    }\n",
              "    80% {\n",
              "      border-color: transparent;\n",
              "      border-right-color: var(--fill-color);\n",
              "      border-bottom-color: var(--fill-color);\n",
              "    }\n",
              "    90% {\n",
              "      border-color: transparent;\n",
              "      border-bottom-color: var(--fill-color);\n",
              "    }\n",
              "  }\n",
              "</style>\n",
              "\n",
              "      <script>\n",
              "        async function quickchart(key) {\n",
              "          const quickchartButtonEl =\n",
              "            document.querySelector('#' + key + ' button');\n",
              "          quickchartButtonEl.disabled = true;  // To prevent multiple clicks.\n",
              "          quickchartButtonEl.classList.add('colab-df-spinner');\n",
              "          try {\n",
              "            const charts = await google.colab.kernel.invokeFunction(\n",
              "                'suggestCharts', [key], {});\n",
              "          } catch (error) {\n",
              "            console.error('Error during call to suggestCharts:', error);\n",
              "          }\n",
              "          quickchartButtonEl.classList.remove('colab-df-spinner');\n",
              "          quickchartButtonEl.classList.add('colab-df-quickchart-complete');\n",
              "        }\n",
              "        (() => {\n",
              "          let quickchartButtonEl =\n",
              "            document.querySelector('#df-535e1113-57be-4bbb-8a9c-83922eb7924b button');\n",
              "          quickchartButtonEl.style.display =\n",
              "            google.colab.kernel.accessAllowed ? 'block' : 'none';\n",
              "        })();\n",
              "      </script>\n",
              "    </div>\n",
              "\n",
              "    </div>\n",
              "  </div>\n"
            ],
            "application/vnd.google.colaboratory.intrinsic+json": {
              "type": "dataframe",
              "variable_name": "df",
              "summary": "{\n  \"name\": \"df\",\n  \"rows\": 506,\n  \"fields\": [\n    {\n      \"column\": \"CRIM\",\n      \"properties\": {\n        \"dtype\": \"number\",\n        \"std\": 8.601545105332487,\n        \"min\": 0.00632,\n        \"max\": 88.9762,\n        \"num_unique_values\": 504,\n        \"samples\": [\n          0.09178,\n          0.05644,\n          0.10574\n        ],\n        \"semantic_type\": \"\",\n        \"description\": \"\"\n      }\n    },\n    {\n      \"column\": \"ZN\",\n      \"properties\": {\n        \"dtype\": \"number\",\n        \"std\": 23.322452994515036,\n        \"min\": 0.0,\n        \"max\": 100.0,\n        \"num_unique_values\": 26,\n        \"samples\": [\n          25.0,\n          30.0,\n          18.0\n        ],\n        \"semantic_type\": \"\",\n        \"description\": \"\"\n      }\n    },\n    {\n      \"column\": \"INDUS\",\n      \"properties\": {\n        \"dtype\": \"number\",\n        \"std\": 6.8603529408975845,\n        \"min\": 0.46,\n        \"max\": 27.74,\n        \"num_unique_values\": 76,\n        \"samples\": [\n          8.14,\n          1.47,\n          1.22\n        ],\n        \"semantic_type\": \"\",\n        \"description\": \"\"\n      }\n    },\n    {\n      \"column\": \"CHAS\",\n      \"properties\": {\n        \"dtype\": \"number\",\n        \"std\": 0,\n        \"min\": 0,\n        \"max\": 1,\n        \"num_unique_values\": 2,\n        \"samples\": [\n          1,\n          0\n        ],\n        \"semantic_type\": \"\",\n        \"description\": \"\"\n      }\n    },\n    {\n      \"column\": \"NOX\",\n      \"properties\": {\n        \"dtype\": \"number\",\n        \"std\": 0.11587767566755611,\n        \"min\": 0.385,\n        \"max\": 0.871,\n        \"num_unique_values\": 81,\n        \"samples\": [\n          0.401,\n          0.538\n        ],\n        \"semantic_type\": \"\",\n        \"description\": \"\"\n      }\n    },\n    {\n      \"column\": \"RM\",\n      \"properties\": {\n        \"dtype\": \"number\",\n        \"std\": 0.7026171434153237,\n        \"min\": 3.561,\n        \"max\": 8.78,\n        \"num_unique_values\": 446,\n        \"samples\": [\n          6.849,\n          4.88\n        ],\n        \"semantic_type\": \"\",\n        \"description\": \"\"\n      }\n    },\n    {\n      \"column\": \"AGE\",\n      \"properties\": {\n        \"dtype\": \"number\",\n        \"std\": 28.148861406903638,\n        \"min\": 2.9,\n        \"max\": 100.0,\n        \"num_unique_values\": 356,\n        \"samples\": [\n          51.8,\n          33.8\n        ],\n        \"semantic_type\": \"\",\n        \"description\": \"\"\n      }\n    },\n    {\n      \"column\": \"DIS\",\n      \"properties\": {\n        \"dtype\": \"number\",\n        \"std\": 2.1057101266276104,\n        \"min\": 1.1296,\n        \"max\": 12.1265,\n        \"num_unique_values\": 412,\n        \"samples\": [\n          2.2955,\n          4.2515\n        ],\n        \"semantic_type\": \"\",\n        \"description\": \"\"\n      }\n    },\n    {\n      \"column\": \"RAD\",\n      \"properties\": {\n        \"dtype\": \"number\",\n        \"std\": 8,\n        \"min\": 1,\n        \"max\": 24,\n        \"num_unique_values\": 9,\n        \"samples\": [\n          7,\n          2\n        ],\n        \"semantic_type\": \"\",\n        \"description\": \"\"\n      }\n    },\n    {\n      \"column\": \"TAX\",\n      \"properties\": {\n        \"dtype\": \"number\",\n        \"std\": 168.53711605495926,\n        \"min\": 187.0,\n        \"max\": 711.0,\n        \"num_unique_values\": 66,\n        \"samples\": [\n          370.0,\n          666.0\n        ],\n        \"semantic_type\": \"\",\n        \"description\": \"\"\n      }\n    },\n    {\n      \"column\": \"PTRATIO\",\n      \"properties\": {\n        \"dtype\": \"number\",\n        \"std\": 2.164945523714446,\n        \"min\": 12.6,\n        \"max\": 22.0,\n        \"num_unique_values\": 46,\n        \"samples\": [\n          19.6,\n          15.6\n        ],\n        \"semantic_type\": \"\",\n        \"description\": \"\"\n      }\n    },\n    {\n      \"column\": \"B\",\n      \"properties\": {\n        \"dtype\": \"number\",\n        \"std\": 91.29486438415779,\n        \"min\": 0.32,\n        \"max\": 396.9,\n        \"num_unique_values\": 357,\n        \"samples\": [\n          396.24,\n          395.11\n        ],\n        \"semantic_type\": \"\",\n        \"description\": \"\"\n      }\n    },\n    {\n      \"column\": \"LSTAT\",\n      \"properties\": {\n        \"dtype\": \"number\",\n        \"std\": 7.141061511348571,\n        \"min\": 1.73,\n        \"max\": 37.97,\n        \"num_unique_values\": 455,\n        \"samples\": [\n          6.15,\n          4.32\n        ],\n        \"semantic_type\": \"\",\n        \"description\": \"\"\n      }\n    },\n    {\n      \"column\": \"MEDV\",\n      \"properties\": {\n        \"dtype\": \"number\",\n        \"std\": 9.19710408737982,\n        \"min\": 5.0,\n        \"max\": 50.0,\n        \"num_unique_values\": 229,\n        \"samples\": [\n          14.1,\n          22.5\n        ],\n        \"semantic_type\": \"\",\n        \"description\": \"\"\n      }\n    }\n  ]\n}"
            }
          },
          "metadata": {},
          "execution_count": 77
        }
      ],
      "source": [
        "BHname = ['CRIM', 'ZN', 'INDUS', 'CHAS', 'NOX', 'RM',\n",
        "          'AGE', 'DIS', 'RAD', 'TAX', 'PTRATIO', 'B', 'LSTAT', 'MEDV']\n",
        "df = pd.read_csv(\"housing.csv\", delim_whitespace=True, names = BHname)\n",
        "df.head()"
      ]
    },
    {
      "cell_type": "code",
      "execution_count": 78,
      "id": "f36391a4-027a-47a5-9648-5163e543e894",
      "metadata": {
        "colab": {
          "base_uri": "https://localhost:8080/",
          "height": 488
        },
        "id": "f36391a4-027a-47a5-9648-5163e543e894",
        "outputId": "88eb987e-f7bd-4d2c-820a-625cf7516b1e"
      },
      "outputs": [
        {
          "output_type": "execute_result",
          "data": {
            "text/plain": [
              "             CRIM        ZN     INDUS      CHAS       NOX        RM       AGE  \\\n",
              "CRIM     1.000000 -0.200469  0.406583 -0.055892  0.420972 -0.219247  0.352734   \n",
              "ZN      -0.200469  1.000000 -0.533828 -0.042697 -0.516604  0.311991 -0.569537   \n",
              "INDUS    0.406583 -0.533828  1.000000  0.062938  0.763651 -0.391676  0.644779   \n",
              "CHAS    -0.055892 -0.042697  0.062938  1.000000  0.091203  0.091251  0.086518   \n",
              "NOX      0.420972 -0.516604  0.763651  0.091203  1.000000 -0.302188  0.731470   \n",
              "RM      -0.219247  0.311991 -0.391676  0.091251 -0.302188  1.000000 -0.240265   \n",
              "AGE      0.352734 -0.569537  0.644779  0.086518  0.731470 -0.240265  1.000000   \n",
              "DIS     -0.379670  0.664408 -0.708027 -0.099176 -0.769230  0.205246 -0.747881   \n",
              "RAD      0.625505 -0.311948  0.595129 -0.007368  0.611441 -0.209847  0.456022   \n",
              "TAX      0.582764 -0.314563  0.720760 -0.035587  0.668023 -0.292048  0.506456   \n",
              "PTRATIO  0.289946 -0.391679  0.383248 -0.121515  0.188933 -0.355501  0.261515   \n",
              "B       -0.385064  0.175520 -0.356977  0.048788 -0.380051  0.128069 -0.273534   \n",
              "LSTAT    0.455621 -0.412995  0.603800 -0.053929  0.590879 -0.613808  0.602339   \n",
              "MEDV    -0.388305  0.360445 -0.483725  0.175260 -0.427321  0.695360 -0.376955   \n",
              "\n",
              "              DIS       RAD       TAX   PTRATIO         B     LSTAT      MEDV  \n",
              "CRIM    -0.379670  0.625505  0.582764  0.289946 -0.385064  0.455621 -0.388305  \n",
              "ZN       0.664408 -0.311948 -0.314563 -0.391679  0.175520 -0.412995  0.360445  \n",
              "INDUS   -0.708027  0.595129  0.720760  0.383248 -0.356977  0.603800 -0.483725  \n",
              "CHAS    -0.099176 -0.007368 -0.035587 -0.121515  0.048788 -0.053929  0.175260  \n",
              "NOX     -0.769230  0.611441  0.668023  0.188933 -0.380051  0.590879 -0.427321  \n",
              "RM       0.205246 -0.209847 -0.292048 -0.355501  0.128069 -0.613808  0.695360  \n",
              "AGE     -0.747881  0.456022  0.506456  0.261515 -0.273534  0.602339 -0.376955  \n",
              "DIS      1.000000 -0.494588 -0.534432 -0.232471  0.291512 -0.496996  0.249929  \n",
              "RAD     -0.494588  1.000000  0.910228  0.464741 -0.444413  0.488676 -0.381626  \n",
              "TAX     -0.534432  0.910228  1.000000  0.460853 -0.441808  0.543993 -0.468536  \n",
              "PTRATIO -0.232471  0.464741  0.460853  1.000000 -0.177383  0.374044 -0.507787  \n",
              "B        0.291512 -0.444413 -0.441808 -0.177383  1.000000 -0.366087  0.333461  \n",
              "LSTAT   -0.496996  0.488676  0.543993  0.374044 -0.366087  1.000000 -0.737663  \n",
              "MEDV     0.249929 -0.381626 -0.468536 -0.507787  0.333461 -0.737663  1.000000  "
            ],
            "text/html": [
              "\n",
              "  <div id=\"df-59d8cd5d-a0f5-4322-9602-c70c1407280c\" class=\"colab-df-container\">\n",
              "    <div>\n",
              "<style scoped>\n",
              "    .dataframe tbody tr th:only-of-type {\n",
              "        vertical-align: middle;\n",
              "    }\n",
              "\n",
              "    .dataframe tbody tr th {\n",
              "        vertical-align: top;\n",
              "    }\n",
              "\n",
              "    .dataframe thead th {\n",
              "        text-align: right;\n",
              "    }\n",
              "</style>\n",
              "<table border=\"1\" class=\"dataframe\">\n",
              "  <thead>\n",
              "    <tr style=\"text-align: right;\">\n",
              "      <th></th>\n",
              "      <th>CRIM</th>\n",
              "      <th>ZN</th>\n",
              "      <th>INDUS</th>\n",
              "      <th>CHAS</th>\n",
              "      <th>NOX</th>\n",
              "      <th>RM</th>\n",
              "      <th>AGE</th>\n",
              "      <th>DIS</th>\n",
              "      <th>RAD</th>\n",
              "      <th>TAX</th>\n",
              "      <th>PTRATIO</th>\n",
              "      <th>B</th>\n",
              "      <th>LSTAT</th>\n",
              "      <th>MEDV</th>\n",
              "    </tr>\n",
              "  </thead>\n",
              "  <tbody>\n",
              "    <tr>\n",
              "      <th>CRIM</th>\n",
              "      <td>1.000000</td>\n",
              "      <td>-0.200469</td>\n",
              "      <td>0.406583</td>\n",
              "      <td>-0.055892</td>\n",
              "      <td>0.420972</td>\n",
              "      <td>-0.219247</td>\n",
              "      <td>0.352734</td>\n",
              "      <td>-0.379670</td>\n",
              "      <td>0.625505</td>\n",
              "      <td>0.582764</td>\n",
              "      <td>0.289946</td>\n",
              "      <td>-0.385064</td>\n",
              "      <td>0.455621</td>\n",
              "      <td>-0.388305</td>\n",
              "    </tr>\n",
              "    <tr>\n",
              "      <th>ZN</th>\n",
              "      <td>-0.200469</td>\n",
              "      <td>1.000000</td>\n",
              "      <td>-0.533828</td>\n",
              "      <td>-0.042697</td>\n",
              "      <td>-0.516604</td>\n",
              "      <td>0.311991</td>\n",
              "      <td>-0.569537</td>\n",
              "      <td>0.664408</td>\n",
              "      <td>-0.311948</td>\n",
              "      <td>-0.314563</td>\n",
              "      <td>-0.391679</td>\n",
              "      <td>0.175520</td>\n",
              "      <td>-0.412995</td>\n",
              "      <td>0.360445</td>\n",
              "    </tr>\n",
              "    <tr>\n",
              "      <th>INDUS</th>\n",
              "      <td>0.406583</td>\n",
              "      <td>-0.533828</td>\n",
              "      <td>1.000000</td>\n",
              "      <td>0.062938</td>\n",
              "      <td>0.763651</td>\n",
              "      <td>-0.391676</td>\n",
              "      <td>0.644779</td>\n",
              "      <td>-0.708027</td>\n",
              "      <td>0.595129</td>\n",
              "      <td>0.720760</td>\n",
              "      <td>0.383248</td>\n",
              "      <td>-0.356977</td>\n",
              "      <td>0.603800</td>\n",
              "      <td>-0.483725</td>\n",
              "    </tr>\n",
              "    <tr>\n",
              "      <th>CHAS</th>\n",
              "      <td>-0.055892</td>\n",
              "      <td>-0.042697</td>\n",
              "      <td>0.062938</td>\n",
              "      <td>1.000000</td>\n",
              "      <td>0.091203</td>\n",
              "      <td>0.091251</td>\n",
              "      <td>0.086518</td>\n",
              "      <td>-0.099176</td>\n",
              "      <td>-0.007368</td>\n",
              "      <td>-0.035587</td>\n",
              "      <td>-0.121515</td>\n",
              "      <td>0.048788</td>\n",
              "      <td>-0.053929</td>\n",
              "      <td>0.175260</td>\n",
              "    </tr>\n",
              "    <tr>\n",
              "      <th>NOX</th>\n",
              "      <td>0.420972</td>\n",
              "      <td>-0.516604</td>\n",
              "      <td>0.763651</td>\n",
              "      <td>0.091203</td>\n",
              "      <td>1.000000</td>\n",
              "      <td>-0.302188</td>\n",
              "      <td>0.731470</td>\n",
              "      <td>-0.769230</td>\n",
              "      <td>0.611441</td>\n",
              "      <td>0.668023</td>\n",
              "      <td>0.188933</td>\n",
              "      <td>-0.380051</td>\n",
              "      <td>0.590879</td>\n",
              "      <td>-0.427321</td>\n",
              "    </tr>\n",
              "    <tr>\n",
              "      <th>RM</th>\n",
              "      <td>-0.219247</td>\n",
              "      <td>0.311991</td>\n",
              "      <td>-0.391676</td>\n",
              "      <td>0.091251</td>\n",
              "      <td>-0.302188</td>\n",
              "      <td>1.000000</td>\n",
              "      <td>-0.240265</td>\n",
              "      <td>0.205246</td>\n",
              "      <td>-0.209847</td>\n",
              "      <td>-0.292048</td>\n",
              "      <td>-0.355501</td>\n",
              "      <td>0.128069</td>\n",
              "      <td>-0.613808</td>\n",
              "      <td>0.695360</td>\n",
              "    </tr>\n",
              "    <tr>\n",
              "      <th>AGE</th>\n",
              "      <td>0.352734</td>\n",
              "      <td>-0.569537</td>\n",
              "      <td>0.644779</td>\n",
              "      <td>0.086518</td>\n",
              "      <td>0.731470</td>\n",
              "      <td>-0.240265</td>\n",
              "      <td>1.000000</td>\n",
              "      <td>-0.747881</td>\n",
              "      <td>0.456022</td>\n",
              "      <td>0.506456</td>\n",
              "      <td>0.261515</td>\n",
              "      <td>-0.273534</td>\n",
              "      <td>0.602339</td>\n",
              "      <td>-0.376955</td>\n",
              "    </tr>\n",
              "    <tr>\n",
              "      <th>DIS</th>\n",
              "      <td>-0.379670</td>\n",
              "      <td>0.664408</td>\n",
              "      <td>-0.708027</td>\n",
              "      <td>-0.099176</td>\n",
              "      <td>-0.769230</td>\n",
              "      <td>0.205246</td>\n",
              "      <td>-0.747881</td>\n",
              "      <td>1.000000</td>\n",
              "      <td>-0.494588</td>\n",
              "      <td>-0.534432</td>\n",
              "      <td>-0.232471</td>\n",
              "      <td>0.291512</td>\n",
              "      <td>-0.496996</td>\n",
              "      <td>0.249929</td>\n",
              "    </tr>\n",
              "    <tr>\n",
              "      <th>RAD</th>\n",
              "      <td>0.625505</td>\n",
              "      <td>-0.311948</td>\n",
              "      <td>0.595129</td>\n",
              "      <td>-0.007368</td>\n",
              "      <td>0.611441</td>\n",
              "      <td>-0.209847</td>\n",
              "      <td>0.456022</td>\n",
              "      <td>-0.494588</td>\n",
              "      <td>1.000000</td>\n",
              "      <td>0.910228</td>\n",
              "      <td>0.464741</td>\n",
              "      <td>-0.444413</td>\n",
              "      <td>0.488676</td>\n",
              "      <td>-0.381626</td>\n",
              "    </tr>\n",
              "    <tr>\n",
              "      <th>TAX</th>\n",
              "      <td>0.582764</td>\n",
              "      <td>-0.314563</td>\n",
              "      <td>0.720760</td>\n",
              "      <td>-0.035587</td>\n",
              "      <td>0.668023</td>\n",
              "      <td>-0.292048</td>\n",
              "      <td>0.506456</td>\n",
              "      <td>-0.534432</td>\n",
              "      <td>0.910228</td>\n",
              "      <td>1.000000</td>\n",
              "      <td>0.460853</td>\n",
              "      <td>-0.441808</td>\n",
              "      <td>0.543993</td>\n",
              "      <td>-0.468536</td>\n",
              "    </tr>\n",
              "    <tr>\n",
              "      <th>PTRATIO</th>\n",
              "      <td>0.289946</td>\n",
              "      <td>-0.391679</td>\n",
              "      <td>0.383248</td>\n",
              "      <td>-0.121515</td>\n",
              "      <td>0.188933</td>\n",
              "      <td>-0.355501</td>\n",
              "      <td>0.261515</td>\n",
              "      <td>-0.232471</td>\n",
              "      <td>0.464741</td>\n",
              "      <td>0.460853</td>\n",
              "      <td>1.000000</td>\n",
              "      <td>-0.177383</td>\n",
              "      <td>0.374044</td>\n",
              "      <td>-0.507787</td>\n",
              "    </tr>\n",
              "    <tr>\n",
              "      <th>B</th>\n",
              "      <td>-0.385064</td>\n",
              "      <td>0.175520</td>\n",
              "      <td>-0.356977</td>\n",
              "      <td>0.048788</td>\n",
              "      <td>-0.380051</td>\n",
              "      <td>0.128069</td>\n",
              "      <td>-0.273534</td>\n",
              "      <td>0.291512</td>\n",
              "      <td>-0.444413</td>\n",
              "      <td>-0.441808</td>\n",
              "      <td>-0.177383</td>\n",
              "      <td>1.000000</td>\n",
              "      <td>-0.366087</td>\n",
              "      <td>0.333461</td>\n",
              "    </tr>\n",
              "    <tr>\n",
              "      <th>LSTAT</th>\n",
              "      <td>0.455621</td>\n",
              "      <td>-0.412995</td>\n",
              "      <td>0.603800</td>\n",
              "      <td>-0.053929</td>\n",
              "      <td>0.590879</td>\n",
              "      <td>-0.613808</td>\n",
              "      <td>0.602339</td>\n",
              "      <td>-0.496996</td>\n",
              "      <td>0.488676</td>\n",
              "      <td>0.543993</td>\n",
              "      <td>0.374044</td>\n",
              "      <td>-0.366087</td>\n",
              "      <td>1.000000</td>\n",
              "      <td>-0.737663</td>\n",
              "    </tr>\n",
              "    <tr>\n",
              "      <th>MEDV</th>\n",
              "      <td>-0.388305</td>\n",
              "      <td>0.360445</td>\n",
              "      <td>-0.483725</td>\n",
              "      <td>0.175260</td>\n",
              "      <td>-0.427321</td>\n",
              "      <td>0.695360</td>\n",
              "      <td>-0.376955</td>\n",
              "      <td>0.249929</td>\n",
              "      <td>-0.381626</td>\n",
              "      <td>-0.468536</td>\n",
              "      <td>-0.507787</td>\n",
              "      <td>0.333461</td>\n",
              "      <td>-0.737663</td>\n",
              "      <td>1.000000</td>\n",
              "    </tr>\n",
              "  </tbody>\n",
              "</table>\n",
              "</div>\n",
              "    <div class=\"colab-df-buttons\">\n",
              "\n",
              "  <div class=\"colab-df-container\">\n",
              "    <button class=\"colab-df-convert\" onclick=\"convertToInteractive('df-59d8cd5d-a0f5-4322-9602-c70c1407280c')\"\n",
              "            title=\"Convert this dataframe to an interactive table.\"\n",
              "            style=\"display:none;\">\n",
              "\n",
              "  <svg xmlns=\"http://www.w3.org/2000/svg\" height=\"24px\" viewBox=\"0 -960 960 960\">\n",
              "    <path d=\"M120-120v-720h720v720H120Zm60-500h600v-160H180v160Zm220 220h160v-160H400v160Zm0 220h160v-160H400v160ZM180-400h160v-160H180v160Zm440 0h160v-160H620v160ZM180-180h160v-160H180v160Zm440 0h160v-160H620v160Z\"/>\n",
              "  </svg>\n",
              "    </button>\n",
              "\n",
              "  <style>\n",
              "    .colab-df-container {\n",
              "      display:flex;\n",
              "      gap: 12px;\n",
              "    }\n",
              "\n",
              "    .colab-df-convert {\n",
              "      background-color: #E8F0FE;\n",
              "      border: none;\n",
              "      border-radius: 50%;\n",
              "      cursor: pointer;\n",
              "      display: none;\n",
              "      fill: #1967D2;\n",
              "      height: 32px;\n",
              "      padding: 0 0 0 0;\n",
              "      width: 32px;\n",
              "    }\n",
              "\n",
              "    .colab-df-convert:hover {\n",
              "      background-color: #E2EBFA;\n",
              "      box-shadow: 0px 1px 2px rgba(60, 64, 67, 0.3), 0px 1px 3px 1px rgba(60, 64, 67, 0.15);\n",
              "      fill: #174EA6;\n",
              "    }\n",
              "\n",
              "    .colab-df-buttons div {\n",
              "      margin-bottom: 4px;\n",
              "    }\n",
              "\n",
              "    [theme=dark] .colab-df-convert {\n",
              "      background-color: #3B4455;\n",
              "      fill: #D2E3FC;\n",
              "    }\n",
              "\n",
              "    [theme=dark] .colab-df-convert:hover {\n",
              "      background-color: #434B5C;\n",
              "      box-shadow: 0px 1px 3px 1px rgba(0, 0, 0, 0.15);\n",
              "      filter: drop-shadow(0px 1px 2px rgba(0, 0, 0, 0.3));\n",
              "      fill: #FFFFFF;\n",
              "    }\n",
              "  </style>\n",
              "\n",
              "    <script>\n",
              "      const buttonEl =\n",
              "        document.querySelector('#df-59d8cd5d-a0f5-4322-9602-c70c1407280c button.colab-df-convert');\n",
              "      buttonEl.style.display =\n",
              "        google.colab.kernel.accessAllowed ? 'block' : 'none';\n",
              "\n",
              "      async function convertToInteractive(key) {\n",
              "        const element = document.querySelector('#df-59d8cd5d-a0f5-4322-9602-c70c1407280c');\n",
              "        const dataTable =\n",
              "          await google.colab.kernel.invokeFunction('convertToInteractive',\n",
              "                                                    [key], {});\n",
              "        if (!dataTable) return;\n",
              "\n",
              "        const docLinkHtml = 'Like what you see? Visit the ' +\n",
              "          '<a target=\"_blank\" href=https://colab.research.google.com/notebooks/data_table.ipynb>data table notebook</a>'\n",
              "          + ' to learn more about interactive tables.';\n",
              "        element.innerHTML = '';\n",
              "        dataTable['output_type'] = 'display_data';\n",
              "        await google.colab.output.renderOutput(dataTable, element);\n",
              "        const docLink = document.createElement('div');\n",
              "        docLink.innerHTML = docLinkHtml;\n",
              "        element.appendChild(docLink);\n",
              "      }\n",
              "    </script>\n",
              "  </div>\n",
              "\n",
              "\n",
              "    <div id=\"df-4a4a17b5-d794-455f-807d-3ebd7e6ee42e\">\n",
              "      <button class=\"colab-df-quickchart\" onclick=\"quickchart('df-4a4a17b5-d794-455f-807d-3ebd7e6ee42e')\"\n",
              "                title=\"Suggest charts\"\n",
              "                style=\"display:none;\">\n",
              "\n",
              "<svg xmlns=\"http://www.w3.org/2000/svg\" height=\"24px\"viewBox=\"0 0 24 24\"\n",
              "     width=\"24px\">\n",
              "    <g>\n",
              "        <path d=\"M19 3H5c-1.1 0-2 .9-2 2v14c0 1.1.9 2 2 2h14c1.1 0 2-.9 2-2V5c0-1.1-.9-2-2-2zM9 17H7v-7h2v7zm4 0h-2V7h2v10zm4 0h-2v-4h2v4z\"/>\n",
              "    </g>\n",
              "</svg>\n",
              "      </button>\n",
              "\n",
              "<style>\n",
              "  .colab-df-quickchart {\n",
              "      --bg-color: #E8F0FE;\n",
              "      --fill-color: #1967D2;\n",
              "      --hover-bg-color: #E2EBFA;\n",
              "      --hover-fill-color: #174EA6;\n",
              "      --disabled-fill-color: #AAA;\n",
              "      --disabled-bg-color: #DDD;\n",
              "  }\n",
              "\n",
              "  [theme=dark] .colab-df-quickchart {\n",
              "      --bg-color: #3B4455;\n",
              "      --fill-color: #D2E3FC;\n",
              "      --hover-bg-color: #434B5C;\n",
              "      --hover-fill-color: #FFFFFF;\n",
              "      --disabled-bg-color: #3B4455;\n",
              "      --disabled-fill-color: #666;\n",
              "  }\n",
              "\n",
              "  .colab-df-quickchart {\n",
              "    background-color: var(--bg-color);\n",
              "    border: none;\n",
              "    border-radius: 50%;\n",
              "    cursor: pointer;\n",
              "    display: none;\n",
              "    fill: var(--fill-color);\n",
              "    height: 32px;\n",
              "    padding: 0;\n",
              "    width: 32px;\n",
              "  }\n",
              "\n",
              "  .colab-df-quickchart:hover {\n",
              "    background-color: var(--hover-bg-color);\n",
              "    box-shadow: 0 1px 2px rgba(60, 64, 67, 0.3), 0 1px 3px 1px rgba(60, 64, 67, 0.15);\n",
              "    fill: var(--button-hover-fill-color);\n",
              "  }\n",
              "\n",
              "  .colab-df-quickchart-complete:disabled,\n",
              "  .colab-df-quickchart-complete:disabled:hover {\n",
              "    background-color: var(--disabled-bg-color);\n",
              "    fill: var(--disabled-fill-color);\n",
              "    box-shadow: none;\n",
              "  }\n",
              "\n",
              "  .colab-df-spinner {\n",
              "    border: 2px solid var(--fill-color);\n",
              "    border-color: transparent;\n",
              "    border-bottom-color: var(--fill-color);\n",
              "    animation:\n",
              "      spin 1s steps(1) infinite;\n",
              "  }\n",
              "\n",
              "  @keyframes spin {\n",
              "    0% {\n",
              "      border-color: transparent;\n",
              "      border-bottom-color: var(--fill-color);\n",
              "      border-left-color: var(--fill-color);\n",
              "    }\n",
              "    20% {\n",
              "      border-color: transparent;\n",
              "      border-left-color: var(--fill-color);\n",
              "      border-top-color: var(--fill-color);\n",
              "    }\n",
              "    30% {\n",
              "      border-color: transparent;\n",
              "      border-left-color: var(--fill-color);\n",
              "      border-top-color: var(--fill-color);\n",
              "      border-right-color: var(--fill-color);\n",
              "    }\n",
              "    40% {\n",
              "      border-color: transparent;\n",
              "      border-right-color: var(--fill-color);\n",
              "      border-top-color: var(--fill-color);\n",
              "    }\n",
              "    60% {\n",
              "      border-color: transparent;\n",
              "      border-right-color: var(--fill-color);\n",
              "    }\n",
              "    80% {\n",
              "      border-color: transparent;\n",
              "      border-right-color: var(--fill-color);\n",
              "      border-bottom-color: var(--fill-color);\n",
              "    }\n",
              "    90% {\n",
              "      border-color: transparent;\n",
              "      border-bottom-color: var(--fill-color);\n",
              "    }\n",
              "  }\n",
              "</style>\n",
              "\n",
              "      <script>\n",
              "        async function quickchart(key) {\n",
              "          const quickchartButtonEl =\n",
              "            document.querySelector('#' + key + ' button');\n",
              "          quickchartButtonEl.disabled = true;  // To prevent multiple clicks.\n",
              "          quickchartButtonEl.classList.add('colab-df-spinner');\n",
              "          try {\n",
              "            const charts = await google.colab.kernel.invokeFunction(\n",
              "                'suggestCharts', [key], {});\n",
              "          } catch (error) {\n",
              "            console.error('Error during call to suggestCharts:', error);\n",
              "          }\n",
              "          quickchartButtonEl.classList.remove('colab-df-spinner');\n",
              "          quickchartButtonEl.classList.add('colab-df-quickchart-complete');\n",
              "        }\n",
              "        (() => {\n",
              "          let quickchartButtonEl =\n",
              "            document.querySelector('#df-4a4a17b5-d794-455f-807d-3ebd7e6ee42e button');\n",
              "          quickchartButtonEl.style.display =\n",
              "            google.colab.kernel.accessAllowed ? 'block' : 'none';\n",
              "        })();\n",
              "      </script>\n",
              "    </div>\n",
              "\n",
              "    </div>\n",
              "  </div>\n"
            ],
            "application/vnd.google.colaboratory.intrinsic+json": {
              "type": "dataframe",
              "summary": "{\n  \"name\": \"df\",\n  \"rows\": 14,\n  \"fields\": [\n    {\n      \"column\": \"CRIM\",\n      \"properties\": {\n        \"dtype\": \"number\",\n        \"std\": 0.4451167706587938,\n        \"min\": -0.38830460858681154,\n        \"max\": 1.0,\n        \"num_unique_values\": 14,\n        \"samples\": [\n          0.5827643120325854,\n          -0.3850639419942239,\n          1.0\n        ],\n        \"semantic_type\": \"\",\n        \"description\": \"\"\n      }\n    },\n    {\n      \"column\": \"ZN\",\n      \"properties\": {\n        \"dtype\": \"number\",\n        \"std\": 0.4878763355080914,\n        \"min\": -0.5695373420992109,\n        \"max\": 1.0,\n        \"num_unique_values\": 14,\n        \"samples\": [\n          -0.3145633246775997,\n          0.1755203173828273,\n          -0.20046921966254744\n        ],\n        \"semantic_type\": \"\",\n        \"description\": \"\"\n      }\n    },\n    {\n      \"column\": \"INDUS\",\n      \"properties\": {\n        \"dtype\": \"number\",\n        \"std\": 0.5772030352812337,\n        \"min\": -0.7080269887427675,\n        \"max\": 1.0,\n        \"num_unique_values\": 14,\n        \"samples\": [\n          0.7207601799515422,\n          -0.3569765351041928,\n          0.4065834114062594\n        ],\n        \"semantic_type\": \"\",\n        \"description\": \"\"\n      }\n    },\n    {\n      \"column\": \"CHAS\",\n      \"properties\": {\n        \"dtype\": \"number\",\n        \"std\": 0.27765088732420684,\n        \"min\": -0.12151517365806228,\n        \"max\": 1.0,\n        \"num_unique_values\": 14,\n        \"samples\": [\n          -0.03558651758591146,\n          0.048788484955166495,\n          -0.05589158222224156\n        ],\n        \"semantic_type\": \"\",\n        \"description\": \"\"\n      }\n    },\n    {\n      \"column\": \"NOX\",\n      \"properties\": {\n        \"dtype\": \"number\",\n        \"std\": 0.57351763522205,\n        \"min\": -0.7692301132258282,\n        \"max\": 1.0,\n        \"num_unique_values\": 14,\n        \"samples\": [\n          0.6680232004030217,\n          -0.3800506377924,\n          0.4209717113924554\n        ],\n        \"semantic_type\": \"\",\n        \"description\": \"\"\n      }\n    },\n    {\n      \"column\": \"RM\",\n      \"properties\": {\n        \"dtype\": \"number\",\n        \"std\": 0.44962035945746626,\n        \"min\": -0.6138082718663955,\n        \"max\": 1.0,\n        \"num_unique_values\": 14,\n        \"samples\": [\n          -0.2920478326232189,\n          0.1280686350925421,\n          -0.21924670286251308\n        ],\n        \"semantic_type\": \"\",\n        \"description\": \"\"\n      }\n    },\n    {\n      \"column\": \"AGE\",\n      \"properties\": {\n        \"dtype\": \"number\",\n        \"std\": 0.5344760697684142,\n        \"min\": -0.747880540868632,\n        \"max\": 1.0,\n        \"num_unique_values\": 14,\n        \"samples\": [\n          0.5064555935507051,\n          -0.273533976638513,\n          0.3527342509013634\n        ],\n        \"semantic_type\": \"\",\n        \"description\": \"\"\n      }\n    },\n    {\n      \"column\": \"DIS\",\n      \"properties\": {\n        \"dtype\": \"number\",\n        \"std\": 0.5524794401182375,\n        \"min\": -0.7692301132258282,\n        \"max\": 1.0,\n        \"num_unique_values\": 14,\n        \"samples\": [\n          -0.5344315844084577,\n          0.2915116731330399,\n          -0.37967008695102467\n        ],\n        \"semantic_type\": \"\",\n        \"description\": \"\"\n      }\n    },\n    {\n      \"column\": \"RAD\",\n      \"properties\": {\n        \"dtype\": \"number\",\n        \"std\": 0.5233720145739237,\n        \"min\": -0.4945879296720758,\n        \"max\": 1.0,\n        \"num_unique_values\": 14,\n        \"samples\": [\n          0.9102281885331865,\n          -0.44441281557512585,\n          0.6255051452626024\n        ],\n        \"semantic_type\": \"\",\n        \"description\": \"\"\n      }\n    },\n    {\n      \"column\": \"TAX\",\n      \"properties\": {\n        \"dtype\": \"number\",\n        \"std\": 0.5549635804694445,\n        \"min\": -0.5344315844084577,\n        \"max\": 1.0,\n        \"num_unique_values\": 14,\n        \"samples\": [\n          1.0,\n          -0.44180800672281423,\n          0.5827643120325854\n        ],\n        \"semantic_type\": \"\",\n        \"description\": \"\"\n      }\n    },\n    {\n      \"column\": \"PTRATIO\",\n      \"properties\": {\n        \"dtype\": \"number\",\n        \"std\": 0.4251539972576937,\n        \"min\": -0.5077866855375623,\n        \"max\": 1.0,\n        \"num_unique_values\": 14,\n        \"samples\": [\n          0.4608530350656702,\n          -0.1773833023052333,\n          0.2899455792795226\n        ],\n        \"semantic_type\": \"\",\n        \"description\": \"\"\n      }\n    },\n    {\n      \"column\": \"B\",\n      \"properties\": {\n        \"dtype\": \"number\",\n        \"std\": 0.4157987033771923,\n        \"min\": -0.44441281557512585,\n        \"max\": 1.0,\n        \"num_unique_values\": 14,\n        \"samples\": [\n          -0.44180800672281423,\n          1.0,\n          -0.3850639419942239\n        ],\n        \"semantic_type\": \"\",\n        \"description\": \"\"\n      }\n    },\n    {\n      \"column\": \"LSTAT\",\n      \"properties\": {\n        \"dtype\": \"number\",\n        \"std\": 0.5653272421344848,\n        \"min\": -0.7376627261740145,\n        \"max\": 1.0,\n        \"num_unique_values\": 14,\n        \"samples\": [\n          0.5439934120015698,\n          -0.36608690169159663,\n          0.4556214794479463\n        ],\n        \"semantic_type\": \"\",\n        \"description\": \"\"\n      }\n    },\n    {\n      \"column\": \"MEDV\",\n      \"properties\": {\n        \"dtype\": \"number\",\n        \"std\": 0.5283478171791951,\n        \"min\": -0.7376627261740145,\n        \"max\": 1.0,\n        \"num_unique_values\": 14,\n        \"samples\": [\n          -0.4685359335677667,\n          0.3334608196570662,\n          -0.38830460858681154\n        ],\n        \"semantic_type\": \"\",\n        \"description\": \"\"\n      }\n    }\n  ]\n}"
            }
          },
          "metadata": {},
          "execution_count": 78
        }
      ],
      "source": [
        "# correlation matrix of features\n",
        "df.corr()"
      ]
    },
    {
      "cell_type": "markdown",
      "id": "3d4e7eae-6a86-4a2a-879b-655e7297edad",
      "metadata": {
        "id": "3d4e7eae-6a86-4a2a-879b-655e7297edad"
      },
      "source": [
        "## regressor1 = model with all the rows and columns"
      ]
    },
    {
      "cell_type": "code",
      "execution_count": 79,
      "id": "8d7f803f-25fb-4eba-ac1b-25bde90edbf3",
      "metadata": {
        "colab": {
          "base_uri": "https://localhost:8080/"
        },
        "id": "8d7f803f-25fb-4eba-ac1b-25bde90edbf3",
        "outputId": "b1aa2388-b861-472a-cf34-ff994cda1745"
      },
      "outputs": [
        {
          "output_type": "stream",
          "name": "stdout",
          "text": [
            "(506,)\n",
            "(506, 13)\n",
            "(506, 14)\n",
            "                            OLS Regression Results                            \n",
            "==============================================================================\n",
            "Dep. Variable:                   MEDV   R-squared:                       0.773\n",
            "Model:                            OLS   Adj. R-squared:                  0.765\n",
            "Method:                 Least Squares   F-statistic:                     102.2\n",
            "Date:                Tue, 19 Aug 2025   Prob (F-statistic):          9.64e-117\n",
            "Time:                        16:37:19   Log-Likelihood:                -1171.5\n",
            "No. Observations:                 404   AIC:                             2371.\n",
            "Df Residuals:                     390   BIC:                             2427.\n",
            "Df Model:                          13                                         \n",
            "Covariance Type:            nonrobust                                         \n",
            "==============================================================================\n",
            "                 coef    std err          t      P>|t|      [0.025      0.975]\n",
            "------------------------------------------------------------------------------\n",
            "const         38.0917      5.522      6.898      0.000      27.234      48.949\n",
            "CRIM          -0.1194      0.037     -3.257      0.001      -0.192      -0.047\n",
            "ZN             0.0448      0.014      3.102      0.002       0.016       0.073\n",
            "INDUS          0.0055      0.063      0.087      0.931      -0.119       0.130\n",
            "CHAS           2.3408      0.902      2.595      0.010       0.567       4.115\n",
            "NOX          -16.1236      4.212     -3.828      0.000     -24.404      -7.843\n",
            "RM             3.7087      0.458      8.106      0.000       2.809       4.608\n",
            "AGE           -0.0031      0.014     -0.218      0.828      -0.031       0.025\n",
            "DIS           -1.3864      0.214     -6.480      0.000      -1.807      -0.966\n",
            "RAD            0.2442      0.070      3.481      0.001       0.106       0.382\n",
            "TAX           -0.0110      0.004     -2.819      0.005      -0.019      -0.003\n",
            "PTRATIO       -1.0459      0.137     -7.636      0.000      -1.315      -0.777\n",
            "B              0.0081      0.003      2.749      0.006       0.002       0.014\n",
            "LSTAT         -0.4928      0.054     -9.086      0.000      -0.599      -0.386\n",
            "==============================================================================\n",
            "Omnibus:                      141.494   Durbin-Watson:                   1.996\n",
            "Prob(Omnibus):                  0.000   Jarque-Bera (JB):              629.882\n",
            "Skew:                           1.470   Prob(JB):                    1.67e-137\n",
            "Kurtosis:                       8.365   Cond. No.                     1.55e+04\n",
            "==============================================================================\n",
            "\n",
            "Notes:\n",
            "[1] Standard Errors assume that the covariance matrix of the errors is correctly specified.\n",
            "[2] The condition number is large, 1.55e+04. This might indicate that there are\n",
            "strong multicollinearity or other numerical problems.\n",
            "***** R2_score from sklearn.metrics: *****\n",
            "0.35236530087886864\n",
            "y_test variance: \n",
            "82.23466123082896\n",
            "y_test size: \n",
            "102\n",
            "RSE: \n",
            "33.44897999767654\n",
            "***** R2 calculated for test observations: *****\n",
            "0.59324961643866\n"
          ]
        }
      ],
      "source": [
        "y = df['MEDV']\n",
        "X = df.loc[: , df.columns != 'MEDV']\n",
        "print(y.shape)\n",
        "print(X.shape)\n",
        "X = sm.add_constant(X)\n",
        "print(X.shape)\n",
        "X.head(2)\n",
        "X_train, X_test, y_train, y_test = train_test_split(X, y, test_size = get_test_size(), random_state = get_random_state())\n",
        "regressor1 = sm.OLS(y_train, X_train).fit()\n",
        "print(regressor1.summary())\n",
        "y_pred = regressor1.predict(X_test)\n",
        "calculate_r2(y_pred, y_test)"
      ]
    },
    {
      "cell_type": "markdown",
      "id": "54a92b9d-8a2a-45ee-8191-cb5027885d85",
      "metadata": {
        "id": "54a92b9d-8a2a-45ee-8191-cb5027885d85"
      },
      "source": [
        "### regressor1 (with all rows and columns) => test r-squared = 59.32%"
      ]
    },
    {
      "cell_type": "markdown",
      "id": "1e7430f9-85a8-4f9c-8bba-c30c72602bfc",
      "metadata": {
        "id": "1e7430f9-85a8-4f9c-8bba-c30c72602bfc"
      },
      "source": [
        "## Detect Outliers, High Leverage Points and Influence"
      ]
    },
    {
      "cell_type": "markdown",
      "id": "298fa14a-f01b-42dc-ab5f-6205dddb5299",
      "metadata": {
        "id": "298fa14a-f01b-42dc-ab5f-6205dddb5299"
      },
      "source": [
        "### Detect Outliers"
      ]
    },
    {
      "cell_type": "code",
      "execution_count": 80,
      "id": "ccd7e268-60df-4f6e-9f30-187d6bc70d6c",
      "metadata": {
        "colab": {
          "base_uri": "https://localhost:8080/",
          "height": 430
        },
        "id": "ccd7e268-60df-4f6e-9f30-187d6bc70d6c",
        "outputId": "749ac856-5d02-484b-8de3-06e712348222"
      },
      "outputs": [
        {
          "output_type": "display_data",
          "data": {
            "text/plain": [
              "<Figure size 640x480 with 1 Axes>"
            ],
            "image/png": "[encoded data removed]"
          },
          "metadata": {}
        }
      ],
      "source": [
        "# Outliers detection using boxplot\n",
        "boxplot = plt.boxplot(df['MEDV'])\n",
        "plt.show()"
      ]
    },
    {
      "cell_type": "code",
      "execution_count": 81,
      "id": "669e7cc2-59e6-4e23-b47d-b453ce3ff204",
      "metadata": {
        "colab": {
          "base_uri": "https://localhost:8080/"
        },
        "id": "669e7cc2-59e6-4e23-b47d-b453ce3ff204",
        "outputId": "7326cb60-d714-405a-8ebc-d6553420ab60"
      },
      "outputs": [
        {
          "output_type": "stream",
          "name": "stdout",
          "text": [
            "50.0\n",
            "5.0\n",
            "[ 5.   5.  38.7 43.8 41.3 50.  50.  50.  50.  37.2 39.8 37.9 50.  37.\n",
            " 50.  42.3 48.5 50.  44.8 50.  37.6 46.7 41.7 48.3 42.8 44.  50.  43.1\n",
            " 48.8 50.  43.5 45.4 46.  50.  37.3 50.  50.  50.  50.  50. ]\n",
            "40\n",
            "Index([ 97,  98, 157, 161, 162, 163, 166, 179, 180, 182, 186, 190, 195, 202,\n",
            "       203, 204, 224, 225, 226, 228, 232, 233, 253, 256, 257, 261, 262, 267,\n",
            "       268, 280, 282, 283, 291, 368, 369, 370, 371, 372, 398, 405],\n",
            "      dtype='int64')\n"
          ]
        }
      ],
      "source": [
        "outliers = [flier.get_ydata() for flier in boxplot[\"fliers\"]][0]\n",
        "print(max(outliers))\n",
        "print(min(outliers))\n",
        "print(outliers)\n",
        "print(len(outliers))\n",
        "outliers_indices = df[df['MEDV'].isin(outliers)].index\n",
        "print(outliers_indices)"
      ]
    },
    {
      "cell_type": "code",
      "execution_count": 82,
      "id": "fa04df9f-e04f-4db4-8b81-991e1bcd87be",
      "metadata": {
        "colab": {
          "base_uri": "https://localhost:8080/"
        },
        "id": "fa04df9f-e04f-4db4-8b81-991e1bcd87be",
        "outputId": "a293efb5-c47b-406d-91cd-54e7a6af45b9"
      },
      "outputs": [
        {
          "output_type": "stream",
          "name": "stdout",
          "text": [
            "(506, 14)\n",
            "(466, 14)\n",
            "(466,)\n",
            "(466, 13)\n",
            "(466,)\n",
            "(466, 14)\n",
            "                            OLS Regression Results                            \n",
            "==============================================================================\n",
            "Dep. Variable:                   MEDV   R-squared:                       0.762\n",
            "Model:                            OLS   Adj. R-squared:                  0.754\n",
            "Method:                 Least Squares   F-statistic:                     88.29\n",
            "Date:                Tue, 19 Aug 2025   Prob (F-statistic):          4.51e-103\n",
            "Time:                        16:37:19   Log-Likelihood:                -960.11\n",
            "No. Observations:                 372   AIC:                             1948.\n",
            "Df Residuals:                     358   BIC:                             2003.\n",
            "Df Model:                          13                                         \n",
            "Covariance Type:            nonrobust                                         \n",
            "==============================================================================\n",
            "                 coef    std err          t      P>|t|      [0.025      0.975]\n",
            "------------------------------------------------------------------------------\n",
            "const         41.7604      4.134     10.102      0.000      33.631      49.890\n",
            "CRIM          -0.1213      0.030     -4.057      0.000      -0.180      -0.063\n",
            "ZN             0.0320      0.012      2.620      0.009       0.008       0.056\n",
            "INDUS         -0.0500      0.051     -0.971      0.332      -0.151       0.051\n",
            "CHAS           1.2861      0.713      1.805      0.072      -0.116       2.688\n",
            "NOX          -12.6074      2.931     -4.302      0.000     -18.371      -6.844\n",
            "RM             1.7337      0.384      4.517      0.000       0.979       2.489\n",
            "AGE           -0.0105      0.011     -0.994      0.321      -0.031       0.010\n",
            "DIS           -1.0315      0.165     -6.244      0.000      -1.356      -0.707\n",
            "RAD            0.2359      0.055      4.318      0.000       0.128       0.343\n",
            "TAX           -0.0117      0.003     -3.642      0.000      -0.018      -0.005\n",
            "PTRATIO       -0.7332      0.105     -6.975      0.000      -0.940      -0.527\n",
            "B              0.0066      0.002      3.167      0.002       0.003       0.011\n",
            "LSTAT         -0.4147      0.042     -9.962      0.000      -0.497      -0.333\n",
            "==============================================================================\n",
            "Omnibus:                       39.652   Durbin-Watson:                   1.926\n",
            "Prob(Omnibus):                  0.000   Jarque-Bera (JB):               55.340\n",
            "Skew:                           0.739   Prob(JB):                     9.62e-13\n",
            "Kurtosis:                       4.177   Cond. No.                     1.51e+04\n",
            "==============================================================================\n",
            "\n",
            "Notes:\n",
            "[1] Standard Errors assume that the covariance matrix of the errors is correctly specified.\n",
            "[2] The condition number is large, 1.51e+04. This might indicate that there are\n",
            "strong multicollinearity or other numerical problems.\n",
            "***** R2_score from sklearn.metrics: *****\n",
            "0.7100597516941153\n",
            "y_test variance: \n",
            "35.31202928391673\n",
            "y_test size: \n",
            "94\n",
            "RSE: \n",
            "9.028574799522175\n",
            "***** R2 calculated for test observations: *****\n",
            "0.7443201372843689\n"
          ]
        }
      ],
      "source": [
        "print(df.shape)\n",
        "df1 = df[~df['MEDV'].isin(outliers)]\n",
        "print(df1.shape)\n",
        "y1 = df1['MEDV']\n",
        "X1 = df1.loc[:, df1.columns != 'MEDV']\n",
        "print(y1.shape)\n",
        "print(X1.shape)\n",
        "X1 = sm.add_constant(X1)\n",
        "print(y1.shape)\n",
        "print(X1.shape)\n",
        "X1.head(2)\n",
        "X1_train, X1_test, y1_train, y1_test = train_test_split(X1, y1, test_size = get_test_size(), random_state = get_random_state())\n",
        "regressor2 = sm.OLS(y1_train, X1_train).fit()\n",
        "print(regressor2.summary())\n",
        "y1_pred = regressor2.predict(X1_test)\n",
        "calculate_r2(y1_pred, y1_test)"
      ]
    },
    {
      "cell_type": "markdown",
      "id": "90978251-c92c-47c7-9f19-2164f3f984cb",
      "metadata": {
        "id": "90978251-c92c-47c7-9f19-2164f3f984cb"
      },
      "source": [
        "### regressor2 (removing outliers detected by boxplot) => test r-squared = 74.43%, but 40 rows are removed"
      ]
    },
    {
      "cell_type": "code",
      "execution_count": 83,
      "id": "e24225ec-59fd-4977-ae2d-405943730386",
      "metadata": {
        "colab": {
          "base_uri": "https://localhost:8080/"
        },
        "id": "e24225ec-59fd-4977-ae2d-405943730386",
        "outputId": "3fd7e3ac-1276-4760-9d5c-443d3bf02e11"
      },
      "outputs": [
        {
          "output_type": "stream",
          "name": "stdout",
          "text": [
            "368    True\n",
            "369    True\n",
            "370    True\n",
            "Name: bonf(p), dtype: bool\n",
            "3\n",
            "Index([368, 369, 370], dtype='int64')\n"
          ]
        }
      ],
      "source": [
        "# Outliers detection using Z-scores\n",
        "outliers_zscore = np.abs(regressor1.outlier_test()['bonf(p)']) < 0.05\n",
        "print(outliers_zscore[outliers_zscore == True])\n",
        "print(len(outliers_zscore[outliers_zscore == True]))\n",
        "outliers_indices = outliers_zscore[outliers_zscore == True].index\n",
        "print(outliers_indices)"
      ]
    },
    {
      "cell_type": "code",
      "execution_count": 84,
      "id": "4f757a36-f278-46dc-8ee6-637a1d7afd97",
      "metadata": {
        "colab": {
          "base_uri": "https://localhost:8080/"
        },
        "id": "4f757a36-f278-46dc-8ee6-637a1d7afd97",
        "outputId": "ec5f042d-2eea-4c8e-8624-d9aba3a702ab"
      },
      "outputs": [
        {
          "output_type": "stream",
          "name": "stdout",
          "text": [
            "(506, 14)\n",
            "(503, 14)\n",
            "(503,)\n",
            "(503, 14)\n",
            "                            OLS Regression Results                            \n",
            "==============================================================================\n",
            "Dep. Variable:                   MEDV   R-squared:                       0.765\n",
            "Model:                            OLS   Adj. R-squared:                  0.757\n",
            "Method:                 Least Squares   F-statistic:                     97.32\n",
            "Date:                Tue, 19 Aug 2025   Prob (F-statistic):          2.57e-113\n",
            "Time:                        16:37:20   Log-Likelihood:                -1168.7\n",
            "No. Observations:                 402   AIC:                             2365.\n",
            "Df Residuals:                     388   BIC:                             2421.\n",
            "Df Model:                          13                                         \n",
            "Covariance Type:            nonrobust                                         \n",
            "==============================================================================\n",
            "                 coef    std err          t      P>|t|      [0.025      0.975]\n",
            "------------------------------------------------------------------------------\n",
            "const         32.4198      5.525      5.868      0.000      21.557      43.283\n",
            "CRIM          -0.0793      0.038     -2.113      0.035      -0.153      -0.006\n",
            "ZN             0.0377      0.014      2.652      0.008       0.010       0.066\n",
            "INDUS          0.0094      0.064      0.146      0.884      -0.117       0.135\n",
            "CHAS           2.3446      0.979      2.396      0.017       0.420       4.269\n",
            "NOX          -17.4452      4.176     -4.178      0.000     -25.656      -9.235\n",
            "RM             4.7924      0.475     10.095      0.000       3.859       5.726\n",
            "AGE           -0.0173      0.014     -1.238      0.216      -0.045       0.010\n",
            "DIS           -1.4350      0.209     -6.873      0.000      -1.845      -1.025\n",
            "RAD            0.2472      0.071      3.474      0.001       0.107       0.387\n",
            "TAX           -0.0132      0.004     -3.301      0.001      -0.021      -0.005\n",
            "PTRATIO       -1.0193      0.137     -7.448      0.000      -1.288      -0.750\n",
            "B              0.0065      0.003      2.155      0.032       0.001       0.012\n",
            "LSTAT         -0.3617      0.058     -6.185      0.000      -0.477      -0.247\n",
            "==============================================================================\n",
            "Omnibus:                      162.981   Durbin-Watson:                   2.005\n",
            "Prob(Omnibus):                  0.000   Jarque-Bera (JB):             1011.675\n",
            "Skew:                           1.604   Prob(JB):                    2.08e-220\n",
            "Kurtosis:                      10.079   Cond. No.                     1.52e+04\n",
            "==============================================================================\n",
            "\n",
            "Notes:\n",
            "[1] Standard Errors assume that the covariance matrix of the errors is correctly specified.\n",
            "[2] The condition number is large, 1.52e+04. This might indicate that there are\n",
            "strong multicollinearity or other numerical problems.\n",
            "***** R2_score from sklearn.metrics: *****\n",
            "0.6491638119934224\n",
            "y_test variance: \n",
            "66.15023564356437\n",
            "y_test size: \n",
            "101\n",
            "RSE: \n",
            "18.779421345751093\n",
            "***** R2 calculated for test observations: *****\n",
            "0.7161095321422621\n"
          ]
        }
      ],
      "source": [
        "print(df.shape)\n",
        "df2 = df.drop(index = outliers_indices)\n",
        "print(df2.shape)\n",
        "y2 = df2['MEDV']\n",
        "X2 = df2.loc[:, df2.columns != 'MEDV']\n",
        "X2 = sm.add_constant(X2)\n",
        "print(y2.shape)\n",
        "print(X2.shape)\n",
        "X2_train, X2_test, y2_train, y2_test = train_test_split(X2, y2, test_size = get_test_size(), random_state = get_random_state())\n",
        "regressor3 = sm.OLS(y2_train, X2_train).fit()\n",
        "print(regressor3.summary())\n",
        "y2_pred = regressor3.predict(X2_test)\n",
        "calculate_r2(y2_pred, y2_test)"
      ]
    },
    {
      "cell_type": "markdown",
      "id": "672191d2-f620-4882-a5b8-74d56f705c8e",
      "metadata": {
        "id": "672191d2-f620-4882-a5b8-74d56f705c8e"
      },
      "source": [
        "### regressor3 (removing outliers detected by Z-scores) => test r-squared = 71.61%, 3 rows are removed"
      ]
    },
    {
      "cell_type": "markdown",
      "id": "d76c361e-d9c9-419a-9e35-1b2e5efbf470",
      "metadata": {
        "id": "d76c361e-d9c9-419a-9e35-1b2e5efbf470"
      },
      "source": [
        "### Check for high leverage points"
      ]
    },
    {
      "cell_type": "code",
      "execution_count": 85,
      "id": "9277699f-14e1-407e-b665-7c229dfa3689",
      "metadata": {
        "colab": {
          "base_uri": "https://localhost:8080/"
        },
        "id": "9277699f-14e1-407e-b665-7c229dfa3689",
        "outputId": "34cf7015-b83e-4eb8-eb34-13e452578d3a"
      },
      "outputs": [
        {
          "output_type": "stream",
          "name": "stdout",
          "text": [
            "[152 155 214 353 364 365 367 380 405 410 414 418 488 489 490 491 492]\n",
            "17\n"
          ]
        }
      ],
      "source": [
        "# High Leverage points check using Leverage statistics (eg. Hat Matrix)\n",
        "regressor4 = sm.OLS(y, X).fit()\n",
        "influence = regressor4.get_influence()\n",
        "leverage = influence.hat_matrix_diag\n",
        "leverage_points = np.where(leverage > np.mean(leverage) + 2 * np.std(leverage))\n",
        "print(leverage_points[0])\n",
        "print(len(leverage_points[0]))"
      ]
    },
    {
      "cell_type": "code",
      "execution_count": 86,
      "id": "5b4e384c-16f1-42ee-992a-7f7099641d7d",
      "metadata": {
        "colab": {
          "base_uri": "https://localhost:8080/"
        },
        "id": "5b4e384c-16f1-42ee-992a-7f7099641d7d",
        "outputId": "81b58c99-9461-4ed6-e177-f23b2da92057"
      },
      "outputs": [
        {
          "output_type": "stream",
          "name": "stdout",
          "text": [
            "(506, 14)\n",
            "(489, 14)\n",
            "(489,)\n",
            "(489, 14)\n",
            "                            OLS Regression Results                            \n",
            "==============================================================================\n",
            "Dep. Variable:                   MEDV   R-squared:                       0.761\n",
            "Model:                            OLS   Adj. R-squared:                  0.753\n",
            "Method:                 Least Squares   F-statistic:                     92.52\n",
            "Date:                Tue, 19 Aug 2025   Prob (F-statistic):          1.42e-108\n",
            "Time:                        16:37:20   Log-Likelihood:                -1140.5\n",
            "No. Observations:                 391   AIC:                             2309.\n",
            "Df Residuals:                     377   BIC:                             2365.\n",
            "Df Model:                          13                                         \n",
            "Covariance Type:            nonrobust                                         \n",
            "==============================================================================\n",
            "                 coef    std err          t      P>|t|      [0.025      0.975]\n",
            "------------------------------------------------------------------------------\n",
            "const         31.4254      5.990      5.247      0.000      19.648      43.203\n",
            "CRIM          -0.0420      0.065     -0.645      0.519      -0.170       0.086\n",
            "ZN             0.0410      0.015      2.777      0.006       0.012       0.070\n",
            "INDUS         -0.0086      0.063     -0.136      0.892      -0.133       0.116\n",
            "CHAS           3.0801      1.010      3.049      0.002       1.094       5.066\n",
            "NOX          -11.5538      4.381     -2.637      0.009     -20.168      -2.940\n",
            "RM             4.2865      0.511      8.382      0.000       3.281       5.292\n",
            "AGE           -0.0061      0.015     -0.408      0.684      -0.035       0.023\n",
            "DIS           -1.4558      0.233     -6.252      0.000      -1.914      -0.998\n",
            "RAD            0.3414      0.087      3.928      0.000       0.171       0.512\n",
            "TAX           -0.0180      0.005     -3.862      0.000      -0.027      -0.009\n",
            "PTRATIO       -0.8819      0.142     -6.208      0.000      -1.161      -0.603\n",
            "B              0.0090      0.003      2.761      0.006       0.003       0.015\n",
            "LSTAT         -0.5506      0.065     -8.533      0.000      -0.677      -0.424\n",
            "==============================================================================\n",
            "Omnibus:                      184.955   Durbin-Watson:                   1.921\n",
            "Prob(Omnibus):                  0.000   Jarque-Bera (JB):             1291.197\n",
            "Skew:                           1.883   Prob(JB):                    4.17e-281\n",
            "Kurtosis:                      11.067   Cond. No.                     1.60e+04\n",
            "==============================================================================\n",
            "\n",
            "Notes:\n",
            "[1] Standard Errors assume that the covariance matrix of the errors is correctly specified.\n",
            "[2] The condition number is large, 1.6e+04. This might indicate that there are\n",
            "strong multicollinearity or other numerical problems.\n",
            "***** R2_score from sklearn.metrics: *****\n",
            "0.6402982415385832\n",
            "y_test variance: \n",
            "84.53695876288667\n",
            "y_test size: \n",
            "98\n",
            "RSE: \n",
            "22.719425693850116\n",
            "***** R2 calculated for test observations: *****\n",
            "0.7312486038494163\n"
          ]
        }
      ],
      "source": [
        "print(df.shape)\n",
        "df3 = df.drop(leverage_points[0], axis = 0)\n",
        "print(df3.shape)\n",
        "y3 = df3['MEDV']\n",
        "X3 = df3.loc[:, df3.columns != 'MEDV']\n",
        "X3 = sm.add_constant(X3)\n",
        "print(y3.shape)\n",
        "print(X3.shape)\n",
        "X3_train, X3_test, y3_train, y3_test = train_test_split(X3, y3, test_size = get_test_size(), random_state = get_random_state())\n",
        "regressor5 = sm.OLS(y3_train, X3_train).fit()\n",
        "print(regressor5.summary())\n",
        "y3_pred = regressor5.predict(X3_test)\n",
        "calculate_r2(y3_pred, y3_test)"
      ]
    },
    {
      "cell_type": "markdown",
      "id": "c97e5cdc-cb4a-42f7-9fad-adf35b3c325f",
      "metadata": {
        "id": "c97e5cdc-cb4a-42f7-9fad-adf35b3c325f"
      },
      "source": [
        "### regressor5 (removing high-leverage-points detected by hat-matrix) => test r-squared = 73.12%, but 17 rows are removed"
      ]
    },
    {
      "cell_type": "code",
      "execution_count": 87,
      "id": "c208b068-0154-4ccc-9ff8-8ad1f8966418",
      "metadata": {
        "colab": {
          "base_uri": "https://localhost:8080/"
        },
        "id": "c208b068-0154-4ccc-9ff8-8ad1f8966418",
        "outputId": "67e978c4-9ccd-4727-dc57-249902c1a1d9"
      },
      "outputs": [
        {
          "output_type": "stream",
          "name": "stdout",
          "text": [
            "0.2857142857142857\n",
            "(array([], dtype=int64),)\n"
          ]
        }
      ],
      "source": [
        "# High Leverage check using Cook's distance\n",
        "cook_distance = regressor4.get_influence().cooks_distance[0]\n",
        "print(4 / df.shape[1])\n",
        "influential_observations = np.where(cook_distance > 4 / df.shape[1])\n",
        "print(influential_observations)"
      ]
    },
    {
      "cell_type": "markdown",
      "id": "7f377e64-7c0f-4e3f-8bf8-049328c9003e",
      "metadata": {
        "id": "7f377e64-7c0f-4e3f-8bf8-049328c9003e"
      },
      "source": [
        "### Detecting High-leverage-points using Cook's distance resulted in no data"
      ]
    },
    {
      "cell_type": "markdown",
      "id": "45e4970e-3d9a-41e4-8f02-535e74f26c7a",
      "metadata": {
        "id": "45e4970e-3d9a-41e4-8f02-535e74f26c7a"
      },
      "source": [
        "### Calculate Influence using DFFITS and DFBETAS"
      ]
    },
    {
      "cell_type": "code",
      "execution_count": 88,
      "id": "d0cdad65-21e1-4b14-9804-2b6c4cdcb24c",
      "metadata": {
        "colab": {
          "base_uri": "https://localhost:8080/"
        },
        "id": "d0cdad65-21e1-4b14-9804-2b6c4cdcb24c",
        "outputId": "964d60dc-c3aa-4c10-8bbb-6916424106d2"
      },
      "outputs": [
        {
          "output_type": "stream",
          "name": "stdout",
          "text": [
            "[368]\n",
            "[364 367 368]\n"
          ]
        }
      ],
      "source": [
        "# Influence calculation using DFFITS and DFBETAS\n",
        "dffits = regressor4.get_influence().dffits[0]\n",
        "dfbetas = regressor4.get_influence().dfbetas\n",
        "influential_dffits = np.where(np.abs(dffits) > 2 * np.sqrt(df.shape[1] * regressor4.df_model / regressor4.df_resid))\n",
        "coefficient_index = 0  # Index of the coefficient to analyze\n",
        "influential_dfbetas = np.where(np.abs(dfbetas[:, coefficient_index]) > 2 / np.sqrt(df.shape[1]))\n",
        "print(influential_dffits[0])\n",
        "print(influential_dfbetas[0])"
      ]
    },
    {
      "cell_type": "code",
      "execution_count": 89,
      "id": "5f10f0f7-62e3-4108-bbfc-3c6ee7d18b5d",
      "metadata": {
        "colab": {
          "base_uri": "https://localhost:8080/"
        },
        "id": "5f10f0f7-62e3-4108-bbfc-3c6ee7d18b5d",
        "outputId": "33a2e4d3-ea09-40c1-cd23-7824cd1bea5b"
      },
      "outputs": [
        {
          "output_type": "stream",
          "name": "stdout",
          "text": [
            "(505, 14)\n",
            "(505,)\n",
            "(505, 14)\n",
            "                            OLS Regression Results                            \n",
            "==============================================================================\n",
            "Dep. Variable:                   MEDV   R-squared:                       0.760\n",
            "Model:                            OLS   Adj. R-squared:                  0.752\n",
            "Method:                 Least Squares   F-statistic:                     94.81\n",
            "Date:                Tue, 19 Aug 2025   Prob (F-statistic):          6.21e-112\n",
            "Time:                        16:37:20   Log-Likelihood:                -1187.7\n",
            "No. Observations:                 404   AIC:                             2403.\n",
            "Df Residuals:                     390   BIC:                             2460.\n",
            "Df Model:                          13                                         \n",
            "Covariance Type:            nonrobust                                         \n",
            "==============================================================================\n",
            "                 coef    std err          t      P>|t|      [0.025      0.975]\n",
            "------------------------------------------------------------------------------\n",
            "const         31.2921      5.696      5.493      0.000      20.093      42.491\n",
            "CRIM          -0.0955      0.034     -2.785      0.006      -0.163      -0.028\n",
            "ZN             0.0375      0.015      2.547      0.011       0.009       0.066\n",
            "INDUS          0.0153      0.066      0.231      0.817      -0.115       0.146\n",
            "CHAS           3.7993      0.981      3.874      0.000       1.871       5.728\n",
            "NOX          -19.1411      4.269     -4.483      0.000     -27.535     -10.747\n",
            "RM             4.8475      0.496      9.782      0.000       3.873       5.822\n",
            "AGE           -0.0097      0.014     -0.680      0.497      -0.038       0.018\n",
            "DIS           -1.4313      0.216     -6.627      0.000      -1.856      -1.007\n",
            "RAD            0.2452      0.072      3.425      0.001       0.104       0.386\n",
            "TAX           -0.0116      0.004     -2.876      0.004      -0.020      -0.004\n",
            "PTRATIO       -0.9954      0.141     -7.047      0.000      -1.273      -0.718\n",
            "B              0.0076      0.003      2.499      0.013       0.002       0.014\n",
            "LSTAT         -0.3896      0.058     -6.663      0.000      -0.505      -0.275\n",
            "==============================================================================\n",
            "Omnibus:                      148.698   Durbin-Watson:                   1.893\n",
            "Prob(Omnibus):                  0.000   Jarque-Bera (JB):              777.715\n",
            "Skew:                           1.492   Prob(JB):                    1.32e-169\n",
            "Kurtosis:                       9.107   Cond. No.                     1.52e+04\n",
            "==============================================================================\n",
            "\n",
            "Notes:\n",
            "[1] Standard Errors assume that the covariance matrix of the errors is correctly specified.\n",
            "[2] The condition number is large, 1.52e+04. This might indicate that there are\n",
            "strong multicollinearity or other numerical problems.\n",
            "***** R2_score from sklearn.metrics: *****\n",
            "0.6583357031073787\n",
            "y_test variance: \n",
            "65.49994653465347\n",
            "y_test size: \n",
            "101\n",
            "RSE: \n",
            "19.938291165072194\n",
            "***** R2 calculated for test observations: *****\n",
            "0.6955983596944828\n"
          ]
        }
      ],
      "source": [
        "df4 = df.drop(influential_dffits[0], axis = 0)\n",
        "print(df4.shape)\n",
        "y4 = df4['MEDV']\n",
        "X4 = df4.loc[:, df4.columns != 'MEDV']\n",
        "X4 = sm.add_constant(X4)\n",
        "print(y4.shape)\n",
        "print(X4.shape)\n",
        "X4_train, X4_test, y4_train, y4_test = train_test_split(X4, y4, test_size = get_test_size(), random_state = get_random_state())\n",
        "regressor6 = sm.OLS(y4_train, X4_train).fit()\n",
        "print(regressor6.summary())\n",
        "y4_pred = regressor6.predict(X4_test)\n",
        "calculate_r2(y4_pred, y4_test)"
      ]
    },
    {
      "cell_type": "markdown",
      "id": "32b6b0e1-5fff-4e1b-ae8d-866f21728b57",
      "metadata": {
        "id": "32b6b0e1-5fff-4e1b-ae8d-866f21728b57"
      },
      "source": [
        "### regressor6 (removing influence-points detected by DFFITS) => test r-squared = 69.56%, 1 row is removed"
      ]
    },
    {
      "cell_type": "code",
      "execution_count": 90,
      "id": "69349308-b48d-43f1-a271-723a06d70fd3",
      "metadata": {
        "colab": {
          "base_uri": "https://localhost:8080/"
        },
        "id": "69349308-b48d-43f1-a271-723a06d70fd3",
        "outputId": "3fe95b4b-64ab-45fb-e774-25447c2f3c3e"
      },
      "outputs": [
        {
          "output_type": "stream",
          "name": "stdout",
          "text": [
            "(503, 14)\n",
            "(503,)\n",
            "(503, 14)\n",
            "                            OLS Regression Results                            \n",
            "==============================================================================\n",
            "Dep. Variable:                   MEDV   R-squared:                       0.767\n",
            "Model:                            OLS   Adj. R-squared:                  0.760\n",
            "Method:                 Least Squares   F-statistic:                     98.42\n",
            "Date:                Tue, 19 Aug 2025   Prob (F-statistic):          4.86e-114\n",
            "Time:                        16:37:20   Log-Likelihood:                -1171.5\n",
            "No. Observations:                 402   AIC:                             2371.\n",
            "Df Residuals:                     388   BIC:                             2427.\n",
            "Df Model:                          13                                         \n",
            "Covariance Type:            nonrobust                                         \n",
            "==============================================================================\n",
            "                 coef    std err          t      P>|t|      [0.025      0.975]\n",
            "------------------------------------------------------------------------------\n",
            "const         28.8400      5.713      5.049      0.000      17.608      40.071\n",
            "CRIM          -0.0890      0.038     -2.356      0.019      -0.163      -0.015\n",
            "ZN             0.0379      0.014      2.651      0.008       0.010       0.066\n",
            "INDUS          0.0063      0.065      0.098      0.922      -0.121       0.133\n",
            "CHAS           3.6060      0.986      3.659      0.000       1.668       5.544\n",
            "NOX          -15.5663      4.225     -3.684      0.000     -23.873      -7.260\n",
            "RM             4.9100      0.479     10.240      0.000       3.967       5.853\n",
            "AGE           -0.0171      0.014     -1.208      0.228      -0.045       0.011\n",
            "DIS           -1.4236      0.211     -6.763      0.000      -1.837      -1.010\n",
            "RAD            0.2621      0.071      3.668      0.000       0.122       0.403\n",
            "TAX           -0.0125      0.004     -3.095      0.002      -0.020      -0.005\n",
            "PTRATIO       -0.9571      0.138     -6.920      0.000      -1.229      -0.685\n",
            "B              0.0084      0.003      2.731      0.007       0.002       0.014\n",
            "LSTAT         -0.3973      0.058     -6.876      0.000      -0.511      -0.284\n",
            "==============================================================================\n",
            "Omnibus:                      159.451   Durbin-Watson:                   1.980\n",
            "Prob(Omnibus):                  0.000   Jarque-Bera (JB):              802.817\n",
            "Skew:                           1.644   Prob(JB):                    4.68e-175\n",
            "Kurtosis:                       9.093   Cond. No.                     1.57e+04\n",
            "==============================================================================\n",
            "\n",
            "Notes:\n",
            "[1] Standard Errors assume that the covariance matrix of the errors is correctly specified.\n",
            "[2] The condition number is large, 1.57e+04. This might indicate that there are\n",
            "strong multicollinearity or other numerical problems.\n",
            "***** R2_score from sklearn.metrics: *****\n",
            "0.656498533295961\n",
            "y_test variance: \n",
            "74.06087920792076\n",
            "y_test size: \n",
            "101\n",
            "RSE: \n",
            "18.8401256877707\n",
            "***** R2 calculated for test observations: *****\n",
            "0.7456129890805325\n"
          ]
        }
      ],
      "source": [
        "df5 = df.drop(influential_dfbetas[0], axis = 0)\n",
        "print(df5.shape)\n",
        "y5 = df5['MEDV']\n",
        "X5 = df5.loc[:, df5.columns != 'MEDV']\n",
        "X5 = sm.add_constant(X5)\n",
        "print(y5.shape)\n",
        "print(X5.shape)\n",
        "X5_train, X5_test, y5_train, y5_test = train_test_split(X5, y5, test_size = get_test_size(), random_state = get_random_state())\n",
        "regressor7 = sm.OLS(y5_train, X5_train).fit()\n",
        "print(regressor7.summary())\n",
        "y5_pred = regressor7.predict(X5_test)\n",
        "calculate_r2(y5_pred, y5_test)"
      ]
    },
    {
      "cell_type": "markdown",
      "id": "b9833689-bb17-462a-ad1e-1a465bf1c9ac",
      "metadata": {
        "id": "b9833689-bb17-462a-ad1e-1a465bf1c9ac"
      },
      "source": [
        "### regressor7 (removing influence-points detected by DFBETAS) => test r-squared = 74.56%, 3 rows are removed"
      ]
    },
    {
      "cell_type": "markdown",
      "id": "2b6eab5b-52e5-42aa-a7e4-8b2f142145ca",
      "metadata": {
        "id": "2b6eab5b-52e5-42aa-a7e4-8b2f142145ca"
      },
      "source": [
        "## Checking Multicollinearity using VIF"
      ]
    },
    {
      "cell_type": "code",
      "execution_count": 91,
      "id": "9408c571-71ee-41b9-9aec-cc249fe538f9",
      "metadata": {
        "colab": {
          "base_uri": "https://localhost:8080/"
        },
        "id": "9408c571-71ee-41b9-9aec-cc249fe538f9",
        "outputId": "2210a26f-07c3-4d07-8236-a8d9c50ecbfa"
      },
      "outputs": [
        {
          "output_type": "stream",
          "name": "stdout",
          "text": [
            "Index(['const', 'CRIM', 'ZN', 'INDUS', 'CHAS', 'NOX', 'RM', 'AGE', 'DIS',\n",
            "       'RAD', 'TAX', 'PTRATIO', 'B', 'LSTAT'],\n",
            "      dtype='object')\n",
            "    feature        VIF\n",
            "0      CRIM   2.100373\n",
            "1        ZN   2.844013\n",
            "2     INDUS  14.485758\n",
            "3      CHAS   1.152952\n",
            "4       NOX  73.894947\n",
            "5        RM  77.948283\n",
            "6       AGE  21.386850\n",
            "7       DIS  14.699652\n",
            "8       RAD  15.167725\n",
            "9       TAX  61.227274\n",
            "10  PTRATIO  85.029547\n",
            "11        B  20.104943\n",
            "12    LSTAT  11.102025\n"
          ]
        }
      ],
      "source": [
        "print(X.columns)\n",
        "X_vif1 = X.drop('const', axis = 1)\n",
        "# VIF dataframe\n",
        "vif_data = pd.DataFrame()\n",
        "vif_data[\"feature\"] = X_vif1.columns\n",
        "# calculating VIF for each feature\n",
        "vif_data[\"VIF\"] = [variance_inflation_factor(X_vif1.values, i)\n",
        "                          for i in range(len(X_vif1.columns))]\n",
        "\n",
        "print(vif_data)"
      ]
    },
    {
      "cell_type": "code",
      "execution_count": 92,
      "id": "6c31bf0f-59b2-4f25-9905-e1ef7d1100b4",
      "metadata": {
        "colab": {
          "base_uri": "https://localhost:8080/"
        },
        "id": "6c31bf0f-59b2-4f25-9905-e1ef7d1100b4",
        "outputId": "73e5193b-270d-4340-e207-b2c23281e3c2"
      },
      "outputs": [
        {
          "output_type": "stream",
          "name": "stdout",
          "text": [
            "   feature        VIF\n",
            "0     CRIM   2.099345\n",
            "1       ZN   2.451624\n",
            "2    INDUS  14.275283\n",
            "3     CHAS   1.142167\n",
            "4      NOX  73.894171\n",
            "5       RM  60.598846\n",
            "6      AGE  21.361234\n",
            "7      DIS  12.221605\n",
            "8      RAD  15.159162\n",
            "9      TAX  59.301541\n",
            "10       B  18.614751\n",
            "11   LSTAT  10.138324\n"
          ]
        }
      ],
      "source": [
        "X_vif2 = X_vif1.drop('PTRATIO', axis = 1)\n",
        "# VIF dataframe\n",
        "vif_data = pd.DataFrame()\n",
        "vif_data[\"feature\"] = X_vif2.columns\n",
        "# calculating VIF for each feature\n",
        "vif_data[\"VIF\"] = [variance_inflation_factor(X_vif2.values, i)\n",
        "                          for i in range(len(X_vif2.columns))]\n",
        "\n",
        "print(vif_data)"
      ]
    },
    {
      "cell_type": "code",
      "execution_count": 93,
      "id": "13db9439-c15c-4efd-b7d0-387043e9c3fa",
      "metadata": {
        "colab": {
          "base_uri": "https://localhost:8080/"
        },
        "id": "13db9439-c15c-4efd-b7d0-387043e9c3fa",
        "outputId": "6a6dbb50-3e6b-4ed9-9a22-0a0b6c6aa6aa"
      },
      "outputs": [
        {
          "output_type": "stream",
          "name": "stdout",
          "text": [
            "   feature        VIF\n",
            "0     CRIM   2.097537\n",
            "1       ZN   2.449661\n",
            "2    INDUS  13.150904\n",
            "3     CHAS   1.138277\n",
            "4       RM  41.406746\n",
            "5      AGE  19.889623\n",
            "6      DIS  12.032952\n",
            "7      RAD  15.155012\n",
            "8      TAX  57.720347\n",
            "9        B  18.396072\n",
            "10   LSTAT   9.207840\n"
          ]
        }
      ],
      "source": [
        "X_vif3 = X_vif2.drop('NOX', axis = 1)\n",
        "# VIF dataframe\n",
        "vif_data = pd.DataFrame()\n",
        "vif_data[\"feature\"] = X_vif3.columns\n",
        "# calculating VIF for each feature\n",
        "vif_data[\"VIF\"] = [variance_inflation_factor(X_vif3.values, i)\n",
        "                          for i in range(len(X_vif3.columns))]\n",
        "\n",
        "print(vif_data)"
      ]
    },
    {
      "cell_type": "code",
      "execution_count": 94,
      "id": "542f01bf-93bc-4a0d-9042-a80e2a7a786c",
      "metadata": {
        "colab": {
          "base_uri": "https://localhost:8080/"
        },
        "id": "542f01bf-93bc-4a0d-9042-a80e2a7a786c",
        "outputId": "5d261b05-508e-420b-c302-51eb1038ea30"
      },
      "outputs": [
        {
          "output_type": "stream",
          "name": "stdout",
          "text": [
            "  feature        VIF\n",
            "0    CRIM   2.097466\n",
            "1      ZN   2.375219\n",
            "2   INDUS   9.290080\n",
            "3    CHAS   1.118613\n",
            "4      RM  39.069063\n",
            "5     AGE  19.780944\n",
            "6     DIS  11.817803\n",
            "7     RAD   4.965633\n",
            "8       B  18.289917\n",
            "9   LSTAT   9.046248\n"
          ]
        }
      ],
      "source": [
        "X_vif4 = X_vif3.drop('TAX', axis = 1)\n",
        "# VIF dataframe\n",
        "vif_data = pd.DataFrame()\n",
        "vif_data[\"feature\"] = X_vif4.columns\n",
        "# calculating VIF for each feature\n",
        "vif_data[\"VIF\"] = [variance_inflation_factor(X_vif4.values, i)\n",
        "                          for i in range(len(X_vif4.columns))]\n",
        "\n",
        "print(vif_data)"
      ]
    },
    {
      "cell_type": "code",
      "execution_count": 95,
      "id": "c11dd203-3f99-4c08-8eb3-e69c7b9045aa",
      "metadata": {
        "colab": {
          "base_uri": "https://localhost:8080/"
        },
        "id": "c11dd203-3f99-4c08-8eb3-e69c7b9045aa",
        "outputId": "a90aa989-18b4-4253-b16a-b383051b02cb"
      },
      "outputs": [
        {
          "output_type": "stream",
          "name": "stdout",
          "text": [
            "  feature        VIF\n",
            "0    CRIM   2.095367\n",
            "1      ZN   2.334763\n",
            "2   INDUS   9.016142\n",
            "3    CHAS   1.116229\n",
            "4     AGE  14.000758\n",
            "5     DIS   8.447694\n",
            "6     RAD   4.771767\n",
            "7       B  13.537020\n",
            "8   LSTAT   8.358925\n"
          ]
        }
      ],
      "source": [
        "X_vif5 = X_vif4.drop('RM', axis = 1)\n",
        "# VIF dataframe\n",
        "vif_data = pd.DataFrame()\n",
        "vif_data[\"feature\"] = X_vif5.columns\n",
        "# calculating VIF for each feature\n",
        "vif_data[\"VIF\"] = [variance_inflation_factor(X_vif5.values, i)\n",
        "                          for i in range(len(X_vif5.columns))]\n",
        "\n",
        "print(vif_data)"
      ]
    },
    {
      "cell_type": "code",
      "execution_count": 96,
      "id": "ea448cf2-9fb4-4fd4-ba13-ee6767670ff3",
      "metadata": {
        "colab": {
          "base_uri": "https://localhost:8080/"
        },
        "id": "ea448cf2-9fb4-4fd4-ba13-ee6767670ff3",
        "outputId": "7c51fa07-a72f-40be-fb83-996a5b1681ea"
      },
      "outputs": [
        {
          "output_type": "stream",
          "name": "stdout",
          "text": [
            "  feature        VIF\n",
            "0    CRIM   2.072603\n",
            "1      ZN   2.333806\n",
            "2   INDUS   8.734978\n",
            "3    CHAS   1.111181\n",
            "4     AGE  10.419337\n",
            "5     DIS   4.353752\n",
            "6     RAD   4.715170\n",
            "7   LSTAT   8.263495\n"
          ]
        }
      ],
      "source": [
        "X_vif6 = X_vif5.drop('B', axis = 1)\n",
        "# VIF dataframe\n",
        "vif_data = pd.DataFrame()\n",
        "vif_data[\"feature\"] = X_vif6.columns\n",
        "# calculating VIF for each feature\n",
        "vif_data[\"VIF\"] = [variance_inflation_factor(X_vif6.values, i)\n",
        "                          for i in range(len(X_vif6.columns))]\n",
        "\n",
        "print(vif_data)"
      ]
    },
    {
      "cell_type": "code",
      "execution_count": 97,
      "id": "fd3b3ef2-3050-4009-8fe5-eabefd12fc45",
      "metadata": {
        "colab": {
          "base_uri": "https://localhost:8080/"
        },
        "id": "fd3b3ef2-3050-4009-8fe5-eabefd12fc45",
        "outputId": "65ba546d-5261-4119-8f0e-a3ffbf6697fe"
      },
      "outputs": [
        {
          "output_type": "stream",
          "name": "stdout",
          "text": [
            "  feature       VIF\n",
            "0    CRIM  2.067135\n",
            "1      ZN  2.299351\n",
            "2   INDUS  6.900077\n",
            "3    CHAS  1.086574\n",
            "4     DIS  3.968908\n",
            "5     RAD  4.678181\n",
            "6   LSTAT  6.726973\n"
          ]
        }
      ],
      "source": [
        "X_vif7 = X_vif6.drop('AGE', axis = 1)\n",
        "# VIF dataframe\n",
        "vif_data = pd.DataFrame()\n",
        "vif_data[\"feature\"] = X_vif7.columns\n",
        "# calculating VIF for each feature\n",
        "vif_data[\"VIF\"] = [variance_inflation_factor(X_vif7.values, i)\n",
        "                          for i in range(len(X_vif7.columns))]\n",
        "\n",
        "print(vif_data)"
      ]
    },
    {
      "cell_type": "code",
      "execution_count": 98,
      "id": "61794cef-4e7e-41af-b0fc-800f8cbfc751",
      "metadata": {
        "colab": {
          "base_uri": "https://localhost:8080/"
        },
        "id": "61794cef-4e7e-41af-b0fc-800f8cbfc751",
        "outputId": "85249af9-ccff-4868-a9b9-13f8aaba7569"
      },
      "outputs": [
        {
          "output_type": "stream",
          "name": "stdout",
          "text": [
            "  feature       VIF\n",
            "0    CRIM  2.040522\n",
            "1      ZN  2.237534\n",
            "2    CHAS  1.059249\n",
            "3     DIS  3.941629\n",
            "4     RAD  3.738091\n",
            "5   LSTAT  4.248513\n"
          ]
        }
      ],
      "source": [
        "X_vif8 = X_vif7.drop('INDUS', axis = 1)\n",
        "# VIF dataframe\n",
        "vif_data = pd.DataFrame()\n",
        "vif_data[\"feature\"] = X_vif8.columns\n",
        "# calculating VIF for each feature\n",
        "vif_data[\"VIF\"] = [variance_inflation_factor(X_vif8.values, i)\n",
        "                          for i in range(len(X_vif8.columns))]\n",
        "\n",
        "print(vif_data)"
      ]
    },
    {
      "cell_type": "markdown",
      "id": "4be77b9f-0de2-4058-99e1-5f5274565f22",
      "metadata": {
        "id": "4be77b9f-0de2-4058-99e1-5f5274565f22"
      },
      "source": [
        "### 'PTRATIO', 'NOX', 'TAX', 'RM', 'B', 'AGE', 'INDUS' has VIF values much larger than 5. We will remove these features and rebuild our model"
      ]
    },
    {
      "cell_type": "code",
      "execution_count": 99,
      "id": "b4ae0699-aa08-4236-a980-ec56e50c6da3",
      "metadata": {
        "colab": {
          "base_uri": "https://localhost:8080/"
        },
        "id": "b4ae0699-aa08-4236-a980-ec56e50c6da3",
        "outputId": "4431db0d-1345-4185-b30e-efddb73c3499"
      },
      "outputs": [
        {
          "output_type": "stream",
          "name": "stdout",
          "text": [
            "(506,)\n",
            "(506, 7)\n",
            "(506, 8)\n",
            "   const     CRIM    ZN  CHAS     DIS  RAD  LSTAT  MEDV\n",
            "0    1.0  0.00632  18.0     0  4.0900    1   4.98  24.0\n",
            "1    1.0  0.02731   0.0     0  4.9671    2   9.14  21.6\n",
            "                            OLS Regression Results                            \n",
            "==============================================================================\n",
            "Dep. Variable:                   MEDV   R-squared:                       1.000\n",
            "Model:                            OLS   Adj. R-squared:                  1.000\n",
            "Method:                 Least Squares   F-statistic:                 2.831e+31\n",
            "Date:                Tue, 19 Aug 2025   Prob (F-statistic):               0.00\n",
            "Time:                        16:37:21   Log-Likelihood:                 12343.\n",
            "No. Observations:                 404   AIC:                        -2.467e+04\n",
            "Df Residuals:                     396   BIC:                        -2.464e+04\n",
            "Df Model:                           7                                         \n",
            "Covariance Type:            nonrobust                                         \n",
            "==============================================================================\n",
            "                 coef    std err          t      P>|t|      [0.025      0.975]\n",
            "------------------------------------------------------------------------------\n",
            "const       1.421e-14   5.45e-15      2.609      0.009     3.5e-15    2.49e-14\n",
            "CRIM       -9.021e-17   1.08e-16     -0.837      0.403   -3.02e-16    1.22e-16\n",
            "ZN          1.527e-16   3.97e-17      3.846      0.000    7.46e-17    2.31e-16\n",
            "CHAS        4.885e-15   2.66e-15      1.840      0.067   -3.35e-16    1.01e-14\n",
            "DIS         2.776e-16   4.98e-16      0.557      0.578   -7.02e-16    1.26e-15\n",
            "RAD         1.735e-16   1.06e-16      1.643      0.101   -3.41e-17    3.81e-16\n",
            "LSTAT       -5.69e-16   1.58e-16     -3.608      0.000   -8.79e-16   -2.59e-16\n",
            "MEDV           1.0000   1.21e-16   8.29e+15      0.000       1.000       1.000\n",
            "==============================================================================\n",
            "Omnibus:                       35.045   Durbin-Watson:                   0.554\n",
            "Prob(Omnibus):                  0.000   Jarque-Bera (JB):               42.215\n",
            "Skew:                          -0.722   Prob(JB):                     6.81e-10\n",
            "Kurtosis:                       3.649   Cond. No.                         279.\n",
            "==============================================================================\n",
            "\n",
            "Notes:\n",
            "[1] Standard Errors assume that the covariance matrix of the errors is correctly specified.\n",
            "***** R2_score from sklearn.metrics: *****\n",
            "1.0\n",
            "y_test variance: \n",
            "82.23466123082896\n",
            "y_test size: \n",
            "102\n",
            "RSE: \n",
            "1.6023157092518552e-28\n",
            "***** R2 calculated for test observations: *****\n",
            "1.0\n"
          ]
        }
      ],
      "source": [
        "y6 = df['MEDV']\n",
        "X6 = df.drop(columns = ['PTRATIO', 'NOX', 'TAX', 'RM', 'B', 'AGE', 'INDUS'])\n",
        "print(y6.shape)\n",
        "print(X6.shape)\n",
        "X6 = sm.add_constant(X6)\n",
        "print(X6.shape)\n",
        "print(X6.head(2))\n",
        "X6_train, X6_test, y6_train, y6_test = train_test_split(X6, y6, test_size = get_test_size(), random_state = get_random_state())\n",
        "regressor8 = sm.OLS(y6_train, X6_train).fit()\n",
        "print(regressor8.summary())\n",
        "y6_pred = regressor8.predict(X6_test)\n",
        "calculate_r2(y6_pred, y6_test)"
      ]
    },
    {
      "cell_type": "code",
      "execution_count": 100,
      "id": "4b550414-4a4c-4335-ae84-d9166d839eea",
      "metadata": {
        "colab": {
          "base_uri": "https://localhost:8080/"
        },
        "id": "4b550414-4a4c-4335-ae84-d9166d839eea",
        "outputId": "81ece254-6e2c-4b7d-b3a9-16193972bdb7"
      },
      "outputs": [
        {
          "output_type": "stream",
          "name": "stdout",
          "text": [
            "(506,)\n",
            "(506, 13)\n",
            "Added feature: LSTAT, Current MSE: 36.52396640695966\n",
            "Added feature: RM, Current MSE: 28.79027648205344\n",
            "Added feature: PTRATIO, Current MSE: 23.681938393213372\n",
            "Added feature: B, Current MSE: 22.967404602975606\n",
            "Added feature: DIS, Current MSE: 22.341237458588477\n",
            "Added feature: NOX, Current MSE: 21.101669447323548\n",
            "Added feature: CHAS, Current MSE: 20.642625089895443\n",
            "Added feature: ZN, Current MSE: 20.332689244158495\n",
            "Added feature: CRIM, Current MSE: 20.010553714989022\n",
            "Added feature: RAD, Current MSE: 19.81571651195487\n",
            "Added feature: TAX, Current MSE: 19.32923023783989\n",
            "Added feature: AGE, Current MSE: 19.326841076541545\n",
            "Added feature: INDUS, Current MSE: 19.326470203585725\n",
            "['LSTAT', 'RM', 'PTRATIO', 'B', 'DIS', 'NOX', 'CHAS', 'ZN', 'CRIM', 'RAD', 'TAX', 'AGE', 'INDUS']\n"
          ]
        }
      ],
      "source": [
        "y_fs = df['MEDV']\n",
        "X_fs = df.loc[: , df.columns != 'MEDV']\n",
        "print(y_fs.shape)\n",
        "print(X_fs.shape)\n",
        "X_fs_train, X_fs_test, y_fs_train, y_fs_test = train_test_split(X_fs, y_fs, test_size = get_test_size(), random_state = get_random_state())\n",
        "forward_selection_results = forward_selection(X_fs_train, y_fs_train)\n",
        "print(forward_selection_results)"
      ]
    },
    {
      "cell_type": "code",
      "execution_count": 101,
      "id": "50bb2511-29fa-45d6-a190-36d9ed92ab92",
      "metadata": {
        "colab": {
          "base_uri": "https://localhost:8080/"
        },
        "id": "50bb2511-29fa-45d6-a190-36d9ed92ab92",
        "outputId": "03967b46-d098-45dd-a32a-a6e57f30853f"
      },
      "outputs": [
        {
          "output_type": "stream",
          "name": "stdout",
          "text": [
            "(506,)\n",
            "(506, 8)\n",
            "(506, 9)\n",
            "   const  CHAS    NOX     RM     DIS  PTRATIO      B  LSTAT  MEDV\n",
            "0    1.0     0  0.538  6.575  4.0900     15.3  396.9   4.98  24.0\n",
            "1    1.0     0  0.469  6.421  4.9671     17.8  396.9   9.14  21.6\n",
            "                            OLS Regression Results                            \n",
            "==============================================================================\n",
            "Dep. Variable:                   MEDV   R-squared:                       1.000\n",
            "Model:                            OLS   Adj. R-squared:                  1.000\n",
            "Method:                 Least Squares   F-statistic:                 9.110e+28\n",
            "Date:                Tue, 19 Aug 2025   Prob (F-statistic):               0.00\n",
            "Time:                        16:37:21   Log-Likelihood:                 11211.\n",
            "No. Observations:                 404   AIC:                        -2.240e+04\n",
            "Df Residuals:                     395   BIC:                        -2.237e+04\n",
            "Df Model:                           8                                         \n",
            "Covariance Type:            nonrobust                                         \n",
            "==============================================================================\n",
            "                 coef    std err          t      P>|t|      [0.025      0.975]\n",
            "------------------------------------------------------------------------------\n",
            "const      -3.908e-14   2.62e-13     -0.149      0.882   -5.55e-13    4.77e-13\n",
            "CHAS       -3.642e-14   4.38e-14     -0.831      0.406   -1.23e-13    4.97e-14\n",
            "NOX         1.776e-15   1.69e-13      0.010      0.992   -3.31e-13    3.34e-13\n",
            "RM          4.441e-15    2.3e-14      0.193      0.847   -4.08e-14    4.96e-14\n",
            "DIS         6.661e-16   8.73e-15      0.076      0.939   -1.65e-14    1.78e-14\n",
            "PTRATIO     5.412e-16   6.13e-15      0.088      0.930   -1.15e-14    1.26e-14\n",
            "B           5.881e-16   1.39e-16      4.219      0.000    3.14e-16    8.62e-16\n",
            "LSTAT       1.943e-16   2.69e-15      0.072      0.943    -5.1e-15    5.49e-15\n",
            "MEDV           1.0000   2.38e-15    4.2e+14      0.000       1.000       1.000\n",
            "==============================================================================\n",
            "Omnibus:                      250.638   Durbin-Watson:                   0.120\n",
            "Prob(Omnibus):                  0.000   Jarque-Bera (JB):             1416.947\n",
            "Skew:                           2.826   Prob(JB):                    2.06e-308\n",
            "Kurtosis:                      10.226   Cond. No.                     9.75e+03\n",
            "==============================================================================\n",
            "\n",
            "Notes:\n",
            "[1] Standard Errors assume that the covariance matrix of the errors is correctly specified.\n",
            "[2] The condition number is large, 9.75e+03. This might indicate that there are\n",
            "strong multicollinearity or other numerical problems.\n",
            "***** R2_score from sklearn.metrics: *****\n",
            "1.0\n",
            "y_test variance: \n",
            "82.23466123082896\n",
            "y_test size: \n",
            "102\n",
            "RSE: \n",
            "4.4491724118743294e-26\n",
            "***** R2 calculated for test observations: *****\n",
            "1.0\n"
          ]
        }
      ],
      "source": [
        "y7 = df['MEDV']\n",
        "X7 = df.drop(columns = ['ZN', 'CRIM', 'RAD', 'TAX', 'AGE', 'INDUS'])\n",
        "print(y7.shape)\n",
        "print(X7.shape)\n",
        "X7 = sm.add_constant(X7)\n",
        "print(X7.shape)\n",
        "print(X7.head(2))\n",
        "X7_train, X7_test, y7_train, y7_test = train_test_split(X7, y7, test_size = get_test_size(), random_state = get_random_state())\n",
        "regressor9 = sm.OLS(y7_train, X7_train).fit()\n",
        "print(regressor9.summary())\n",
        "y7_pred = regressor9.predict(X7_test)\n",
        "calculate_r2(y7_pred, y7_test)"
      ]
    },
    {
      "cell_type": "code",
      "execution_count": 102,
      "id": "dcd79652-41b8-4d46-baaa-48a5d037ef70",
      "metadata": {
        "colab": {
          "base_uri": "https://localhost:8080/"
        },
        "id": "dcd79652-41b8-4d46-baaa-48a5d037ef70",
        "outputId": "a851c801-c1b5-49ea-a3c6-5ae93ac06c3f"
      },
      "outputs": [
        {
          "output_type": "stream",
          "name": "stdout",
          "text": [
            "(506,)\n",
            "(506, 13)\n",
            "Removed feature: INDUS, Current MSE: 19.32684107654154\n",
            "Removed feature: AGE, Current MSE: 19.329230237839894\n",
            "Removed feature: CHAS, Current MSE: 19.66629515631436\n",
            "Removed feature: B, Current MSE: 20.10064841502156\n",
            "Removed feature: ZN, Current MSE: 20.599589614879534\n",
            "Removed feature: TAX, Current MSE: 21.01084461379949\n",
            "Removed feature: RAD, Current MSE: 21.181610551690017\n",
            "Removed feature: CRIM, Current MSE: 21.526048188286254\n",
            "Removed feature: NOX, Current MSE: 23.137996656850525\n",
            "Removed feature: DIS, Current MSE: 23.681938393213375\n",
            "Removed feature: PTRATIO, Current MSE: 28.790276482053443\n",
            "Removed feature: RM, Current MSE: 36.52396640695966\n",
            "['LSTAT']\n"
          ]
        }
      ],
      "source": [
        "y_bs = df['MEDV']\n",
        "X_bs = df.loc[: , df.columns != 'MEDV']\n",
        "print(y_bs.shape)\n",
        "print(X_bs.shape)\n",
        "X_bs_train, X_bs_test, y_bs_train, y_bs_test = train_test_split(X_bs, y_bs, test_size = get_test_size(), random_state = get_random_state())\n",
        "backward_selection_results = backward_selection(X_bs_train, y_bs_train)\n",
        "print(backward_selection_results)"
      ]
    }
  ],
  "metadata": {
    "kernelspec": {
      "display_name": "Python 3 (ipykernel)",
      "language": "python",
      "name": "python3"
    },
    "language_info": {
      "codemirror_mode": {
        "name": "ipython",
        "version": 3
      },
      "file_extension": ".py",
      "mimetype": "text/x-python",
      "name": "python",
      "nbconvert_exporter": "python",
      "pygments_lexer": "ipython3",
      "version": "3.10.12"
    },
    "colab": {
      "provenance": []
    }
  },
  "nbformat": 4,
  "nbformat_minor": 5
}