{
  "nbformat": 4,
  "nbformat_minor": 0,
  "metadata": {
    "colab": {
      "provenance": []
    },
    "kernelspec": {
      "name": "python3",
      "display_name": "Python 3"
    },
    "language_info": {
      "name": "python"
    }
  },
  "cells": [
    {
      "cell_type": "code",
      "execution_count": 49,
      "metadata": {
        "id": "MUiseP3wXjqd"
      },
      "outputs": [],
      "source": [
        "import re\n",
        "import nltk\n",
        "from nltk.tokenize import word_tokenize\n",
        "from nltk.corpus import stopwords\n",
        "from nltk.stem import WordNetLemmatizer\n",
        "from nltk import pos_tag"
      ]
    },
    {
      "cell_type": "code",
      "source": [
        "data = \"Capitalism is an economic system in which the means of production, distribution, and exchange are privately owned and operated for profit. \\\n",
        "It is driven by market forces such as supply and demand, where individuals and businesses make decisions based on their own interests. \\\n",
        "Under capitalism, competition plays a central role, encouraging innovation, efficiency, and economic growth. People are free to produce goods, offer services, and trade in open markets, \\\n",
        "which often leads to wealth creation and higher living standards. However, capitalism also has its drawbacks. The unequal distribution of wealth can result in significant social and economic disparities, \\\n",
        "where a small portion of the population controls most resources while others struggle to meet basic needs. Critics argue that unchecked capitalism can lead to exploitation of labor, \\\n",
        "environmental degradation, and monopolies that stifle competition. Supporters, on the other hand, believe it provides the greatest freedom for individuals to pursue their goals and rewards hard work and \\\n",
        "creativity. In essence, capitalism remains a dynamic and evolving system that has shaped much of the modern world, balancing between prosperity and inequality, innovation and instability, \\\n",
        "depending on how it is regulated and practiced.\""
      ],
      "metadata": {
        "id": "mvJuyh1tX2ka"
      },
      "execution_count": 50,
      "outputs": []
    },
    {
      "cell_type": "code",
      "source": [
        "# Normalization\n",
        "data_lower = data.lower()\n",
        "data_no_punc = re.sub(r'[^\\w\\s]','', data_lower)\n",
        "stop_words = set(stopwords.words('english'))\n",
        "no_stopwords_string = ''\n",
        "data_list = data_no_punc.split()\n",
        "for word in data_list:\n",
        "  if((word in stop_words) == False):\n",
        "    no_stopwords_string += word\n",
        "  no_stopwords_string += ' '\n",
        "\n",
        "# Normalized Text\n",
        "print(f\"Normalized Text: {no_stopwords_string}\")\n",
        "\n",
        "# Word Tokenized Text\n",
        "normalized_list = no_stopwords_string.split()\n",
        "print(f\"Word Tokenized Text: {normalized_list}\")"
      ],
      "metadata": {
        "colab": {
          "base_uri": "https://localhost:8080/"
        },
        "id": "H9-2WBx7YVH-",
        "outputId": "4c9438c8-f065-42ec-90e4-5fc61046d040"
      },
      "execution_count": 51,
      "outputs": [
        {
          "output_type": "stream",
          "name": "stdout",
          "text": [
            "Normalized Text: capitalism   economic system    means  production distribution  exchange  privately owned  operated  profit   driven  market forces   supply  demand  individuals  businesses make decisions based    interests  capitalism competition plays  central role encouraging innovation efficiency  economic growth people  free  produce goods offer services  trade  open markets  often leads  wealth creation  higher living standards however capitalism also   drawbacks  unequal distribution  wealth  result  significant social  economic disparities   small portion   population controls  resources  others struggle  meet basic needs critics argue  unchecked capitalism  lead  exploitation  labor environmental degradation  monopolies  stifle competition supporters    hand believe  provides  greatest freedom  individuals  pursue  goals  rewards hard work  creativity  essence capitalism remains  dynamic  evolving system   shaped much   modern world balancing  prosperity  inequality innovation  instability depending     regulated  practiced \n",
            "Word Tokenized Text: ['capitalism', 'economic', 'system', 'means', 'production', 'distribution', 'exchange', 'privately', 'owned', 'operated', 'profit', 'driven', 'market', 'forces', 'supply', 'demand', 'individuals', 'businesses', 'make', 'decisions', 'based', 'interests', 'capitalism', 'competition', 'plays', 'central', 'role', 'encouraging', 'innovation', 'efficiency', 'economic', 'growth', 'people', 'free', 'produce', 'goods', 'offer', 'services', 'trade', 'open', 'markets', 'often', 'leads', 'wealth', 'creation', 'higher', 'living', 'standards', 'however', 'capitalism', 'also', 'drawbacks', 'unequal', 'distribution', 'wealth', 'result', 'significant', 'social', 'economic', 'disparities', 'small', 'portion', 'population', 'controls', 'resources', 'others', 'struggle', 'meet', 'basic', 'needs', 'critics', 'argue', 'unchecked', 'capitalism', 'lead', 'exploitation', 'labor', 'environmental', 'degradation', 'monopolies', 'stifle', 'competition', 'supporters', 'hand', 'believe', 'provides', 'greatest', 'freedom', 'individuals', 'pursue', 'goals', 'rewards', 'hard', 'work', 'creativity', 'essence', 'capitalism', 'remains', 'dynamic', 'evolving', 'system', 'shaped', 'much', 'modern', 'world', 'balancing', 'prosperity', 'inequality', 'innovation', 'instability', 'depending', 'regulated', 'practiced']\n"
          ]
        }
      ]
    },
    {
      "cell_type": "code",
      "source": [
        "# Word Tokenization\n",
        "data_tokenized = word_tokenize(no_stopwords_string)\n",
        "print(f\"Tokenized data: {data_tokenized}\")"
      ],
      "metadata": {
        "colab": {
          "base_uri": "https://localhost:8080/"
        },
        "id": "SBEcqVQih2KB",
        "outputId": "0fe63332-9398-4b83-a638-9630098ff832"
      },
      "execution_count": 52,
      "outputs": [
        {
          "output_type": "stream",
          "name": "stdout",
          "text": [
            "Tokenized data: ['capitalism', 'economic', 'system', 'means', 'production', 'distribution', 'exchange', 'privately', 'owned', 'operated', 'profit', 'driven', 'market', 'forces', 'supply', 'demand', 'individuals', 'businesses', 'make', 'decisions', 'based', 'interests', 'capitalism', 'competition', 'plays', 'central', 'role', 'encouraging', 'innovation', 'efficiency', 'economic', 'growth', 'people', 'free', 'produce', 'goods', 'offer', 'services', 'trade', 'open', 'markets', 'often', 'leads', 'wealth', 'creation', 'higher', 'living', 'standards', 'however', 'capitalism', 'also', 'drawbacks', 'unequal', 'distribution', 'wealth', 'result', 'significant', 'social', 'economic', 'disparities', 'small', 'portion', 'population', 'controls', 'resources', 'others', 'struggle', 'meet', 'basic', 'needs', 'critics', 'argue', 'unchecked', 'capitalism', 'lead', 'exploitation', 'labor', 'environmental', 'degradation', 'monopolies', 'stifle', 'competition', 'supporters', 'hand', 'believe', 'provides', 'greatest', 'freedom', 'individuals', 'pursue', 'goals', 'rewards', 'hard', 'work', 'creativity', 'essence', 'capitalism', 'remains', 'dynamic', 'evolving', 'system', 'shaped', 'much', 'modern', 'world', 'balancing', 'prosperity', 'inequality', 'innovation', 'instability', 'depending', 'regulated', 'practiced']\n"
          ]
        }
      ]
    },
    {
      "cell_type": "code",
      "source": [
        "# Lemmatization\n",
        "lemmatizer = WordNetLemmatizer()\n",
        "data_lemmatized = []\n",
        "# DT->Determiner, JJ->Adjective, NN->Noun, VBZ->Verb, IN->Preposition, RB->Adverb, VBN->Past Participle Verb, NNS->Noun Plural, VBP->Verb Non-3rd Person Singular Present, VBG->Verb Gerund or Present Participle\n",
        "# JJR->Comparitive Adjective, JJS->Superlative Adjective, VBD->Verb Past Tense\n",
        "data_pos_tokens = pos_tag(data_tokenized)\n",
        "def get_wordnet_pos(tag):\n",
        "    if tag.startswith('J'):\n",
        "        return 'a'\n",
        "    elif tag.startswith('V'):\n",
        "        return 'v'\n",
        "    elif tag.startswith('N'):\n",
        "        return 'n'\n",
        "    elif tag.startswith('R'):\n",
        "        return 'r'\n",
        "    else:\n",
        "        return 'n'\n",
        "data_lemmatized = [lemmatizer.lemmatize(word, get_wordnet_pos(tag)) for word, tag in data_pos_tokens]\n",
        "print(f\"Lemmatized data: {data_lemmatized}\")"
      ],
      "metadata": {
        "colab": {
          "base_uri": "https://localhost:8080/"
        },
        "id": "5IvuV64Yl5Nw",
        "outputId": "4ed84f12-8d32-4e89-917f-450a4b5cd4a8"
      },
      "execution_count": 54,
      "outputs": [
        {
          "output_type": "stream",
          "name": "stdout",
          "text": [
            "Lemmatized data: ['capitalism', 'economic', 'system', 'mean', 'production', 'distribution', 'exchange', 'privately', 'own', 'operated', 'profit', 'driven', 'market', 'force', 'supply', 'demand', 'individual', 'business', 'make', 'decision', 'base', 'interest', 'capitalism', 'competition', 'play', 'central', 'role', 'encourage', 'innovation', 'efficiency', 'economic', 'growth', 'people', 'free', 'produce', 'good', 'offer', 'service', 'trade', 'open', 'market', 'often', 'lead', 'wealth', 'creation', 'high', 'living', 'standard', 'however', 'capitalism', 'also', 'drawbacks', 'unequal', 'distribution', 'wealth', 'result', 'significant', 'social', 'economic', 'disparity', 'small', 'portion', 'population', 'control', 'resource', 'others', 'struggle', 'meet', 'basic', 'need', 'critic', 'argue', 'unchecked', 'capitalism', 'lead', 'exploitation', 'labor', 'environmental', 'degradation', 'monopoly', 'stifle', 'competition', 'supporter', 'hand', 'believe', 'provide', 'great', 'freedom', 'individual', 'pursue', 'goal', 'reward', 'hard', 'work', 'creativity', 'essence', 'capitalism', 'remain', 'dynamic', 'evolve', 'system', 'shape', 'much', 'modern', 'world', 'balance', 'prosperity', 'inequality', 'innovation', 'instability', 'depend', 'regulate', 'practiced']\n"
          ]
        }
      ]
    }
  ]
}