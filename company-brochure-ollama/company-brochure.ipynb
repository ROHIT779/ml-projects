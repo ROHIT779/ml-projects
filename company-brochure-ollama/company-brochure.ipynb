{
 "cells": [
  {
   "cell_type": "code",
   "execution_count": 1,
   "id": "a801998e-69e5-4a18-adc4-e572a391e2d4",
   "metadata": {},
   "outputs": [],
   "source": [
    "import requests\n",
    "from bs4 import BeautifulSoup\n",
    "from IPython.display import display, Markdown"
   ]
  },
  {
   "cell_type": "markdown",
   "id": "db1b896f-a241-415c-bcf4-2d29b4b33452",
   "metadata": {},
   "source": [
    "## An AI-powered company brochure by OLlama"
   ]
  },
  {
   "cell_type": "code",
   "execution_count": 3,
   "id": "f3fdeb14-6379-469f-a54f-eab3ca0e9f71",
   "metadata": {},
   "outputs": [],
   "source": [
    "headers = {\n",
    "     \"User-Agent\": \"Mozilla/5.0 (Windows NT 10.0; Win64; x64) AppleWebKit/537.36 (KHTML, like Gecko) Chrome/117.0.0.0 Safari/537.36\"\n",
    "}\n",
    "\n",
    "class Website:\n",
    "    def __init__(self, url):\n",
    "        self.url = url\n",
    "        response = requests.get(url, headers = headers)\n",
    "        soup = BeautifulSoup(response.content, 'html.parser')\n",
    "        self.title = soup.title.string if soup.title else \"No title found\"\n",
    "        for irrelevant in soup.body(['script', 'img', 'style', 'input']):\n",
    "            irrelevant.decompose()\n",
    "        self.text = soup.body.get_text(separator = '\\n', strip = True)\n",
    "        links = [link.get('href') for link in soup.find_all('a')]\n",
    "        self.links = [link for link in links if link]\n",
    "\n",
    "    def get_contents(self):\n",
    "        return f\"\\nWebsite Title: {self.title} \\nWebsite Content: \\n{self.text}\\n\\n\""
   ]
  },
  {
   "cell_type": "code",
   "execution_count": 4,
   "id": "31439db0-438d-4ed6-8f29-d3d88728e1eb",
   "metadata": {},
   "outputs": [],
   "source": [
    "system_prompt_get_links = \"You are provided with a list of links found on a webpage. You are able \\\n",
    "to decide which of the links would be most relevant to include in a brochure about the company, \\\n",
    "such as links to an About page, or a Company page, or a Careers/Jobs page.\\n\"\n",
    "system_prompt_get_links += \"You should respond in JSON as in the following example: \"\n",
    "system_prompt_get_links += \"\"\"\n",
    "{\n",
    " \"links\": [\n",
    "     {\"type\": \"about page\", \"url\": \"https://baseurl/about\"},\n",
    "     {\"type\": \"careers page\", \"url\": \"https://another/url/careers\"}\n",
    " ]   \n",
    "}\n",
    "\"\"\""
   ]
  },
  {
   "cell_type": "code",
   "execution_count": 5,
   "id": "b273eb2f-99fb-4783-aeba-cc374751adf6",
   "metadata": {},
   "outputs": [],
   "source": [
    "def get_user_prompt_get_links(website):\n",
    "    user_prompt = f\"Here is the list of links on the website of {website.url} - \"\n",
    "    user_prompt += \"please decide which of these are relevant web links for a brochure about the \\\n",
    "    company. Respond with full https URLs in JSON format. Do not include Terms of Service, \\\n",
    "    Privacy, email links, pdf links.\\n\"\n",
    "    user_prompt += \"\\n\".join(website.links)\n",
    "    return user_prompt"
   ]
  },
  {
   "cell_type": "code",
   "execution_count": 6,
   "id": "61821741-a8ba-4db4-b74c-76df934c706e",
   "metadata": {},
   "outputs": [],
   "source": [
    "def messages_for_get_links(website):\n",
    "    return [\n",
    "        {\"role\": \"system\", \"content\": system_prompt_get_links},\n",
    "        {\"role\": \"user\", \"content\": get_user_prompt_get_links(website)}\n",
    "    ]"
   ]
  },
  {
   "cell_type": "code",
   "execution_count": 7,
   "id": "e7b7ee49-6527-4d83-b918-7fbade227020",
   "metadata": {},
   "outputs": [],
   "source": [
    "OLLAMA_API = \"http://localhost:11434/api/chat\"\n",
    "HEADERS = {\"Content-Type\": \"application/json\"}\n",
    "MODEL = \"llama3.2\""
   ]
  },
  {
   "cell_type": "code",
   "execution_count": 8,
   "id": "666772c3-d781-4188-b3bc-c557a2bb303f",
   "metadata": {},
   "outputs": [],
   "source": [
    "def get_links(url):\n",
    "    website = Website(url)\n",
    "    payload = {\"messages\": messages_for_get_links(website), \"model\": MODEL, \"stream\": False}\n",
    "    response = requests.post(OLLAMA_API, headers = HEADERS, json = payload)\n",
    "    print(response.json()[\"message\"][\"content\"])"
   ]
  },
  {
   "cell_type": "code",
   "execution_count": 9,
   "id": "530fc026-d4e7-4f87-93b5-71c40381547c",
   "metadata": {},
   "outputs": [],
   "source": [
    "company = \"https://investindia.gov.in\""
   ]
  },
  {
   "cell_type": "code",
   "execution_count": 10,
   "id": "132fc9c0-80b0-4cad-b7a7-f690e7f5f1bd",
   "metadata": {},
   "outputs": [],
   "source": [
    "def get_all_details(url):\n",
    "    details = \"\\nLanding Page\\n\"\n",
    "    details += Website(company).get_contents()\n",
    "    details += \"\\nFound links\\n\"\n",
    "    links = get_links(company)\n",
    "    for link in links or \"\":\n",
    "        if link != null:\n",
    "            details += f\"\\n{link[\"type\"]}\\n\"\n",
    "            details += Website(link[\"url\"]).get_contents()\n",
    "    return details"
   ]
  },
  {
   "cell_type": "code",
   "execution_count": 11,
   "id": "21f0d3e8-737e-4c19-a4f7-0d2f37be5263",
   "metadata": {},
   "outputs": [],
   "source": [
    "system_prompt_get_brochure = \"You are an assistant that analyzes the contents of several relevant \\\n",
    "pages from a company website and creates a short brochure of the company for prospective customers, \\\n",
    "investors and recruits. Respond in markdown. Include details of customers, growth and results, \\\n",
    "careers/jobs, policies if you have the information\"\n",
    "\n",
    "def get_user_prompt_get_brochure(company_name, url):\n",
    "    user_prompt = f\"You are looking at a company called {company_name}\\n\"\n",
    "    user_prompt += f\"Here are the contents of its landing page and other relevant pages; use this \\\n",
    "    information to build a short brochure of the company in markdown.\\n\"\n",
    "    user_prompt += get_all_details(url)\n",
    "    return user_prompt\n",
    "\n",
    "def messages_for_get_brochure(company_name, url):\n",
    "    return [\n",
    "        {\"role\": \"system\", \"content\": system_prompt_get_brochure},\n",
    "        {\"role\": \"user\", \"content\": get_user_prompt_get_brochure(company_name, url)}\n",
    "    ]"
   ]
  },
  {
   "cell_type": "code",
   "execution_count": 12,
   "id": "16c02757-719e-4e83-a7d4-4e93c72a96d4",
   "metadata": {},
   "outputs": [],
   "source": [
    "def get_brochure(company_name, url):\n",
    "    payload = {\"messages\": messages_for_get_brochure(company_name, url), \"model\": MODEL, \"stream\": False}\n",
    "    response = requests.post(OLLAMA_API, headers = HEADERS, json = payload)\n",
    "    return response.json()[\"message\"][\"content\"]"
   ]
  },
  {
   "cell_type": "code",
   "execution_count": 13,
   "id": "179dc4e9-076f-42e1-9b89-59e725cbc500",
   "metadata": {},
   "outputs": [
    {
     "name": "stdout",
     "output_type": "stream",
     "text": [
      "{\n",
      "  \"links\": [\n",
      "    {\n",
      "      \"type\": \"About page\",\n",
      "      \"url\": \"https://www.investindia.gov.in/\"\n",
      "    },\n",
      "    {\n",
      "      \"type\": \"Company Overview\",\n",
      "      \"url\": \"https://static.investindia.gov.in/s3fs-public/2025-01/fdi_policy_consolidated.pdf\"\n",
      "    },\n",
      "    {\n",
      "      \"type\": \"Invest India initiative\",\n",
      "      \"url\": \"https://www.investindia.gov.in/india-opportunity\"\n",
      "    },\n",
      "    {\n",
      "      \"type\": \"Sectors and Industries\",\n",
      "      \"url\": \"https://www.investindia.gov.in/sectors/list\"\n",
      "    },\n",
      "    {\n",
      "      \"type\": \"States list\",\n",
      "      \"url\": \"https://www.investindia.gov.in/states/list\"\n",
      "    },\n",
      "    {\n",
      "      \"type\": \"Contact Us\",\n",
      "      \"url\": \"https://www.investindia.gov.in/contact-us\"\n",
      "    },\n",
      "    {\n",
      "      \"type\": \"Invest India Feedback\",\n",
      "      \"url\": \"https://invest-india-feedback.gov.in/\"\n",
      "    }\n",
      "  ]\n",
      "}\n",
      "This appears to be a website for Invest India, the National Investment Promotion and Facilitation Agency of India. The website provides information on various sectors in India that are open to investment, as well as resources and tools for investors.\n",
      "\n",
      "The website is organized into several sections, including:\n",
      "\n",
      "1. **Investor Targeting**: This section provides guidance on identifying niche investment opportunities and leveraging the growing ecosystem to scale up the value chain.\n",
      "2. **Investment Promotion**: This section aims to bridge the industry-government gap through robust stakeholder consultations and representing India on global platforms to attract investments.\n",
      "3. **Policy Clarity**: This section offers cutting-edge research on sectoral opportunities across Indian states, as well as a one-stop-shop for all central and state-level policy information.\n",
      "4. **Facilitation**: This section provides strategic location assessment based on investor requirements, incentive advisory, representation to state governments and central ministries, site visits to evaluate the feasibility of potential locations, and single-window clearance support for regulatory clearances, permissions, and compliance.\n",
      "\n",
      "The website also features success stories from previous investors, upcoming events, a resource repository with relevant documents and reports, and contact information for investor inquiries.\n",
      "\n",
      "Some notable sections on the website include:\n",
      "\n",
      "* **India Opportunity**: This section provides an overview of India's investment landscape, highlighting its growth prospects and sectors that are open to investment.\n",
      "* **Invest In Sectors**: This section allows users to select specific sectors in which they are interested in investing, providing information on the latest market trends, investment opportunities, and regulatory frameworks.\n",
      "* **States in India**: This section provides information on the various states in India, including their economic profiles, investment incentives, and regulatory frameworks.\n",
      "\n",
      "Overall, the Invest India website is designed to provide a comprehensive platform for investors seeking to capitalize on India's growth prospects.\n"
     ]
    }
   ],
   "source": [
    "print(get_brochure(\"Invest India\", company))"
   ]
  },
  {
   "cell_type": "code",
   "execution_count": null,
   "id": "258e36ae-cd85-4e38-bedd-6b0b88f30739",
   "metadata": {},
   "outputs": [],
   "source": []
  }
 ],
 "metadata": {
  "kernelspec": {
   "display_name": "Python 3 (ipykernel)",
   "language": "python",
   "name": "python3"
  },
  "language_info": {
   "codemirror_mode": {
    "name": "ipython",
    "version": 3
   },
   "file_extension": ".py",
   "mimetype": "text/x-python",
   "name": "python",
   "nbconvert_exporter": "python",
   "pygments_lexer": "ipython3",
   "version": "3.12.4"
  }
 },
 "nbformat": 4,
 "nbformat_minor": 5
}
