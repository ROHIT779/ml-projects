{
 "cells": [
  {
   "cell_type": "code",
   "execution_count": 1,
   "id": "7a92387c-f6b9-4e36-bfa2-5c4a222ddd84",
   "metadata": {},
   "outputs": [],
   "source": [
    "import requests\n",
    "from bs4 import BeautifulSoup\n",
    "from IPython.display import display, Markdown"
   ]
  },
  {
   "cell_type": "markdown",
   "id": "fdf2aa2a-0cf9-47f4-9cda-c62ef442f495",
   "metadata": {},
   "source": [
    "### A text-summarizer for websites using Ollama"
   ]
  },
  {
   "cell_type": "code",
   "execution_count": 3,
   "id": "57f8018c-715c-4848-b639-7efc794ddf4d",
   "metadata": {},
   "outputs": [],
   "source": [
    "headers = {\n",
    " \"User-Agent\": \"Mozilla/5.0 (Windows NT 10.0; Win64; x64) AppleWebKit/537.36 (KHTML, like Gecko) Chrome/117.0.0.0 Safari/537.36\"\n",
    "}\n",
    "\n",
    "class Website:\n",
    "    def __init__(self, url):\n",
    "        \"\"\"\n",
    "        Create this Website object from the given URL using the BeautifulSoup library\n",
    "        \"\"\"\n",
    "        self.url = url\n",
    "        response = requests.get(url, headers = headers)\n",
    "        soup = BeautifulSoup(response.content, 'html.parser')\n",
    "        self.title = soup.title.string if soup.title else \"No title found\"\n",
    "        for irrelevant in soup.body([\"script\", \"style\", \"img\", \"input\"]):\n",
    "            irrelevant.decompose()\n",
    "        self.text = soup.body.get_text(separator = \"\\n\", strip = True)"
   ]
  },
  {
   "cell_type": "code",
   "execution_count": 4,
   "id": "2d8fc7b6-d0b7-47c4-b5e4-1ab05b4eab66",
   "metadata": {},
   "outputs": [],
   "source": [
    "#system-prompt and user-prompt\n",
    "system_prompt = \"You are an assistant that analyzes the contents of a website \\\n",
    "and provides a short summary, ignoring texts that might be navigation related. \\\n",
    "Respond in markdown.\"\n",
    "def user_prompt_for(website): \n",
    "    user_prompt = f\"You are looking at a website titled {website.title}.\"\n",
    "    user_prompt += \"The contents of the website is as follows \\\n",
    "    Please provide a short summary of the website in markdown. \\\n",
    "    If it includes news or announcements, summarize these too.\\n\\n\"\n",
    "    user_prompt += website.text\n",
    "    return user_prompt"
   ]
  },
  {
   "cell_type": "code",
   "execution_count": 5,
   "id": "b6c194c6-c423-4d09-81f1-b732200e1f5e",
   "metadata": {},
   "outputs": [],
   "source": [
    "def messages_for(website):\n",
    "    return [\n",
    "        {\"role\": \"system\", \"content\": system_prompt},\n",
    "        {\"role\": \"user\", \"content\": user_prompt_for(website)}\n",
    "    ]"
   ]
  },
  {
   "cell_type": "code",
   "execution_count": 6,
   "id": "162480fc-b37d-407a-8e80-01c73d2056d0",
   "metadata": {},
   "outputs": [],
   "source": [
    "OLLAMA_API = \"http://localhost:11434/api/chat\"\n",
    "HEADERS = {\"Content-Type\": \"application/json\"}\n",
    "MODEL = \"llama3.2\""
   ]
  },
  {
   "cell_type": "code",
   "execution_count": 7,
   "id": "13410ff3-3d09-457f-9b0e-30585a93d3db",
   "metadata": {},
   "outputs": [],
   "source": [
    "def summarize(url):\n",
    "    website = Website(url)\n",
    "    payload = {\"messages\": messages_for(website), \"model\": MODEL, \"stream\": False}\n",
    "    response = requests.post(OLLAMA_API, headers = HEADERS, json = payload)\n",
    "    print(response.json()[\"message\"][\"content\"])"
   ]
  },
  {
   "cell_type": "code",
   "execution_count": 8,
   "id": "fb649ce0-585a-4436-a916-0282c69342a6",
   "metadata": {},
   "outputs": [
    {
     "name": "stdout",
     "output_type": "stream",
     "text": [
      "**Summary of the Website**\n",
      "==========================\n",
      "\n",
      "The website is titled \"Your Career in Web Development Starts Here | The Odin Project\" and appears to be a free, open-source online learning platform for web development.\n",
      "\n",
      "### Curriculum Overview\n",
      "\n",
      "* Offers a full stack curriculum that includes HTML, CSS, JavaScript, React, NodeJS, Ruby on Rails, and Ruby.\n",
      "* Curated online tutorials, blogs, and courses are presented in a logical order.\n",
      "* Students can build dozens of portfolio-worthy projects along the way.\n",
      "\n",
      "### Community Features\n",
      "\n",
      "* Friendly community of beginner and experienced developers.\n",
      "* Forum for discussion and help with learning.\n",
      "\n",
      "### Success Stories\n",
      "\n",
      "The website showcases success stories from students who have completed the program, including:\n",
      "\n",
      "* Rob Pando: \"TOP was a perfect match for my learning style.\"\n",
      "* Cody Loyd: \"I was offered a job as a front-end developer after completing the program.\"\n",
      "* Andrej Dragojević: \"An incredible self-paced curriculum that consisted of the best resources for learning programming on the web.\"\n",
      "\n",
      "### Support and Funding\n",
      "\n",
      "* The Odin Project is funded by the community.\n",
      "* Students can donate to support the project and its mission.\n",
      "\n",
      "### Additional Resources\n",
      "\n",
      "* GitHub repository.\n",
      "* Discord server.\n",
      "* Facebook and Twitter pages.\n"
     ]
    }
   ],
   "source": [
    "summarize(\"https://www.theodinproject.com/\")"
   ]
  },
  {
   "cell_type": "code",
   "execution_count": null,
   "id": "a16c85f8-e3e8-455a-8daf-ce2d364ec905",
   "metadata": {},
   "outputs": [],
   "source": []
  }
 ],
 "metadata": {
  "kernelspec": {
   "display_name": "Python 3 (ipykernel)",
   "language": "python",
   "name": "python3"
  },
  "language_info": {
   "codemirror_mode": {
    "name": "ipython",
    "version": 3
   },
   "file_extension": ".py",
   "mimetype": "text/x-python",
   "name": "python",
   "nbconvert_exporter": "python",
   "pygments_lexer": "ipython3",
   "version": "3.12.4"
  }
 },
 "nbformat": 4,
 "nbformat_minor": 5
}
