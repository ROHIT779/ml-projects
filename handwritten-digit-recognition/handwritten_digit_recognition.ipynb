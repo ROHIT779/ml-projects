{
  "cells": [
    {
      "cell_type": "markdown",
      "metadata": {
        "id": "QX-RtuJzUJkS"
      },
      "source": [
        "## Handwritten Digit Recognition - using MNIST dataset"
      ]
    },
    {
      "cell_type": "markdown",
      "metadata": {
        "id": "6iV2_cjqUNsR"
      },
      "source": [
        "### Importing Libraries"
      ]
    },
    {
      "cell_type": "code",
      "execution_count": 11,
      "metadata": {
        "id": "HFPZW4Qvd0Ne"
      },
      "outputs": [],
      "source": [
        "import numpy as np\n",
        "import pandas as pd\n",
        "import matplotlib.pyplot as plt\n",
        "from sklearn.preprocessing import StandardScaler\n",
        "from sklearn.linear_model import LogisticRegression\n",
        "from sklearn.model_selection import train_test_split\n",
        "from sklearn.neighbors import KNeighborsClassifier\n",
        "from sklearn.ensemble import RandomForestClassifier\n",
        "from sklearn.metrics import accuracy_score\n",
        "import keras\n",
        "from keras.datasets import mnist\n",
        "import copy\n",
        "from collections import Counter"
      ]
    },
    {
      "cell_type": "markdown",
      "metadata": {
        "id": "yN0WUZWEUFpw"
      },
      "source": [
        "### Loading data"
      ]
    },
    {
      "cell_type": "code",
      "execution_count": 12,
      "metadata": {
        "colab": {
          "base_uri": "https://localhost:8080/"
        },
        "id": "PHjXeCJGetNo",
        "outputId": "33b66cba-e253-4335-9dd0-88c8361145ea"
      },
      "outputs": [
        {
          "output_type": "stream",
          "name": "stdout",
          "text": [
            "Training features shape: (60000, 28, 28)\n",
            "Training target shape: (60000,)\n",
            "Test features shape: (10000, 28, 28)\n",
            "Test target shape: (60000,)\n",
            "X_train sample data: \n",
            "[[  0   0   0   0   0   0   0   0   0   0   0   0   0   0   0   0   0   0\n",
            "    0   0   0   0   0   0   0   0   0   0]\n",
            " [  0   0   0   0   0   0   0   0   0   0   0   0   0   0   0   0   0   0\n",
            "    0   0   0   0   0   0   0   0   0   0]\n",
            " [  0   0   0   0   0   0   0   0   0   0   0   0   0   0   0   0   0   0\n",
            "    0   0   0   0   0   0   0   0   0   0]\n",
            " [  0   0   0   0   0   0   0   0   0   0   0   0   0   0   0   0   0   0\n",
            "    0   0   0   0   0   0   0   0   0   0]\n",
            " [  0   0   0   0   0   0   0   0   0   0   0   0   0   0   0   0   0   0\n",
            "    0   0   0   0   0   0   0   0   0   0]\n",
            " [  0   0   0   0   0   0   0   0   0   0   0   0   3  18  18  18 126 136\n",
            "  175  26 166 255 247 127   0   0   0   0]\n",
            " [  0   0   0   0   0   0   0   0  30  36  94 154 170 253 253 253 253 253\n",
            "  225 172 253 242 195  64   0   0   0   0]\n",
            " [  0   0   0   0   0   0   0  49 238 253 253 253 253 253 253 253 253 251\n",
            "   93  82  82  56  39   0   0   0   0   0]\n",
            " [  0   0   0   0   0   0   0  18 219 253 253 253 253 253 198 182 247 241\n",
            "    0   0   0   0   0   0   0   0   0   0]\n",
            " [  0   0   0   0   0   0   0   0  80 156 107 253 253 205  11   0  43 154\n",
            "    0   0   0   0   0   0   0   0   0   0]\n",
            " [  0   0   0   0   0   0   0   0   0  14   1 154 253  90   0   0   0   0\n",
            "    0   0   0   0   0   0   0   0   0   0]\n",
            " [  0   0   0   0   0   0   0   0   0   0   0 139 253 190   2   0   0   0\n",
            "    0   0   0   0   0   0   0   0   0   0]\n",
            " [  0   0   0   0   0   0   0   0   0   0   0  11 190 253  70   0   0   0\n",
            "    0   0   0   0   0   0   0   0   0   0]\n",
            " [  0   0   0   0   0   0   0   0   0   0   0   0  35 241 225 160 108   1\n",
            "    0   0   0   0   0   0   0   0   0   0]\n",
            " [  0   0   0   0   0   0   0   0   0   0   0   0   0  81 240 253 253 119\n",
            "   25   0   0   0   0   0   0   0   0   0]\n",
            " [  0   0   0   0   0   0   0   0   0   0   0   0   0   0  45 186 253 253\n",
            "  150  27   0   0   0   0   0   0   0   0]\n",
            " [  0   0   0   0   0   0   0   0   0   0   0   0   0   0   0  16  93 252\n",
            "  253 187   0   0   0   0   0   0   0   0]\n",
            " [  0   0   0   0   0   0   0   0   0   0   0   0   0   0   0   0   0 249\n",
            "  253 249  64   0   0   0   0   0   0   0]\n",
            " [  0   0   0   0   0   0   0   0   0   0   0   0   0   0  46 130 183 253\n",
            "  253 207   2   0   0   0   0   0   0   0]\n",
            " [  0   0   0   0   0   0   0   0   0   0   0   0  39 148 229 253 253 253\n",
            "  250 182   0   0   0   0   0   0   0   0]\n",
            " [  0   0   0   0   0   0   0   0   0   0  24 114 221 253 253 253 253 201\n",
            "   78   0   0   0   0   0   0   0   0   0]\n",
            " [  0   0   0   0   0   0   0   0  23  66 213 253 253 253 253 198  81   2\n",
            "    0   0   0   0   0   0   0   0   0   0]\n",
            " [  0   0   0   0   0   0  18 171 219 253 253 253 253 195  80   9   0   0\n",
            "    0   0   0   0   0   0   0   0   0   0]\n",
            " [  0   0   0   0  55 172 226 253 253 253 253 244 133  11   0   0   0   0\n",
            "    0   0   0   0   0   0   0   0   0   0]\n",
            " [  0   0   0   0 136 253 253 253 212 135 132  16   0   0   0   0   0   0\n",
            "    0   0   0   0   0   0   0   0   0   0]\n",
            " [  0   0   0   0   0   0   0   0   0   0   0   0   0   0   0   0   0   0\n",
            "    0   0   0   0   0   0   0   0   0   0]\n",
            " [  0   0   0   0   0   0   0   0   0   0   0   0   0   0   0   0   0   0\n",
            "    0   0   0   0   0   0   0   0   0   0]\n",
            " [  0   0   0   0   0   0   0   0   0   0   0   0   0   0   0   0   0   0\n",
            "    0   0   0   0   0   0   0   0   0   0]]\n",
            "y_train[0-5]: [5 0 4 1 9]\n"
          ]
        }
      ],
      "source": [
        "(x_train, y_train), (x_test, y_test) = mnist.load_data()\n",
        "print(f\"Training features shape: {x_train.shape}\")\n",
        "print(f\"Training target shape: {y_train.shape}\")\n",
        "print(f\"Test features shape: {x_test.shape}\")\n",
        "print(f\"Test target shape: {y_train.shape}\")\n",
        "print(f\"X_train sample data: \\n{x_train[0]}\")\n",
        "print(f\"y_train[0-5]: {y_train[:5]}\")"
      ]
    },
    {
      "cell_type": "markdown",
      "metadata": {
        "id": "EFHNBo1hUf9Q"
      },
      "source": [
        "### Preprocessing - flattening (28 x 28) matrix to 784 features"
      ]
    },
    {
      "cell_type": "code",
      "execution_count": 13,
      "metadata": {
        "colab": {
          "base_uri": "https://localhost:8080/"
        },
        "id": "H2UWKuJZftEp",
        "outputId": "d573479f-2f3d-490b-d513-f7df3cf48f5d"
      },
      "outputs": [
        {
          "output_type": "stream",
          "name": "stdout",
          "text": [
            "(60000, 784)\n",
            "(10000, 784)\n"
          ]
        }
      ],
      "source": [
        "def preprocess(x_train, x_test, y_train, y_test):\n",
        "  x_train_new = []\n",
        "  x_test_new = []\n",
        "  nrows = len(x_train[0])\n",
        "  ncols = len(x_train[0])\n",
        "  max_value = 255\n",
        "  for k in range(len(x_train)):\n",
        "    new_row = []\n",
        "    for i in range(nrows):\n",
        "      for j in range(ncols):\n",
        "        new_row.append(x_train[k][i][j])\n",
        "    x_train_new.append(new_row)\n",
        "\n",
        "  for k in range(len(x_test)):\n",
        "    new_row = []\n",
        "    for i in range(nrows):\n",
        "      for j in range(ncols):\n",
        "        new_row.append(x_test[k][i][j])\n",
        "    x_test_new.append(new_row)\n",
        "  x_train_new = np.array(x_train_new) / max_value\n",
        "  x_test_new = np.array(x_test_new) / max_value\n",
        "  print(x_train_new.shape)\n",
        "  print(x_test_new.shape)\n",
        "  return x_train_new, x_test_new, y_train, y_test\n",
        "x_train_new, x_test_new, y_train_new, y_test_new = preprocess(x_train, x_test, y_train, y_test)"
      ]
    },
    {
      "cell_type": "markdown",
      "metadata": {
        "id": "tfqJwMahZEq4"
      },
      "source": [
        "### Utility functions"
      ]
    },
    {
      "cell_type": "code",
      "execution_count": 14,
      "metadata": {
        "id": "GSI3gZChW78S"
      },
      "outputs": [],
      "source": [
        "def confusion_matrix(y_test, y_pred, num_classes = 10):\n",
        "  matrix = np.zeros((num_classes, num_classes))\n",
        "  labels = range(10)\n",
        "  for i in range(len(y_test)):\n",
        "    if(y_test[i] == y_pred[i]):\n",
        "      matrix[y_test[i]][y_test[i]] += 1\n",
        "    else:\n",
        "      matrix[y_test[i]][y_pred[i]] += 1\n",
        "  return pd.DataFrame(matrix, index = labels, columns = labels, dtype = 'int64')\n",
        "\n",
        "def get_results(y_test, y_pred):\n",
        "  cm = confusion_matrix(y_test, y_pred)\n",
        "  acc_score = accuracy_score(y_test, y_pred)\n",
        "  print(\"Confusion Matrix: \")\n",
        "  print(cm)\n",
        "  print(\"Accuracy Score: \")\n",
        "  print(acc_score)\n",
        "  print(\"\\n\")\n",
        "  precision = np.zeros(num_classes)\n",
        "  recall = np.zeros(num_classes)\n",
        "  f1_score = np.zeros(num_classes)\n",
        "  matrix = confusion_matrix(y_test, y_pred)\n",
        "  for j in range(num_classes):\n",
        "    precision[j] = matrix[j][j] / matrix.loc[:, j].sum()\n",
        "  for i in range(num_classes):\n",
        "    recall[i] = matrix[i][i] / matrix.loc[i, :].sum()\n",
        "  for i in range(num_classes):\n",
        "    f1_score[i] = (2 * precision[i] * recall[i]) / (precision[i] + recall[i])\n",
        "    print(f\"Class {i} - precision: {precision[i]}, recall: {recall[i]}, F1-score: {f1_score[i]}\")\n",
        "  return acc_score"
      ]
    },
    {
      "cell_type": "markdown",
      "metadata": {
        "id": "PvyPU-gLUt4o"
      },
      "source": [
        "### Implementing Multinomial Logistic Regression (using softmax)"
      ]
    },
    {
      "cell_type": "code",
      "execution_count": 15,
      "metadata": {
        "id": "879BnXBVIaMx"
      },
      "outputs": [],
      "source": [
        "class MultinomialLogisticRegression:\n",
        "\n",
        "  def __init__(self, num_features, num_classes, learning_rate=0.01, epochs=1000):\n",
        "      self.num_features = num_features\n",
        "      self.num_classes = num_classes\n",
        "      self.learning_rate = learning_rate\n",
        "      self.epochs = epochs\n",
        "      self.W = np.random.randn(num_features, num_classes) * 0.01\n",
        "      self.b = np.zeros((1, num_classes))\n",
        "\n",
        "  def softmax(self, z):\n",
        "    z_max = np.max(z, axis = 1, keepdims = True)\n",
        "    exp_z = np.exp(z - z_max)\n",
        "    return exp_z / np.sum(exp_z, axis = 1, keepdims = True)\n",
        "\n",
        "  def cross_entropy_loss(self, y, y_pred):\n",
        "    m = y.shape[0]\n",
        "    y_pred_log = np.log(y_pred + 1e-10)\n",
        "    return -np.sum(y * y_pred_log) / m\n",
        "\n",
        "  def one_hot_encode(self, y, num_classes):\n",
        "    one_hot = np.zeros((y.size, num_classes))\n",
        "    one_hot[np.arange(y.size), y] = 1\n",
        "    return one_hot\n",
        "\n",
        "  def fit(self, X, y):\n",
        "    m = X.shape[0]\n",
        "    Y = self.one_hot_encode(y, self.num_classes)\n",
        "    loss_history = []\n",
        "    epoch_history = []\n",
        "    for epoch in range(self.epochs):\n",
        "      z = np.dot(X, self.W) + self.b\n",
        "      y_pred = self.softmax(z)\n",
        "      loss = self.cross_entropy_loss(Y, y_pred)\n",
        "      if(epoch % 100 == 0):\n",
        "        print(f\"Epoch: {epoch},  Loss: {loss:.4f}\")\n",
        "        epoch_history.append(epoch)\n",
        "        loss_history.append(loss)\n",
        "      error = y_pred - Y\n",
        "      dj_dw = np.dot(X.T, error) / m\n",
        "      dj_db = np.sum(error, axis = 0, keepdims = True) / m\n",
        "      self.W -= self.learning_rate * dj_dw\n",
        "      self.b -= self.learning_rate * dj_db\n",
        "    return epoch_history, loss_history\n",
        "\n",
        "  def predict(self, X):\n",
        "    z = np.dot(X, self.W) + self.b\n",
        "    y_pred = self.softmax(z)\n",
        "    return np.argmax(y_pred, axis = 1)\n",
        "\n",
        "  def predict_prob(self, X):\n",
        "    z = np.dot(X, self.W) + self.b\n",
        "    return self.softmax(z)"
      ]
    },
    {
      "cell_type": "code",
      "execution_count": 16,
      "metadata": {
        "colab": {
          "base_uri": "https://localhost:8080/"
        },
        "id": "kBvQtr9HpTCg",
        "outputId": "e77a5147-646b-43ae-9b91-2dca91fa26b7"
      },
      "outputs": [
        {
          "output_type": "stream",
          "name": "stdout",
          "text": [
            "Epoch: 0,  Loss: 2.3277\n",
            "Epoch: 100,  Loss: 0.6104\n",
            "Epoch: 200,  Loss: 0.4903\n",
            "Epoch: 300,  Loss: 0.4411\n",
            "Epoch: 400,  Loss: 0.4127\n"
          ]
        }
      ],
      "source": [
        "np.random.seed(42)\n",
        "num_samples = x_train_new.shape[0]\n",
        "num_features = x_train_new.shape[1]\n",
        "num_classes = 10\n",
        "\n",
        "model = MultinomialLogisticRegression(num_features, num_classes, learning_rate=0.1, epochs=500)\n",
        "epochs, losses = model.fit(x_train_new, y_train_new)"
      ]
    },
    {
      "cell_type": "code",
      "execution_count": 17,
      "metadata": {
        "colab": {
          "base_uri": "https://localhost:8080/",
          "height": 564
        },
        "id": "0REDow0aVlcR",
        "outputId": "cb2e8735-6485-439d-b8c1-cef8d1e436bc"
      },
      "outputs": [
        {
          "output_type": "display_data",
          "data": {
            "text/plain": [
              "<Figure size 800x600 with 1 Axes>"
            ],
            "image/png": "[encoded data removed]"
          },
          "metadata": {}
        }
      ],
      "source": [
        "plt.figure(figsize = (8, 6))\n",
        "plt.plot(epochs, losses, c = 'green')\n",
        "plt.title('Epochs vs Losses for Multinomial Logistic Regression')\n",
        "plt.xlabel('Epochs')\n",
        "plt.ylabel('Losses')\n",
        "plt.show()"
      ]
    },
    {
      "cell_type": "code",
      "execution_count": 18,
      "metadata": {
        "colab": {
          "base_uri": "https://localhost:8080/"
        },
        "id": "6hnGWrW6WaQz",
        "outputId": "a1b001fb-7409-4c08-d0e9-70b570df4c02"
      },
      "outputs": [
        {
          "output_type": "stream",
          "name": "stdout",
          "text": [
            "Confusion Matrix: \n",
            "     0     1    2    3    4    5    6    7    8    9\n",
            "0  957     0    3    3    0    1    9    1    6    0\n",
            "1    0  1103    2    4    1    2    4    0   19    0\n",
            "2   11     7  888   20   15    0   17   21   44    9\n",
            "3    5     1   19  900    1   30    5   15   22   12\n",
            "4    1     6    5    1  902    1   12    2    8   44\n",
            "5   15     6    5   42   15  734   17   10   37   11\n",
            "6   16     3    7    2   14   17  894    1    4    0\n",
            "7    3    19   30    4   11    0    0  917    4   40\n",
            "8    9    10   10   30    8   29   12   13  836   17\n",
            "9   12     8    6    9   47   16    0   24    7  880\n",
            "Accuracy Score: \n",
            "0.9011\n",
            "\n",
            "\n",
            "Class 0 - precision: 0.9300291545189504, recall: 0.976530612244898, F1-score: 0.9527127924340467\n",
            "Class 1 - precision: 0.9484092863284609, recall: 0.9718061674008811, F1-score: 0.9599651871192342\n",
            "Class 2 - precision: 0.9107692307692308, recall: 0.8604651162790697, F1-score: 0.8849028400597908\n",
            "Class 3 - precision: 0.8866995073891626, recall: 0.8910891089108911, F1-score: 0.888888888888889\n",
            "Class 4 - precision: 0.8895463510848126, recall: 0.9185336048879837, F1-score: 0.903807615230461\n",
            "Class 5 - precision: 0.8843373493975903, recall: 0.8228699551569507, F1-score: 0.8524970963995354\n",
            "Class 6 - precision: 0.9216494845360824, recall: 0.9331941544885177, F1-score: 0.9273858921161826\n",
            "Class 7 - precision: 0.9133466135458167, recall: 0.892023346303502, F1-score: 0.9025590551181102\n",
            "Class 8 - precision: 0.8470111448834853, recall: 0.8583162217659137, F1-score: 0.8526262111167772\n",
            "Class 9 - precision: 0.8687068114511353, recall: 0.8721506442021804, F1-score: 0.8704253214638972\n"
          ]
        },
        {
          "output_type": "execute_result",
          "data": {
            "text/plain": [
              "0.9011"
            ]
          },
          "metadata": {},
          "execution_count": 18
        }
      ],
      "source": [
        "y_pred_logistic_multi = model.predict(x_test_new)\n",
        "get_results(y_test_new, y_pred_logistic_multi)"
      ]
    },
    {
      "cell_type": "markdown",
      "metadata": {
        "id": "YaBljegjagze"
      },
      "source": [
        "### Using Library to implement Logistic Regression"
      ]
    },
    {
      "cell_type": "code",
      "execution_count": 19,
      "metadata": {
        "id": "Wcn7VOJgAzLd",
        "colab": {
          "base_uri": "https://localhost:8080/"
        },
        "outputId": "a816eb6b-4143-4ef9-f8ca-cfc260b81827"
      },
      "outputs": [
        {
          "output_type": "stream",
          "name": "stdout",
          "text": [
            "Confusion Matrix: \n",
            "     0     1    2    3    4    5    6    7    8    9\n",
            "0  959     0    0    3    1    7    5    4    1    0\n",
            "1    0  1111    4    2    0    2    3    2   11    0\n",
            "2    6     9  926   16    9    4   13    6   39    4\n",
            "3    4     1   18  917    1   22    4   11   25    7\n",
            "4    1     1    7    3  914    0   10    4   10   32\n",
            "5   10     2    3   34    7  783   14    6   29    4\n",
            "6    9     3    8    2    7   14  912    2    1    0\n",
            "7    1     8   24    5    7    1    0  950    3   29\n",
            "8    9    11    8   23    7   25   12    7  860   12\n",
            "9    9     8    0   11   24    6    0   19    7  925\n",
            "Accuracy Score: \n",
            "0.9257\n",
            "\n",
            "\n",
            "Class 0 - precision: 0.9513888888888888, recall: 0.9785714285714285, F1-score: 0.9647887323943661\n",
            "Class 1 - precision: 0.962738301559792, recall: 0.9788546255506608, F1-score: 0.9707295762341633\n",
            "Class 2 - precision: 0.9278557114228457, recall: 0.8972868217054264, F1-score: 0.9123152709359605\n",
            "Class 3 - precision: 0.9025590551181102, recall: 0.907920792079208, F1-score: 0.9052319842053308\n",
            "Class 4 - precision: 0.9355168884339816, recall: 0.9307535641547862, F1-score: 0.9331291475242471\n",
            "Class 5 - precision: 0.90625, recall: 0.8778026905829597, F1-score: 0.8917995444191344\n",
            "Class 6 - precision: 0.9373072970195272, recall: 0.9519832985386222, F1-score: 0.9445882962195753\n",
            "Class 7 - precision: 0.9396636993076162, recall: 0.9241245136186771, F1-score: 0.9318293281020108\n",
            "Class 8 - precision: 0.8722109533468559, recall: 0.8829568788501027, F1-score: 0.8775510204081632\n",
            "Class 9 - precision: 0.9131293188548865, recall: 0.9167492566897919, F1-score: 0.9149357072205736\n"
          ]
        },
        {
          "output_type": "stream",
          "name": "stderr",
          "text": [
            "/usr/local/lib/python3.12/dist-packages/sklearn/linear_model/_logistic.py:465: ConvergenceWarning: lbfgs failed to converge (status=1):\n",
            "STOP: TOTAL NO. OF ITERATIONS REACHED LIMIT.\n",
            "\n",
            "Increase the number of iterations (max_iter) or scale the data as shown in:\n",
            "    https://scikit-learn.org/stable/modules/preprocessing.html\n",
            "Please also refer to the documentation for alternative solver options:\n",
            "    https://scikit-learn.org/stable/modules/linear_model.html#logistic-regression\n",
            "  n_iter_i = _check_optimize_result(\n"
          ]
        }
      ],
      "source": [
        "def build_logistic_regression(x_train, y_train):\n",
        "  classifier = LogisticRegression(random_state = 0)\n",
        "  classifier.fit(x_train_new, y_train)\n",
        "  return classifier\n",
        "\n",
        "logistic_classifier = build_logistic_regression(x_train_new, y_train_new)\n",
        "y_pred_logistic = logistic_classifier.predict(x_test_new)\n",
        "logistic_score = get_results(y_test_new, y_pred_logistic)"
      ]
    },
    {
      "cell_type": "markdown",
      "metadata": {
        "id": "5sdnC2Qpapw5"
      },
      "source": [
        "### Implementing K-nearest-neighbors"
      ]
    },
    {
      "cell_type": "code",
      "execution_count": 20,
      "metadata": {
        "id": "hgdGTV8Kx4YM"
      },
      "outputs": [],
      "source": [
        "class KNN:\n",
        "  def __init__(self, k = 5):\n",
        "    self.k = k\n",
        "\n",
        "  def euclidean_distance(self, x1, x2):\n",
        "    return np.sqrt(np.sum((x1 - x2) ** 2))\n",
        "\n",
        "  def fit(self, x, y):\n",
        "    self.x_train = x\n",
        "    self.y_train = y\n",
        "\n",
        "  def predict(self, x):\n",
        "    predictions = [self.predict_single(x_i) for x_i in x]\n",
        "    return np.array(predictions)\n",
        "\n",
        "  def predict_single(self, x):\n",
        "    distances = [self.euclidean_distance(x, x_train_i) for x_train_i in self.x_train]\n",
        "    k_indices = np.argsort(distances)[:self.k]\n",
        "    k_nearest_labels = [self.y_train[i] for i in k_indices]\n",
        "    most_common = Counter(k_nearest_labels).most_common(1)\n",
        "    return most_common[0][0]\n",
        "\n",
        "  def predict_prob(self, x):\n",
        "    probabilities = []\n",
        "    for x_i in x:\n",
        "      distances = [self.euclidean_distance(x_i, x_train_i) for x_train_i in self.x_train]\n",
        "      k_indices = np.argsort(distances)[:self.k]\n",
        "      k_nearest_labels = [self.y_train[i] for i in k_indices]\n",
        "      class_counts = Counter(k_nearest_labels)\n",
        "      prob = np.zeros(10)\n",
        "      for cls in class_counts:\n",
        "        prob[cls] = class_counts[cls] / self.k\n",
        "      probabilities.append(prob)\n",
        "    return np.array(probabilities)"
      ]
    },
    {
      "cell_type": "code",
      "execution_count": 21,
      "metadata": {
        "id": "c-YsWHgD85ZV",
        "colab": {
          "base_uri": "https://localhost:8080/"
        },
        "outputId": "a082ac23-3a26-4e36-fe47-349c50c5e8ef"
      },
      "outputs": [
        {
          "output_type": "stream",
          "name": "stdout",
          "text": [
            "Predictions: [7 2 1 0 4 1 9 9 4 7 0 6 9 0 1 3 9 7 3 4 9 6 6 5 4 0 9 4 0 1 3 1 3 4 7 2 7\n",
            " 1 1 1 1 7 4 1 1 5 1 2 4 4 6 3 5 5 0 0 4 1 9 1 7 2 9 9 7 9 2 4 3 0 7 0 2 9\n",
            " 1 7 3 7 9 7 9 6 2 9 8 4 7 3 6 1 3 6 9 3 1 4 1 7 6 9]\n",
            "Probabilities:\n",
            " [[0.  0.8 0.  ... 0.  0.2 0. ]\n",
            " [0.  0.8 0.  ... 0.  0.2 0. ]\n",
            " [0.  0.8 0.  ... 0.  0.2 0. ]\n",
            " ...\n",
            " [0.  0.8 0.  ... 0.  0.2 0. ]\n",
            " [0.  0.8 0.  ... 0.  0.2 0. ]\n",
            " [0.  0.8 0.  ... 0.  0.2 0. ]]\n",
            "Accuracy: 0.83\n"
          ]
        }
      ],
      "source": [
        "# Using m/100 data to reduce training time\n",
        "m = x_train.shape[0] / 100\n",
        "n = x_train.shape[1]\n",
        "num_classes = 10\n",
        "\n",
        "knn = KNN(k=5)\n",
        "knn.fit(x_train_new[:600], y_train_new[:600])\n",
        "\n",
        "predictions = knn.predict(x_test_new[:100])\n",
        "probabilities = knn.predict_prob(x_test_new[100])\n",
        "\n",
        "print(\"Predictions:\", predictions)\n",
        "print(\"Probabilities:\\n\", probabilities)\n",
        "\n",
        "accuracy = np.mean(predictions == y_test_new[:100])\n",
        "print(\"Accuracy:\", accuracy)"
      ]
    },
    {
      "cell_type": "markdown",
      "metadata": {
        "id": "SfOvMr2abBYN"
      },
      "source": [
        "### Using Library to implement K-nearest-neighbor"
      ]
    },
    {
      "cell_type": "code",
      "execution_count": 22,
      "metadata": {
        "id": "4CpFpKygElm7",
        "colab": {
          "base_uri": "https://localhost:8080/"
        },
        "outputId": "7148e78b-e5b6-49e2-986d-e3fd659fffae"
      },
      "outputs": [
        {
          "output_type": "stream",
          "name": "stdout",
          "text": [
            "Confusion Matrix: \n",
            "     0     1    2    3    4    5    6    7    8    9\n",
            "0  974     1    1    0    0    1    2    1    0    0\n",
            "1    0  1133    2    0    0    0    0    0    0    0\n",
            "2   11     8  991    2    1    0    1   15    3    0\n",
            "3    0     3    3  976    1   13    1    6    3    4\n",
            "4    3     7    0    0  944    0    4    2    1   21\n",
            "5    5     0    0   12    2  862    4    1    2    4\n",
            "6    5     3    0    0    3    2  945    0    0    0\n",
            "7    0    22    4    0    3    0    0  988    0   11\n",
            "8    8     3    5   13    6   12    5    5  913    4\n",
            "9    5     7    3    9    7    3    1   10    2  962\n",
            "Accuracy Score: \n",
            "0.9688\n",
            "\n",
            "\n",
            "Class 0 - precision: 0.963402571711177, recall: 0.9938775510204082, F1-score: 0.9784028126569563\n",
            "Class 1 - precision: 0.9545071609098568, recall: 0.9982378854625551, F1-score: 0.9758828596037898\n",
            "Class 2 - precision: 0.9821605550049554, recall: 0.9602713178294574, F1-score: 0.9710926016658501\n",
            "Class 3 - precision: 0.9644268774703557, recall: 0.9663366336633663, F1-score: 0.9653808110781404\n",
            "Class 4 - precision: 0.9762150982419855, recall: 0.9613034623217923, F1-score: 0.9687018984094408\n",
            "Class 5 - precision: 0.9652855543113102, recall: 0.9663677130044843, F1-score: 0.9658263305322129\n",
            "Class 6 - precision: 0.9813084112149533, recall: 0.9864300626304802, F1-score: 0.9838625715773036\n",
            "Class 7 - precision: 0.9610894941634242, recall: 0.9610894941634242, F1-score: 0.9610894941634242\n",
            "Class 8 - precision: 0.9880952380952381, recall: 0.9373716632443532, F1-score: 0.9620653319283456\n",
            "Class 9 - precision: 0.9562624254473161, recall: 0.9534192269573836, F1-score: 0.9548387096774195\n"
          ]
        }
      ],
      "source": [
        "def build_knn_classifier(X_train, y_train):\n",
        "  classifier = KNeighborsClassifier(n_neighbors = 5, metric = 'euclidean', p = 2)\n",
        "  classifier.fit(X_train, y_train)\n",
        "  return classifier\n",
        "knn_classifier = build_knn_classifier(x_train_new, y_train_new)\n",
        "y_pred_knn = knn_classifier.predict(x_test_new)\n",
        "knn_score = get_results(y_test_new, y_pred_knn)"
      ]
    },
    {
      "cell_type": "markdown",
      "metadata": {
        "id": "MJOC2OodbKBS"
      },
      "source": [
        "### Using Library to implement Random Forest"
      ]
    },
    {
      "cell_type": "code",
      "execution_count": 23,
      "metadata": {
        "id": "_uoH4B1gHX3g",
        "colab": {
          "base_uri": "https://localhost:8080/"
        },
        "outputId": "e40386f4-3be2-4d75-8987-c562c9644365"
      },
      "outputs": [
        {
          "output_type": "stream",
          "name": "stdout",
          "text": [
            "Confusion Matrix: \n",
            "     0     1    2    3    4    5    6    7    8    9\n",
            "0  969     0    0    0    0    3    3    1    3    1\n",
            "1    0  1122    3    3    0    3    2    1    1    0\n",
            "2    7     0  999    6    3    0    4    9    4    0\n",
            "3    0     0   10  972    0    6    0    9    8    5\n",
            "4    1     0    1    0  958    0    4    1    4   13\n",
            "5    3     0    0   10    2  862    8    1    5    1\n",
            "6    6     3    0    0    5    4  936    0    4    0\n",
            "7    1     6   21    2    0    0    0  987    3    8\n",
            "8    5     0    5    4    3    8    3    4  931   11\n",
            "9    8     6    1   13   13    3    1    3    5  956\n",
            "Accuracy Score: \n",
            "0.9692\n",
            "\n",
            "\n",
            "Class 0 - precision: 0.969, recall: 0.9887755102040816, F1-score: 0.9787878787878789\n",
            "Class 1 - precision: 0.9868073878627969, recall: 0.9885462555066079, F1-score: 0.9876760563380281\n",
            "Class 2 - precision: 0.9605769230769231, recall: 0.9680232558139535, F1-score: 0.9642857142857144\n",
            "Class 3 - precision: 0.9623762376237623, recall: 0.9623762376237623, F1-score: 0.9623762376237623\n",
            "Class 4 - precision: 0.9735772357723578, recall: 0.9755600814663951, F1-score: 0.9745676500508647\n",
            "Class 5 - precision: 0.96962879640045, recall: 0.9663677130044843, F1-score: 0.9679955081414936\n",
            "Class 6 - precision: 0.9739854318418314, recall: 0.9770354906054279, F1-score: 0.9755080771235017\n",
            "Class 7 - precision: 0.9714566929133859, recall: 0.9601167315175098, F1-score: 0.9657534246575343\n",
            "Class 8 - precision: 0.9617768595041323, recall: 0.9558521560574949, F1-score: 0.9588053553038105\n",
            "Class 9 - precision: 0.9608040201005025, recall: 0.9474727452923687, F1-score: 0.9540918163672655\n"
          ]
        }
      ],
      "source": [
        "def build_random_forest_classifier(X_train, y_train):\n",
        "  classifier = RandomForestClassifier(n_estimators = 100, criterion = 'entropy', random_state = 0)\n",
        "  classifier.fit(X_train, y_train)\n",
        "  return classifier\n",
        "\n",
        "rf_classifier = build_random_forest_classifier(x_train_new, y_train_new)\n",
        "y_pred_rf = rf_classifier.predict(x_test_new)\n",
        "rf_score = get_results(y_test_new, y_pred_rf)"
      ]
    }
  ],
  "metadata": {
    "colab": {
      "provenance": []
    },
    "kernelspec": {
      "display_name": "Python 3",
      "name": "python3"
    },
    "language_info": {
      "name": "python"
    }
  },
  "nbformat": 4,
  "nbformat_minor": 0
}